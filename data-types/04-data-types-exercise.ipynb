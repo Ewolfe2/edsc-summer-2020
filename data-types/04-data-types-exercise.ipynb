{
 "cells": [
  {
   "cell_type": "markdown",
   "metadata": {},
   "source": [
    "<img style=\"float: left;\" src=\"../earth-lab-logo-rgb.png\" width=\"150\" height=\"150\">\n",
    "\n",
    "# Earth Data Science Corps Summer 2020\n",
    "\n",
    "![Colored Bar](../colored-bar.png)\n",
    "\n",
    "## Earth Science Data Types Exercises \n",
    "\n",
    "Now that you have learned how to open and manipulate certain types of geospatial data in **Python**, it's time to test your skills! Complete the activites below. Feel free to work with a colleague or friend! "
   ]
  },
  {
   "cell_type": "markdown",
   "metadata": {},
   "source": [
    "<div class=\"notice--warning\" markdown=\"1\">\n",
    "\n",
    "## <i class=\"fa fa-pencil-square-o\" aria-hidden=\"true\"></i> Challenge: Open a Text File\n",
    "\n",
    "Below there are two cells of code. The first one imports all of the libraries needed for this challenge, and the second downloads data. This download is of a CSV file that contains data on \n",
    "</div>"
   ]
  },
  {
   "cell_type": "code",
   "execution_count": 7,
   "metadata": {},
   "outputs": [],
   "source": [
    "import os\n",
    "import pandas as pd\n",
    "import geopandas as gpd\n",
    "import matplotlib.pyplot as plt\n",
    "\n",
    "import earthpy as et"
   ]
  },
  {
   "cell_type": "code",
   "execution_count": 8,
   "metadata": {},
   "outputs": [
    {
     "name": "stdout",
     "output_type": "stream",
     "text": [
      "OSMP_Climbing_Formations.csv\n",
      "County_Boundary.geojson\n",
      "City_Limits.geojson\n"
     ]
    }
   ],
   "source": [
    "# Download the data and set working directory\n",
    "et.data.get_data(\n",
    "    url='https://opendata.arcgis.com/datasets/175425c25d8849b58feb89483ef02961_1.csv')\n",
    "et.data.get_data(\n",
    "    url=\"http://gis-bouldercounty.opendata.arcgis.com/datasets/964b8f3b3dbe401bb28d49ac93d29dc4_0.geojson\")\n",
    "et.data.get_data(\n",
    "    url=\"https://opendata.arcgis.com/datasets/955e7a0f52474b60a9866950daf10acb_0.geojson\")\n",
    "\n",
    "# Set working directory - earthpy creates earth-analytics for you in your home dir\n",
    "os.chdir(os.path.join(et.io.HOME, 'earth-analytics'))"
   ]
  },
  {
   "cell_type": "code",
   "execution_count": 9,
   "metadata": {
    "scrolled": false
   },
   "outputs": [
    {
     "data": {
      "text/html": [
       "<div>\n",
       "<style scoped>\n",
       "    .dataframe tbody tr th:only-of-type {\n",
       "        vertical-align: middle;\n",
       "    }\n",
       "\n",
       "    .dataframe tbody tr th {\n",
       "        vertical-align: top;\n",
       "    }\n",
       "\n",
       "    .dataframe thead th {\n",
       "        text-align: right;\n",
       "    }\n",
       "</style>\n",
       "<table border=\"1\" class=\"dataframe\">\n",
       "  <thead>\n",
       "    <tr style=\"text-align: right;\">\n",
       "      <th></th>\n",
       "      <th>X</th>\n",
       "      <th>Y</th>\n",
       "      <th>OBJECTID</th>\n",
       "      <th>ID</th>\n",
       "      <th>FEATURE</th>\n",
       "      <th>ROUTES</th>\n",
       "      <th>HCA</th>\n",
       "      <th>OWNER</th>\n",
       "      <th>SeasonalClosure</th>\n",
       "      <th>AreaAccess</th>\n",
       "      <th>AKA</th>\n",
       "      <th>ClosureActive</th>\n",
       "      <th>PERMITREQ</th>\n",
       "      <th>FormationType</th>\n",
       "      <th>Display</th>\n",
       "    </tr>\n",
       "  </thead>\n",
       "  <tbody>\n",
       "    <tr>\n",
       "      <th>0</th>\n",
       "      <td>-105.294224</td>\n",
       "      <td>40.005020</td>\n",
       "      <td>1</td>\n",
       "      <td>1.0</td>\n",
       "      <td>Pumpkin Rock</td>\n",
       "      <td>4.0</td>\n",
       "      <td>No</td>\n",
       "      <td>OSMP</td>\n",
       "      <td>N</td>\n",
       "      <td>Flagstaff</td>\n",
       "      <td>First Areas</td>\n",
       "      <td>N</td>\n",
       "      <td>No</td>\n",
       "      <td>Boulder</td>\n",
       "      <td>Yes</td>\n",
       "    </tr>\n",
       "    <tr>\n",
       "      <th>1</th>\n",
       "      <td>-105.287861</td>\n",
       "      <td>39.975276</td>\n",
       "      <td>2</td>\n",
       "      <td>2.0</td>\n",
       "      <td>Veranda</td>\n",
       "      <td>2.0</td>\n",
       "      <td>No</td>\n",
       "      <td>OSMP</td>\n",
       "      <td>N</td>\n",
       "      <td>NCAR</td>\n",
       "      <td>NaN</td>\n",
       "      <td>N</td>\n",
       "      <td>No</td>\n",
       "      <td>Wall</td>\n",
       "      <td>Yes</td>\n",
       "    </tr>\n",
       "    <tr>\n",
       "      <th>2</th>\n",
       "      <td>-105.293598</td>\n",
       "      <td>39.995411</td>\n",
       "      <td>3</td>\n",
       "      <td>3.0</td>\n",
       "      <td>Third Pinnacle</td>\n",
       "      <td>7.0</td>\n",
       "      <td>No</td>\n",
       "      <td>OSMP</td>\n",
       "      <td>Y</td>\n",
       "      <td>Gregory Canyon</td>\n",
       "      <td>NaN</td>\n",
       "      <td>N</td>\n",
       "      <td>No</td>\n",
       "      <td>Wall</td>\n",
       "      <td>Yes</td>\n",
       "    </tr>\n",
       "    <tr>\n",
       "      <th>3</th>\n",
       "      <td>-105.294391</td>\n",
       "      <td>39.986358</td>\n",
       "      <td>4</td>\n",
       "      <td>4.0</td>\n",
       "      <td>The Fin</td>\n",
       "      <td>1.0</td>\n",
       "      <td>No</td>\n",
       "      <td>OSMP</td>\n",
       "      <td>Y</td>\n",
       "      <td>Chautauqua</td>\n",
       "      <td>NaN</td>\n",
       "      <td>Y</td>\n",
       "      <td>No</td>\n",
       "      <td>Wall</td>\n",
       "      <td>Yes</td>\n",
       "    </tr>\n",
       "    <tr>\n",
       "      <th>4</th>\n",
       "      <td>-105.292811</td>\n",
       "      <td>39.995952</td>\n",
       "      <td>5</td>\n",
       "      <td>6.0</td>\n",
       "      <td>First Pinnacle</td>\n",
       "      <td>23.0</td>\n",
       "      <td>No</td>\n",
       "      <td>OSMP</td>\n",
       "      <td>Y</td>\n",
       "      <td>Gregory Canyon</td>\n",
       "      <td>NaN</td>\n",
       "      <td>N</td>\n",
       "      <td>No</td>\n",
       "      <td>Wall</td>\n",
       "      <td>Yes</td>\n",
       "    </tr>\n",
       "  </tbody>\n",
       "</table>\n",
       "</div>"
      ],
      "text/plain": [
       "            X          Y  OBJECTID   ID         FEATURE  ROUTES HCA OWNER  \\\n",
       "0 -105.294224  40.005020         1  1.0    Pumpkin Rock     4.0  No  OSMP   \n",
       "1 -105.287861  39.975276         2  2.0         Veranda     2.0  No  OSMP   \n",
       "2 -105.293598  39.995411         3  3.0  Third Pinnacle     7.0  No  OSMP   \n",
       "3 -105.294391  39.986358         4  4.0         The Fin     1.0  No  OSMP   \n",
       "4 -105.292811  39.995952         5  6.0  First Pinnacle    23.0  No  OSMP   \n",
       "\n",
       "  SeasonalClosure      AreaAccess          AKA ClosureActive PERMITREQ  \\\n",
       "0               N       Flagstaff  First Areas             N        No   \n",
       "1               N            NCAR          NaN             N        No   \n",
       "2               Y  Gregory Canyon          NaN             N        No   \n",
       "3               Y      Chautauqua          NaN             Y        No   \n",
       "4               Y  Gregory Canyon          NaN             N        No   \n",
       "\n",
       "  FormationType Display  \n",
       "0       Boulder     Yes  \n",
       "1          Wall     Yes  \n",
       "2          Wall     Yes  \n",
       "3          Wall     Yes  \n",
       "4          Wall     Yes  "
      ]
     },
     "execution_count": 9,
     "metadata": {},
     "output_type": "execute_result"
    }
   ],
   "source": [
    "pd_data = pd.read_csv(os.path.join('data', 'earthpy-downloads', 'OSMP_Climbing_Formations.csv'))\n",
    "pd_data.head()"
   ]
  },
  {
   "cell_type": "code",
   "execution_count": 10,
   "metadata": {},
   "outputs": [
    {
     "data": {
      "text/plain": [
       "<matplotlib.axes._subplots.AxesSubplot at 0x7f2ce3d11ad0>"
      ]
     },
     "execution_count": 10,
     "metadata": {},
     "output_type": "execute_result"
    },
    {
     "data": {
      "image/png": "[encoded data removed]",
      "text/plain": [
       "<Figure size 432x288 with 1 Axes>"
      ]
     },
     "metadata": {
      "needs_background": "light"
     },
     "output_type": "display_data"
    }
   ],
   "source": [
    "gpd_data = gpd.GeoDataFrame(pd_data, geometry=gpd.points_from_xy(pd_data.X, pd_data.Y))\n",
    "\n",
    "gpd_data.plot()"
   ]
  },
  {
   "cell_type": "code",
   "execution_count": 13,
   "metadata": {},
   "outputs": [
    {
     "data": {
      "text/plain": [
       "<matplotlib.axes._subplots.AxesSubplot at 0x7f2ce14a5fd0>"
      ]
     },
     "execution_count": 13,
     "metadata": {},
     "output_type": "execute_result"
    },
    {
     "data": {
      "image/png": "[encoded data removed]",
      "text/plain": [
       "<Figure size 432x288 with 1 Axes>"
      ]
     },
     "metadata": {
      "needs_background": "light"
     },
     "output_type": "display_data"
    }
   ],
   "source": [
    "ye = gpd.read_file(os.path.join(\"data\", \"earthpy-downloads\", \"County_Boundary.geojson\"))\n",
    "ya = gpd.read_file(os.path.join(\"data\", \"earthpy-downloads\", \"City_Limits.geojson\"))\n",
    "ye.boundary.plot()"
   ]
  },
  {
   "cell_type": "code",
   "execution_count": 14,
   "metadata": {},
   "outputs": [
    {
     "data": {
      "image/png": "[encoded data removed]",
      "text/plain": [
       "<Figure size 432x288 with 1 Axes>"
      ]
     },
     "metadata": {
      "needs_background": "light"
     },
     "output_type": "display_data"
    }
   ],
   "source": [
    "fig, ax = plt.subplots()\n",
    "\n",
    "ya.boundary.plot(ax=ax)\n",
    "ye.boundary.plot(ax=ax)\n",
    "gpd_data.plot(ax=ax);"
   ]
  }
 ],
 "metadata": {
  "kernelspec": {
   "display_name": "Python 3",
   "language": "python",
   "name": "python3"
  },
  "language_info": {
   "codemirror_mode": {
    "name": "ipython",
    "version": 3
   },
   "file_extension": ".py",
   "mimetype": "text/x-python",
   "name": "python",
   "nbconvert_exporter": "python",
   "pygments_lexer": "ipython3",
   "version": "3.7.6"
  }
 },
 "nbformat": 4,
 "nbformat_minor": 4
}
