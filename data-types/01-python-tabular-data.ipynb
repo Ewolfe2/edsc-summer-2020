{
 "cells": [
  {
   "cell_type": "markdown",
   "metadata": {},
   "source": [
    "<img style=\"float: left;\" src=\"../earth-lab-logo-rgb.png\" width=\"150\" height=\"150\">\n",
    "\n",
    "# Earth Data Science Corps Summer 2020\n",
    "\n",
    "![Colored Bar](../colored-bar.png)"
   ]
  },
  {
   "cell_type": "markdown",
   "metadata": {},
   "source": [
    "<div class='notice--success' markdown=\"1\">\n",
    "\n",
    "## <i class=\"fa fa-graduation-cap\" aria-hidden=\"true\"></i> Learning Objectives\n",
    "\n",
    "At the end of this activity, you will be able to:\n",
    "\n",
    "* Define the structure of tabular data.\n",
    "* Describe the difference between the two common types of tabular text file formats: `txt` and `csv` files.\n",
    "* Be able to list some commonly used scientific data types that often are downloaded in a tabular format. \n",
    "\n",
    "</div>"
   ]
  },
  {
   "cell_type": "markdown",
   "metadata": {},
   "source": [
    "# TODO - EDIT\n",
    "## Text files in Python ADDING THIS FROM NATHAN\"S FILE. \n",
    "lauren i think may not have seen that this file was created and started already??\n",
    "\n",
    "### .txt vs .csv\n",
    "\n",
    "So far, you have been storing data in variables, and making all of the data yourself. When you made a list, you had to either copy/paste the data into the list or rewrite all the data by hand. There are other ways to read data into **Python**! One of the most common ways to read data into **Python** is with text files. \n",
    "\n",
    "Text files are what they sound like, files filled with text. Generally, text files will have a special character to denotate a new line, or a return, in the file. In **Python**, this is generally the `\\n` character. This allows **Python** break up the text to read it line by line. \n",
    "\n",
    "The most common type of text files are text (.txt) and comma seperated values (.csv) files. Text (.txt) files are the standard text file and can store any unformatted text characters. A .csv file is a type of .txt file, which stores data separated by commas, hence the name. \n",
    "\n",
    "## What is Tabular Data?\n",
    "\n",
    "Tabular data are data that are stored in a row / column format. Columns (and \n",
    "sometimes rows) are often identified by headers, which if named correctly, explain\n",
    "what is in that row or column. You may already be \n",
    "familiar with spreadsheet tools such as Excel and Google Sheets that can be \n",
    "used to open tabular data. \n",
    "\n",
    "## The Structure of a Text of Tabular Data Set \n",
    "\n",
    "### Tabular Data Is Defined by Rows and Columns \n",
    "In the example below, you see a table of values \n",
    "that represent precipitation for 3 days. The headers in the data include \n",
    "\n",
    "* `day` and\n",
    "* `precipitation-mm`\n",
    "\n",
    "\n",
    "| day   | precipitation-mm    |  \n",
    "|:----------|:-------------|\n",
    "| monday | 0 | \n",
    "| tuesday | 1   | \n",
    "| wednesday | 5 | \n",
    "\n",
    "The tabular data above contains 4 rows - the first of which (row 1) is a header row and subsequent rows contain data. The table also has 2 columns. \n",
    "\n",
    "\n",
    "## Common Tabular Data File Types: .csv and .txt\n",
    "\n",
    "Tabular data can be downloaded in many different file formats. Spreadsheet formats \n",
    "include `.xls` and `xlsx` which can be directly opened in Microsoft \n",
    "Excel. When you are downloading Earth and Environmental data, you will often \n",
    "see tabluar data stored in file formats including: \n",
    "\n",
    "* `.csv`: Comma Separated Values - This file has each column separated (delimited) by a comma. \n",
    "* `.txt`: A basic text file. In a `txt` file, often the delimiter (the thing that separates out each column) can vary. Delimiters are discussed below in more detail. \n",
    "\n",
    "These formats are text based and often can be opened in a text editor like Atom or Notepad. \n",
    "They can be then imported into **Python** using **Pandas** for further exploration \n",
    "and processing. \n",
    "\n",
    "<i class=\"fa fa-star\"></i> **Data Tip:** The challenge with graphical user \n",
    "interface (GUI) based tools like Excel\n",
    "is that they often have limitations when it comes to working with larger files. \n",
    "Further, it becomes difficult to recreate workflows implemented in Excel because\n",
    "you are often pressing buttons rather than scripting workflows. You can use \n",
    "Open Source Python to implement any workflow you might implement in Excel \n",
    "and that workflow can become fully sharable and reproducible! \n",
    "{: .notice--success }\n",
    "\n",
    "## Text Files & Delimiters\n",
    "\n",
    "A delimiter refers to the character that defines the boundary for different sets of information. \n",
    "In a text file, the delimiter defines the boundary between columns. A line break (a return) defines \n",
    "each row. \n",
    "\n",
    "Below you will find an example of a space delimited text file. In the example below, each column of data \n",
    "is separated by a comma `,`. The data also include a header row which is also separated by commas.\n",
    "\n",
    "```\n",
    "site_code, year, month, day, hour, minute, second, time_decimal, value, value_std_dev  \n",
    "BRW,1973,1,1,0,0,0,1973.0,-999.99,-99.99\n",
    "BRW,1973,2,1,0,0,0,1973.0849315068492,-999.99,-99.99 \n",
    "BRW,1973,3,1,0,0,0,1973.1616438356164,-999.99,-99.99 \n",
    "```\n",
    "\n",
    "Here is an example of a space delimited text file. In the example below, each column of data \n",
    "are separated by a single space. \n",
    "\n",
    "```\n",
    "site_code year month day hour minute second time_decimal value value_std_dev  \n",
    "BRW 1973 1 1 0 0 0 1973.0 -999.99 -99.99\n",
    "BRW 1973 2 1 0 0 0 1973.0849315068492 -999.99 -99.99 \n",
    "BRW 1973 3 1 0 0 0 1973.1616438356164 -999.99 -99.99 \n",
    "```\n",
    "\n",
    "There are many different types of delimiters including:\n",
    "\n",
    "* tabs\n",
    "* commas\n",
    "* 1 (or more) spaces\n",
    "\n",
    "Sometimes you will find other characters used as delimiters but the above-listed options are the most common. \n",
    "\n",
    "<i class=\"fa fa-star\"></i> **Data Tip:** The `.csv` file format is most often delimited by a comma. Hence the name: Comma Separated value.\n",
    "{: .notice--success }\n",
    "\n",
    "\n",
    "\n",
    "## Earth and Environmental Data That Are Stored In Text File Format\n",
    "\n",
    "There are many different types of data that are stored in text and tabular file formats.\n",
    "Below you will see a few different examples of data that are provided in this format. You\n",
    "will also explore some of the cleanup steps that you need to import and begin to work with \n",
    "the data. \n",
    "\n",
    "<i class=\"fa fa-star\"></i> **Data Tip:** Not all text files store tabular text (character) based data. The `.asc` file format is a text based format that stores spatial raster data.  \n",
    "{: .notice--success }\n",
    "\n"
   ]
  },
  {
   "cell_type": "code",
   "execution_count": null,
   "metadata": {
    "lines_to_next_cell": 2
   },
   "outputs": [],
   "source": [
    "# Import packages\n",
    "import os\n",
    "import matplotlib.pyplot as plt\n",
    "import pandas as pd"
   ]
  },
  {
   "cell_type": "markdown",
   "metadata": {},
   "source": [
    "If you have a url that directly links directly to a file online, you can \n",
    "open it directly using pandas `.read_csv()`. Have a look at the data below - \n",
    "and notice that is has:\n",
    "\n",
    "* 3 columns: months, precip and seasons\n",
    "* 12 rows: notice that the first row is numered as `0`. This is because indexing \n",
    "in Python always starts at 0 rather than 1. \n",
    "\n",
    "# TODO add link to zero based indexing lesson wherever we talk about it in our textbook -- ask jenny\n",
    "\n",
    "JP: the first mention of indexing in the Intro textbook is on the list lesson; there is not a separate lesson on indexing in Python: /\n",
    "\n",
    "<a href=\"https://www.earthdatascience.org/courses/intro-to-earth-data-science/python-code-fundamentals/get-started-using-python/lists/#list-index-in-python\" target = \"_link\" >Textbook Section on Zero-based Indexing in Python </a> "
   ]
  },
  {
   "cell_type": "code",
   "execution_count": null,
   "metadata": {},
   "outputs": [],
   "source": [
    "# Download and open the .csv file using Pandas\n",
    "avg_monthly_precip = pd.read_csv(\n",
    "    \"https://ndownloader.figshare.com/files/12710618\")\n",
    "\n",
    "# View the data that you just downloaded and opened\n",
    "avg_monthly_precip"
   ]
  },
  {
   "cell_type": "markdown",
   "metadata": {},
   "source": [
    "In **Pandas**, this table format is referred to as a dataframe. \n",
    "You can view some stats about the dataframe including the number of columns \n",
    "and rows in the data using `.info()`."
   ]
  },
  {
   "cell_type": "code",
   "execution_count": null,
   "metadata": {},
   "outputs": [],
   "source": [
    "avg_monthly_precip.info()"
   ]
  },
  {
   "cell_type": "markdown",
   "metadata": {},
   "source": [
    "Finally, you can easily plot the data using `.plot()`."
   ]
  },
  {
   "cell_type": "code",
   "execution_count": null,
   "metadata": {},
   "outputs": [],
   "source": [
    "# Plot the data\n",
    "f, ax = plt.subplots()\n",
    "avg_monthly_precip.plot(x=\"months\",\n",
    "                        y=\"precip\",\n",
    "                        title=\"Precipitation (mm) for One Year\",\n",
    "                        ax=ax)\n",
    "ax.set(xlabel='Month',\n",
    "       ylabel='Precipitation (mm)')\n",
    "plt.show()"
   ]
  },
  {
   "cell_type": "markdown",
   "metadata": {},
   "source": [
    "<div class=\"notice--warning\" markdown=\"1\">\n",
    "\n",
    "## <i class=\"fa fa-pencil-square-o\" aria-hidden=\"true\"></i> ## Challenge\n",
    "\n",
    "* Use Python to determine the `type` of data stored in `avg_monthly_precip`\n",
    "\n",
    "HINT: you learned how to do this in the variables lessons last week \n",
    "\n",
    "\n",
    "</div>\n"
   ]
  },
  {
   "cell_type": "code",
   "execution_count": null,
   "metadata": {
    "lines_to_next_cell": 2
   },
   "outputs": [],
   "source": [
    "# Check the type of the variable avg_monthly_precip in this cell  "
   ]
  },
  {
   "cell_type": "markdown",
   "metadata": {},
   "source": [
    "<div class=\"notice--warning\" markdown=\"1\">\n",
    "\n",
    "## <i class=\"fa fa-pencil-square-o\" aria-hidden=\"true\"></i> ## Challenge\n",
    "\n",
    "In most programming languages, you can customize the options for how a function \n",
    "runs by using parameters. Examples of parameters in the plot above include: \n",
    "\n",
    "* `x=\"months\"` - tell python which data to place on the x-axis\n",
    "* `y=\"precip\"` - tell python which data to place on the y-axis\n",
    "\n",
    "Above you created a line plot. You can use the `kind=\"\"` parameter to \n",
    "modify the type of plot that pandas created. You can use the `color=\"\"` \n",
    "parameter to specify a color that you wish to use for each bar in the plot. \n",
    "\n",
    "Do the following:\n",
    "\n",
    "1. copy the code below into the code cell below this Markdown cell.\n",
    "2. Add `kind=\"bar\"` to the `.plot()` method. \n",
    "3. Specify the color of each bar using the `color=\"\"` parameter. \n",
    "\n",
    "Run your cell and see what the final plot looks like. You can select \n",
    "any color that you wish to complete your plot. \n",
    "\n",
    "Use this link to find a list of colors (open it in a new browser tab!) https://het.as.utexas.edu/HET/Software/Matplotlib/api/colors_api.html\n",
    "\n",
    "\n",
    "```python\n",
    "f, ax = plt.subplots()\n",
    "avg_monthly_precip.plot(x=\"months\",\n",
    "                        y=\"precip\",\n",
    "                        title=\"Precipitation (mm) for One Year\",\n",
    "                        ax=ax)\n",
    "ax.set(xlabel='Month',\n",
    "       ylabel='Precipitation (mm)')\n",
    "plt.show()\n",
    "```\n",
    "\n",
    "</div>"
   ]
  },
  {
   "cell_type": "code",
   "execution_count": null,
   "metadata": {},
   "outputs": [],
   "source": [
    "# Modify your original plot to be a bar plot using kind=\n",
    "# Change the color of the bars using color=\n"
   ]
  },
  {
   "cell_type": "markdown",
   "metadata": {},
   "source": [
    "## Cleaning Tabular Text Files So You Can Open Them in Python\n",
    "\n",
    "## Missing Data Values & Headers in Text Files\n",
    "\n",
    "Not all text files are as simple as the example above. Many text files have \n",
    "several lines of header text above the data that provide you with useful information\n",
    "about the data itself. This data is referred to as metadata. \n",
    "\n",
    "Also, often times, there are data missing from the data that were collected. \n",
    "These missing values will be identified using a specific value that is hopefully\n",
    "documented in the metadata for that file. \n",
    "\n",
    "Next you will explore some temperature data that need to be cleaned up. \n"
   ]
  },
  {
   "cell_type": "markdown",
   "metadata": {},
   "source": [
    "Data source: https://www.ncdc.noaa.gov/cag/city/time-series/\n",
    "\n",
    "Miami, Florida: https://www.ncdc.noaa.gov/cag/city/time-series/USW00012839-tmax-12-12-1895-2020.csv \n",
    "Seattle, Washington: https://www.ncdc.noaa.gov/cag/city/time-series/USW00013895-tmax-1-5-1895-2020.csv "
   ]
  },
  {
   "cell_type": "code",
   "execution_count": null,
   "metadata": {},
   "outputs": [],
   "source": [
    "# Maybe a city dataset would be better here?\n",
    "temp_data = \"https://www.ncdc.noaa.gov/cag/city/time-series/USW00012839-tmax-12-12-1895-2020.csv\" \n",
    "\n",
    "miami_temp = pd.read_csv(temp_data)\n",
    "miami_temp"
   ]
  },
  {
   "cell_type": "markdown",
   "metadata": {},
   "source": [
    "Notice that the data above contain a few extra rows of information. This \n",
    "information however is important for you to understand. \n",
    "\n",
    "* `Missing: -99` -- this is the value that represents the \"no data\" value. Misisng data might occur if a sensor stops working or a measurement isn't recorded. You will want to remove any missing data values.\n",
    "* `Units: Degrees Fahrenheit` -- it's always important to first understand the units of the data before you try to interpret what the data are showing!  \n",
    "\n",
    "Below you will use all of the information stored in the header to import your data.\n",
    "You will also remove the first few rows of data because they don't actually contain any\n",
    "data values. These rows contain metadata. \n",
    "\n",
    "### Function Parameters in Python\n",
    "\n",
    "A parameter refers to an option that you can specify when running a function \n",
    "in **Python**. You can adjust the parameters associated with importing your data \n",
    "in the same way that you adjusted the plot type and colors above. \n",
    "\n",
    "Below you use: \n",
    "\n",
    "* `skiprows=`: to tell **Python** to skip the first 3 rows of your data\n",
    "* `na_values=`: to tell **Python** to reassign any missing data values to \"NA\" \n",
    "\n",
    "NA refers to missing data. When you specify a value as NA (NaN or Not a Number \n",
    "in **Python**), it will not be included in plots or any mathematical operations.\n",
    "\n",
    "# TODO -- add links to missing data in python here..."
   ]
  },
  {
   "cell_type": "code",
   "execution_count": null,
   "metadata": {},
   "outputs": [],
   "source": [
    "# Open the Miami data skipping the first 3 rows and setting no data values\n",
    "miami_temp = pd.read_csv(temp_data,\n",
    "                        skiprows=3,\n",
    "                        na_values=-99)\n",
    "\n",
    "# View the first 5 rows of the data\n",
    "miami_temp.head()"
   ]
  },
  {
   "cell_type": "markdown",
   "metadata": {},
   "source": [
    "<div class=\"notice--warning\" markdown=\"1\">\n",
    "\n",
    "## <i class=\"fa fa-pencil-square-o\" aria-hidden=\"true\"></i> ## Challenge\n",
    "\n",
    "Now that you have imported temperature data for Miami, plot the \n",
    "data using the code example above!! In your plot code, set `Date` as your \n",
    "`x-axis` value and `Value` column as your `y-axis` value.\n",
    "\n",
    "</div>"
   ]
  },
  {
   "cell_type": "code",
   "execution_count": null,
   "metadata": {},
   "outputs": [],
   "source": [
    "# Add the code needed to plot the miami_data object below\n",
    "\n"
   ]
  },
  {
   "cell_type": "markdown",
   "metadata": {},
   "source": [
    "<div class=\"notice--warning\" markdown=\"1\">\n",
    "\n",
    "## <i class=\"fa fa-pencil-square-o\" aria-hidden=\"true\"></i> ## Challenge\n",
    "\n",
    "Use the link below to open and plot temperature data for Seattle, Washington. \n",
    "\n",
    "https://www.ncdc.noaa.gov/cag/city/time-series/USW00013895-tmax-1-5-1895-2020.csv \n",
    "\n",
    "</div>\n"
   ]
  },
  {
   "cell_type": "code",
   "execution_count": null,
   "metadata": {
    "lines_to_next_cell": 2
   },
   "outputs": [],
   "source": [
    "# Add your code to plot the data below"
   ]
  },
  {
   "cell_type": "markdown",
   "metadata": {},
   "source": [
    "https://www.ncdc.noaa.gov/cag/county/time-series/CO-013/tavg/all/1/1895-2020?base_prd=true&begbaseyear=1901&endbaseyear=2000 \n",
    "\n",
    "\n",
    "# TODO -- let's use this for a final activity??-- so leave this for now but it's an even more complex challenge. or it can just be an example of another data type.  \n",
    "\n",
    "Turn the below into a semi interactive activity. Essentially we can all open it together. \n",
    "And then note that there is some info at the top.\n",
    "\n",
    "Discussion points that we can talk about as a group\n",
    "\n",
    "1. no data\n",
    "2. additional rows at the top that we may not way\n",
    "3. units are in there too\n",
    "\n",
    "Activity can be to 1) open the data - be sure to skip the top rows and assign the no data value\n",
    "we can provide them with an example of how to do this\n",
    "\n",
    "Plot -- Value  on the y and Date on the x\n"
   ]
  },
  {
   "cell_type": "markdown",
   "metadata": {},
   "source": [
    "# TODO: this could be an interactive activity at the end.\n",
    "\n",
    "Let's come back to this as it could go here OR on the final activity page for this chapter?\n",
    "\n",
    "\n",
    "1. provide the code they need to download the data.\n",
    "2. then tell them to open the data and give them the parameters to open it successfully\n",
    "3. then have them plot the data \n",
    "\n",
    "\n",
    "Maybe we show them how to download the data and describe each step \n",
    "THen the activity can walk them through handing the bad data and skipping rows and such \n",
    "\n",
    "1. they look at the text file \n",
    "2. we tell them to plot time_decimal on the x and y = vaue\n",
    "3. we tell them that this particular function takes many different parameters -- \n",
    "\n",
    "* delimiter, skip rows (trick -- 0 based indexing needs to be considered\n",
    "na_values -- note about missing data \n",
    "\n"
   ]
  },
  {
   "cell_type": "code",
   "execution_count": null,
   "metadata": {},
   "outputs": [],
   "source": [
    "# Download greenhouse gas CO2 data\n",
    "import urllib.request\n",
    "\n",
    "greenhouse_gas_url = \"ftp://aftp.cmdl.noaa.gov/data/trace_gases/co2/in-situ/surface/brw/co2_brw_surface-insitu_1_ccgg_MonthlyData.txt\"\n",
    "\n",
    "urllib.request.urlretrieve(url=greenhouse_gas_url,\n",
    "                           filename=\"co2-emissions-barrow.csv\")\n",
    "\n",
    "greenhouse_gas_data = pd.read_csv(\"co2-emissions-barrow.csv\",\n",
    "                                  skiprows=148,\n",
    "                                  delimiter=\" \",\n",
    "                                  na_values=\"-999.99\")\n",
    "\n",
    "greenhouse_gas_data"
   ]
  },
  {
   "cell_type": "code",
   "execution_count": null,
   "metadata": {},
   "outputs": [],
   "source": [
    "f, ax = plt.subplots(figsize=(12, 6))\n",
    "greenhouse_gas_data.plot(x=\"time_decimal\",\n",
    "                         y=\"value\",\n",
    "                         title=\"CO2 emissions For Barrow, Alaska\",\n",
    "                         ax=ax)\n",
    "plt.show()"
   ]
  },
  {
   "cell_type": "markdown",
   "metadata": {},
   "source": [
    "# TODO -- leave this here for now but i think it would be a great final activity dataset for the spatial chapter potentially\n",
    "\n",
    "# this could be a final activity file -- because it includes spatial and tabular -- \n",
    "https://opendata.arcgis.com/datasets/175425c25d8849b58feb89483ef02961_1.csv \n"
   ]
  },
  {
   "cell_type": "markdown",
   "metadata": {},
   "source": [
    "<div class=\"notice--info\" markdown=\"1\">\n",
    "\n",
    "## Additional Resources\n",
    "\n",
    "</div>\n",
    "\n",
    "\n",
    "# TODO -- add links to relevant textbook chapters including\n",
    "\n",
    "* <a href=\"https://www.earthdatascience.org/courses/intro-to-earth-data-science/scientific-data-structures-python/pandas-dataframes/\" target = \"_link\" >Chapter on Pandas in the Intro to Earth Data Science textbook </a> \n",
    "* <a href=\"https://www.earthdatascience.org/courses/use-data-open-source-python/use-time-series-data-in-python/date-time-types-in-pandas-python/\" target = \"_link\" >Chapter on Time Series with Pandas </a>  \n",
    "* <a href=\"https://www.earthdatascience.org/courses/use-data-open-source-python/use-time-series-data-in-python/date-time-types-in-pandas-python/#work-with-no-data-values-in-pandas-dataframe\" target = \"_link\" > Textbook Section on Dealing with No Data Values in Pandas </a> "
   ]
  }
 ],
 "metadata": {
  "jupytext": {
   "formats": "ipynb,py:percent"
  },
  "kernelspec": {
   "display_name": "Python 3",
   "language": "python",
   "name": "python3"
  },
  "language_info": {
   "codemirror_mode": {
    "name": "ipython",
    "version": 3
   },
   "file_extension": ".py",
   "mimetype": "text/x-python",
   "name": "python",
   "nbconvert_exporter": "python",
   "pygments_lexer": "ipython3",
   "version": "3.7.6"
  },
  "toc": {
   "base_numbering": 1,
   "nav_menu": {},
   "number_sections": true,
   "sideBar": true,
   "skip_h1_title": false,
   "title_cell": "Table of Contents",
   "title_sidebar": "Contents",
   "toc_cell": false,
   "toc_position": {},
   "toc_section_display": true,
   "toc_window_display": true
  },
  "varInspector": {
   "cols": {
    "lenName": 16,
    "lenType": 16,
    "lenVar": 40
   },
   "kernels_config": {
    "python": {
     "delete_cmd_postfix": "",
     "delete_cmd_prefix": "del ",
     "library": "var_list.py",
     "varRefreshCmd": "print(var_dic_list())"
    },
    "r": {
     "delete_cmd_postfix": ") ",
     "delete_cmd_prefix": "rm(",
     "library": "var_list.r",
     "varRefreshCmd": "cat(var_dic_list()) "
    }
   },
   "types_to_exclude": [
    "module",
    "function",
    "builtin_function_or_method",
    "instance",
    "_Feature"
   ],
   "window_display": false
  }
 },
 "nbformat": 4,
 "nbformat_minor": 4
}
