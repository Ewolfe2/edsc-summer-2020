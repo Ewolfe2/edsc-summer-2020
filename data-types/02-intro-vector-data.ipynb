{
 "cells": [
  {
   "cell_type": "markdown",
   "metadata": {},
   "source": [
    "<img style=\"float: left;\" src=\"earth-lab-logo-rgb.png\" width=\"150\" height=\"150\">\n",
    "\n",
    "# Earth Data Science Corps Summer 2020\n",
    "\n",
    "![Colored Bar](colored-bar.png)\n",
    "\n",
    "## Introduction to Using Spatial Vector Data in Open Source Python"
   ]
  },
  {
   "cell_type": "markdown",
   "metadata": {},
   "source": [
    "<div class='notice--success' markdown=\"1\">\n",
    "\n",
    "## <i class=\"fa fa-ship\" aria-hidden=\"true\"></i> Fundamentals of Vector Data in Python \n",
    "\n",
    "In this lesson, you will be introduced to the spatial vector data structure\n",
    "and the shapefile file format (`.shp`). You will also learn how to open, explore and plot\n",
    "vector data using the **Geopandas** package in **Python**.\n",
    "\n",
    "\n",
    "## <i class=\"fa fa-graduation-cap\" aria-hidden=\"true\"></i> Learning Objectives\n",
    "\n",
    "After completing this lesson, you will be able to:\n",
    "\n",
    "* Describe the characteristics of 3 key vector data structures: points, lines and polygons.\n",
    "* Open a shapefile in **Python** using **Geopandas** - `gpd.read_file()`.\n",
    "* Plot a shapfile in **Python** using **Geopandas** - `gpd.plot()`.\n",
    "\n",
    "</div>\n",
    "\n",
    "# TODO: work this into the text\n",
    "Add this reading as a to do for all of the info below so we are not duplicating information \n",
    "Reading: https://www.earthdatascience.org/courses/use-data-open-source-python/intro-vector-data-python/spatial-data-vector-shapefiles/ "
   ]
  },
  {
   "cell_type": "markdown",
   "metadata": {},
   "source": [
    "## About Spatial Vector Data\n",
    "\n",
    "Vector data are composed of discrete geometric locations (x, y values) known as **vertices** that define the \"shape\" of the spatial object. The organization of the vertices determines the type of vector that you are working \n",
    "with. There are three types of vector data: \n",
    "\n",
    "* **Points:** Each individual point is defined by a single x, y coordinate. Examples of point data include: sampling locations, the location of individual trees or the location of plots.\n",
    "\n",
    "* **Lines:** Lines are composed of many (at least 2) vertices, or points, that are connected. For instance, a road or a stream may be represented by a line. This line is composed of a series of segments, each \"bend\" in the road or stream represents a vertex that has defined `x, y` location.\n",
    "\n",
    "* **Polygons:** A polygon consists of 3 or more vertices that are connected and \"closed\". Thus, the outlines of plot boundaries, lakes, oceans, and states or countries are often represented by polygons. \n",
    "<figure>\n",
    "    <a href=\"https://www.earthdatascience.org/images/earth-analytics/spatial-data/points-lines-polygons-vector-data-types.png\">\n",
    "    <img src=\"https://www.earthdatascience.org/images/earth-analytics/spatial-data/points-lines-polygons-vector-data-types.png\" alt=\"There are 3 types of vector objects: points, lines or polygons. Each object type has a different structure. Image Source: Colin Williams (NEON).\"></a>\n",
    "    <figcaption> There are 3 types of vector objects: points, lines or polygons. Each object type has a different structure. Image Source: Colin Williams (NEON)\n",
    "    </figcaption>\n",
    "</figure>\n",
    "\n",
    "\n",
    "## Introduction to the Shapefile File Format Which Stores Points, Lines, and Polygons\n",
    "\n",
    "Geospatial data in vector format are often stored in a `shapefile` \n",
    "format (`.shp`). Because the structure of points, lines, and polygons are \n",
    "different, each individual shapefile can only contain one vector \n",
    "type (all points, all lines or all polygons). You will not find \n",
    "a mixture of point, line and polygon objects in a single shapefile.\n",
    "\n",
    "Objects stored in a shapefile often have a set of associated \n",
    "`attributes` that describe the data. For example, a line \n",
    "shapefile that contains the locations of streams might also\n",
    "contain the associated stream name, stream \"order\" and other \n",
    "information about each stream line object.\n",
    "\n",
    "<i class=\"fa fa-star\"></i> **Data Tip:** More about shapefiles can found on \n",
    "<a href=\"https://en.wikipedia.org/wiki/Shapefile\" target=\"_blank\">Wikipedia</a>.\n",
    "{: .notice--success }\n",
    "\n",
    "## GeoJson Files and Other Vector Formats\n",
    "The shapefile is not the only way that vector data are stored. Geospatial data \n",
    "can also be delivered in a \n",
    "<a href=\"https://en.wikipedia.org/wiki/GeoJSON\" target=\"_blank\">GeoJSON format</a>, \n",
    "or even a tabular format where the spatial information is contained in columns. \n",
    "\n",
    "## What Data Are Stored In Spatial Vector Formats?  \n",
    "\n",
    "Some examples of data that often are provided in a vector format include:\n",
    "\n",
    "- census data including municipal boundaries\n",
    "- roads, powerlines and other infrastructure boundaries\n",
    "- political boundaries\n",
    "- building outlines\n",
    "- water bodies and river systems\n",
    "- ecological boundaries\n",
    "- city locations\n",
    "- object locations including plots, stream gages, and building locations\n"
   ]
  },
  {
   "cell_type": "markdown",
   "metadata": {},
   "source": [
    "## Import Shapefile Data Into Python Using Geopandas\n",
    "\n",
    "You will use the **geopandas** library to work with vector data in \n",
    "**Python**. **Geopandas** is built on top of the **Python** **Pandas** library.\n",
    "It stores spatial data in a tabular, `dataframe` format. "
   ]
  },
  {
   "cell_type": "code",
   "execution_count": null,
   "metadata": {},
   "outputs": [],
   "source": [
    "# Import packages\n",
    "import os\n",
    "import matplotlib.pyplot as plt\n",
    "import geopandas as gpd\n",
    "import earthpy as et"
   ]
  },
  {
   "cell_type": "markdown",
   "metadata": {},
   "source": [
    "To begin, set your working directory to `earth-analytics` and then download a \n",
    "single shapefile. You will start with working with the Natural Earth \n",
    "country boundary lines layer.\n",
    "\n",
    "<i class=\"fa fa-star\"></i> **Data Tip:**  Note that below you are using **EarthPy** \n",
    "to download a dataset from naturalearthdata.com. **EarthPy** creates the earth-analytics\n",
    "directory for you when you use it. You set the working directory\n",
    "after you download the data as a precaution to ensure that the earth-analytics\n",
    "directory already exists on your computer. This is not a standard order of \n",
    "operations but we are demonstrating it here to ensure the notebook runs on \n",
    "all computers! \n",
    "{: .notice--success }"
   ]
  },
  {
   "cell_type": "code",
   "execution_count": null,
   "metadata": {},
   "outputs": [],
   "source": [
    "# Download the data and set working directory\n",
    "et.data.get_data(\n",
    "    url='https://www.naturalearthdata.com/http//www.naturalearthdata.com/download/50m/cultural/ne_50m_admin_0_boundary_lines_land.zip')\n",
    "\n",
    "# Set working directory - earthpy creates earth-analytics for you in your home dir\n",
    "os.chdir(os.path.join(et.io.HOME, 'earth-analytics'))"
   ]
  },
  {
   "cell_type": "markdown",
   "metadata": {},
   "source": [
    "Next, you open the data using **Geopandas**. You can view the first 5 rows of the \n",
    "data using `.head()` in the same way you used `.head()` for **Pandas** dataframes. "
   ]
  },
  {
   "cell_type": "code",
   "execution_count": null,
   "metadata": {},
   "outputs": [],
   "source": [
    "coastlines_url = \"https://www.naturalearthdata.com/http//www.naturalearthdata.com/download/50m/physical/ne_50m_coastline.zip\"\n",
    "\n",
    "et.data.get_data(url=coastlines_url)\n",
    "\n",
    "coastlines_path = os.path.join(\"data\", \"earthpy-downloads\",\n",
    "                               \"ne_50m_coastline\",\n",
    "                               \"ne_50m_coastline.shp\")\n",
    "\n",
    "coastlines = gpd.read_file(coastlines_path)\n",
    "coastlines.head()"
   ]
  },
  {
   "cell_type": "markdown",
   "metadata": {},
   "source": [
    "### GeoPandas Creates GeoDataFrames Which Have the Same Structure As Pandas DataFrames\n",
    "\n",
    "The structure of a **Geopandas** `GeoDataFrame` is very similar to a \n",
    "**Pandas** dataframe. A few differences include:\n",
    "\n",
    "* the `GeoDataFrame` contains a geometry column which stores spatial information. The geometry column in your `GeoDataFrame` stores the boundary information (the lines that make up each \n",
    "shape in your data). This allows you to plot points, lines or polygons. \n",
    "* the`GeoDataFrame` stores spatial attributes such as coordinate reference systems and spatial extents.\n",
    "\n",
    "Similar to **Pandas**, you can plot the data using `.plot()`"
   ]
  },
  {
   "cell_type": "code",
   "execution_count": null,
   "metadata": {},
   "outputs": [],
   "source": [
    "# Plot the data\n",
    "f, ax1 = plt.subplots(figsize=(12, 6))\n",
    "coastlines.plot(ax=ax1)\n",
    "\n",
    "# Add a title to your plot\n",
    "ax1.set(title=\"Global Coastline Boundaries\")\n",
    "plt.show()"
   ]
  },
  {
   "cell_type": "markdown",
   "metadata": {},
   "source": [
    "### Check the Spatial Vector Data Type\n",
    "You can look at the data to figure out what type of data are stored in the \n",
    "shapefile (points, line or polygons). However, you can also get that information \n",
    "by calling `.geom_type`"
   ]
  },
  {
   "cell_type": "code",
   "execution_count": null,
   "metadata": {},
   "outputs": [],
   "source": [
    "# Is the geometry type point, line or polygon?\n",
    "coastlines.geom_type"
   ]
  },
  {
   "cell_type": "markdown",
   "metadata": {},
   "source": [
    "Also similar to **Pandas**, you can view descriptive information about the \n",
    "`GeoDataFrame` using `.info()`. This includes the number of columns, rows \n",
    "and the header name and type of each column."
   ]
  },
  {
   "cell_type": "code",
   "execution_count": null,
   "metadata": {},
   "outputs": [],
   "source": [
    "coastlines.info()"
   ]
  },
  {
   "cell_type": "markdown",
   "metadata": {},
   "source": [
    "## Open Vector Point Data\n",
    "\n",
    "Next, you will open up another shapefile using **Geopandas**.  "
   ]
  },
  {
   "cell_type": "code",
   "execution_count": null,
   "metadata": {},
   "outputs": [],
   "source": [
    "# Open a second layer\n",
    "et.data.get_data(\n",
    "    url='https://www.naturalearthdata.com/http//www.naturalearthdata.com/download/50m/cultural/ne_50m_populated_places_simple.zip')\n",
    "\n",
    "# Create a path to the populated places shapefile\n",
    "populated_places_path = os.path.join(\"data\", \"earthpy-downloads\",\n",
    "                                     \"ne_50m_populated_places_simple\",\n",
    "                                     \"ne_50m_populated_places_simple.shp\")\n",
    "\n",
    "cities = gpd.read_file(populated_places_path)\n",
    "cities.head()"
   ]
  },
  {
   "cell_type": "markdown",
   "metadata": {},
   "source": [
    "<div class=\"notice--warning\" markdown=\"1\">\n",
    "\n",
    "## <i class=\"fa fa-pencil-square-o\" aria-hidden=\"true\"></i> Challenge:  What Geometry Type Are Your Data\n",
    "\n",
    "Check the geometry type of the `cities` object that you opened above in the cell below. \n",
    "\n",
    "</div>\n"
   ]
  },
  {
   "cell_type": "code",
   "execution_count": null,
   "metadata": {},
   "outputs": [],
   "source": [
    "# Add the code here to check the geometry type of the cities object"
   ]
  },
  {
   "cell_type": "markdown",
   "metadata": {},
   "source": [
    "## Creating Maps Using Multiple Shapefiles\n",
    "\n",
    "You can create maps using multiple shapefiles with **Geopandas** in a similar way\n",
    "that you may do so using a graphical user interface (GUI) tool like ArcGIS \n",
    "or QGIS (open source alternative to ArcGIS).\n",
    "\n",
    "To do this you will need to open a second file. The populated places file is \n",
    "used below!"
   ]
  },
  {
   "cell_type": "markdown",
   "metadata": {},
   "source": [
    "To plot two datasets together, you will first create a **Matplotlib** figure object. \n",
    "Notice in the example below that you define the figure `ax` in the first line. \n",
    "You then tell **GeoPandas** to plot the data on that particular figure using the \n",
    "parameter `ax=`\n",
    "\n",
    "The code looks like this:\n",
    "\n",
    "`boundary_lines.plot(ax=ax1)`\n"
   ]
  },
  {
   "cell_type": "code",
   "execution_count": null,
   "metadata": {},
   "outputs": [],
   "source": [
    "f, ax1 = plt.subplots(figsize=(10, 6))\n",
    "coastlines.plot(ax=ax1)\n",
    "plt.show()"
   ]
  },
  {
   "cell_type": "markdown",
   "metadata": {},
   "source": [
    "To add another layer to your map, you can add a second `.plot()` call and \n",
    "specify the `ax=` to be `ax1` again. This tells **Python** to layer the two \n",
    "datasets in the same figure. "
   ]
  },
  {
   "cell_type": "code",
   "execution_count": null,
   "metadata": {},
   "outputs": [],
   "source": [
    "# Create a map or plot with two data layers\n",
    "f, ax1 = plt.subplots(figsize=(10, 6))\n",
    "coastlines.plot(ax=ax1,\n",
    "                color=\"black\")\n",
    "cities.plot(ax=ax1)\n",
    "\n",
    "# Add a title\n",
    "ax1.set(title=\"Map of Cities and Global Lines\")\n",
    "plt.show()"
   ]
  },
  {
   "cell_type": "markdown",
   "metadata": {},
   "source": [
    "If you don't specify the axis when you plot using `ax=`, each layer will be plotted on a \n",
    "separate figure! See the example below."
   ]
  },
  {
   "cell_type": "code",
   "execution_count": null,
   "metadata": {},
   "outputs": [],
   "source": [
    "f, ax1 = plt.subplots(figsize=(10, 6))\n",
    "coastlines.plot(ax=ax1)\n",
    "cities.plot()\n",
    "plt.show()"
   ]
  },
  {
   "cell_type": "markdown",
   "metadata": {},
   "source": [
    "<div class=\"notice--warning\" markdown=\"1\">\n",
    "\n",
    "## <i class=\"fa fa-pencil-square-o\" aria-hidden=\"true\"></i> Challenge: Create a Global Map\n",
    "\n",
    "The code below will download one additional file for you that contains global country \n",
    "boundaries. Your goal is to create a map that contains 3 layers:\n",
    "\n",
    "1. the cities or populated places layer that you opened above\n",
    "2. the coastlines layer that you opened above and\n",
    "3. the countries layer that you will open using the code below\n",
    "\n",
    "To create a map with the three layers, you can:\n",
    "1. Copy the code below that downloads the countries layer into the cell below. \n",
    "2. Next, use **Geopandas** `read_file()` to open the countries layer as a `GeoDataFrame`.\n",
    "3. Create a map of all three layers - in the same figure using the same `ax=`. The countries should be the bottom layer, and the cities and lines should be on top of that layer.  \n",
    "\n",
    "```python\n",
    "country_data_url = \"https://www.naturalearthdata.com/http//www.naturalearthdata.com/download/50m/cultural/ne_50m_admin_0_countries.zip\"\n",
    "et.data.get_data(url=country_data_url)\n",
    "\n",
    "# Create a path to the countries shapefile\n",
    "countries_path = os.path.join(\"data\", \"earthpy-downloads\",\n",
    "                              \"ne_10m_admin_0_countries\", \n",
    "                              \"ne_10m_admin_0_countries.shp\")\n",
    "```\n",
    "\n",
    "### Challenge BONUS: Customize your Map\n",
    "\n",
    "If you have time, customize your map as follows:\n",
    "    \n",
    "* Adjust the linewidth of lines with `linewidth=4`\n",
    "* Adjust the edge color of polygons using: `edgecolor=\"grey\"`\n",
    "* Adjust the color of your objects (the line color, or point color) using: `color='springgreen'`. \n",
    "    \n",
    "Finally, add a title to your map using\n",
    "`ax1.set(title=\"my title here\")`\n",
    "\n",
    "</div>\n"
   ]
  },
  {
   "cell_type": "code",
   "execution_count": null,
   "metadata": {},
   "outputs": [],
   "source": [
    "# Write the code for your map in this cell"
   ]
  },
  {
   "cell_type": "markdown",
   "metadata": {},
   "source": [
    "\n",
    "<div class=\"notice--success\" markdown=\"1\">\n",
    "<i class=\"fa fa-star\"></i> **Data Tip:** There are many options to customize plots in Python. Below are \n",
    "a few lessons that cover some of this information!\n",
    "\n",
    "* https://www.earthdatascience.org/courses/scientists-guide-to-plotting-data-in-python/plot-spatial-data/customize-vector-plots/python-customize-map-legends-geopandas/\n",
    "\n",
    "* https://geopandas.org/gallery/plotting_with_geoplot.html\n",
    "</div>"
   ]
  },
  {
   "cell_type": "markdown",
   "metadata": {},
   "source": [
    "\n",
    "## Spatial Data Attributes\n",
    "\n",
    "Each object in a shapefile has one or more attributes associated with it.\n",
    "Shapefile attributes are similar to fields or columns in a spreadsheet. Each row\n",
    "in the spreadsheet has a set of columns associated with it that describe the row\n",
    "element. In the case of a shapefile, each row represents a spatial object - for\n",
    "example, a road, represented as a line in a line shapefile, will have one \"row\"\n",
    "of attributes associated with it.\n",
    "\n",
    "<figure>\n",
    "    <a href=\"https://www.earthdatascience.org/images/earth-analytics/spatial-data/spatial-attribute-tables.png\">\n",
    "    <img src=\"https://www.earthdatascience.org/images/earth-analytics/spatial-data/spatial-attribute-tables.png\" alt=\"A shapefile has an associated attribute table. Each spatial feature in a spatial object has the same set of\n",
    "    associated attributes that describe or characterize the feature.\n",
    "    Attribute data are stored in a separate .dbf file. Attribute data can be\n",
    "    compared to a spreadsheet. Each row in a spreadsheet represents one feature\n",
    "    in the spatial object. Image Source: National Ecological Observatory Network (NEON)\"></a>\n",
    "    <figcaption>Each spatial feature in a spatial object has the same set of\n",
    "    associated attributes that describe or characterize the feature.\n",
    "    Attribute data are stored in a separate *.dbf file. Attribute data can be\n",
    "    compared to a spreadsheet. Each row in a spreadsheet represents one feature\n",
    "    in the spatial object.\n",
    "    Image Source: National Ecological Observatory Network (NEON)\n",
    "    </figcaption>\n",
    "</figure>\n",
    "\n",
    "\n",
    "The attributes for a shapefile imported into a GeoDataFrame can be viewed in the GeoDataFrame\n",
    "itself. "
   ]
  },
  {
   "cell_type": "code",
   "execution_count": null,
   "metadata": {},
   "outputs": [],
   "source": [
    "# View first 5 rows of GeoDataFrame\n",
    "countries.head()"
   ]
  },
  {
   "cell_type": "code",
   "execution_count": null,
   "metadata": {
    "scrolled": false
   },
   "outputs": [],
   "source": [
    "countries.POP_EST"
   ]
  },
  {
   "cell_type": "markdown",
   "metadata": {},
   "source": [
    "<div class='notice--success alert alert-info' markdown=\"1\">\n",
    "\n",
    "<i class=\"fa fa-star\"></i> **Data Tip:** Vector Metadata\n",
    "\n",
    "The spatial and attribute data are not the only important aspects of a shapefile. The metadata of a shapefile are also very important. The metadata includes data on the Coordinate Reference System (CRS), the extent, and much more. For more information on what the metadata is, and how to access it, see the full lesson on vector data on the Earth Lab website, [here](https://www.earthdatascience.org/courses/use-data-open-source-python/intro-vector-data-python/spatial-data-vector-shapefiles/).</div>"
   ]
  },
  {
   "cell_type": "code",
   "execution_count": null,
   "metadata": {},
   "outputs": [],
   "source": [
    "from mpl_toolkits.axes_grid1 import make_axes_locatable\n",
    "\n",
    "f, ax1 = plt.subplots(figsize=(10, 6))\n",
    "\n",
    "divider = make_axes_locatable(ax1)\n",
    "cax = divider.append_axes(\"right\", \n",
    "                          size=\"5%\", \n",
    "                          pad=0.1)\n",
    "\n",
    "countries.plot(column='POP_EST',\n",
    "               legend=True,\n",
    "               ax=ax1, cax=cax)\n",
    "plt.show()"
   ]
  },
  {
   "cell_type": "markdown",
   "metadata": {},
   "source": [
    "<div class=\"notice--warning\" markdown=\"1\">\n",
    "\n",
    "## <i class=\"fa fa-pencil-square-o\" aria-hidden=\"true\"></i> Challenge: Plot Cities Data\n",
    "\n",
    "Plot the cities object so each point is colored according to the max population\n",
    "value. \n",
    "\n",
    "HINT: see this page for more information on customizing maps in **Geopandas**:\n",
    "https://geopandas.org/mapping.html\n",
    "</div>"
   ]
  },
  {
   "cell_type": "code",
   "execution_count": null,
   "metadata": {},
   "outputs": [],
   "source": [
    "# Open your dataset below this line. Make sure to view the geom_type and the first few rows of the dataset"
   ]
  },
  {
   "cell_type": "markdown",
   "metadata": {},
   "source": [
    "<div class=\"notice--warning\" markdown=\"1\">\n",
    "\n",
    "## <i class=\"fa fa-pencil-square-o\" aria-hidden=\"true\"></i> Challenge: Plot Cities Data\n",
    "\n",
    "You can plot your data according to categorical groups similar to what you might do in a tool\n",
    "like ArcGIS or QGIS. See what happens when you customize your plot code above.\n",
    "\n",
    "Set the following parameters:\n",
    "* `legend=True` and\n",
    "* `scheme=\"quantiles`\n",
    "\n",
    "</div>\n"
   ]
  },
  {
   "cell_type": "code",
   "execution_count": null,
   "metadata": {},
   "outputs": [],
   "source": [
    "# Add your plot code here "
   ]
  },
  {
   "cell_type": "markdown",
   "metadata": {},
   "source": [
    "The cell below includes a set of tests to see if you correctly completed the activity in the cell above. They will provide you with feedback that can help you complete the activity. \n",
    "\n",
    "Be sure to run the cell below to check your code (**please do not modify the cell!)**."
   ]
  },
  {
   "cell_type": "code",
   "execution_count": null,
   "metadata": {},
   "outputs": [],
   "source": [
    "# Run this cell to ensure soap_plot_locations was created correctly\n",
    "import notebook_tests_data_types\n",
    "\n",
    "try:\n",
    "    print(notebook_tests_data_types.test_geopandas_dataframe_creation(\n",
    "        populated_places)\n",
    "    )\n",
    "except NameError:\n",
    "    print(\"'populated_places' is not defined. Make sure you spelled the variable name correctly!\")"
   ]
  },
  {
   "cell_type": "markdown",
   "metadata": {},
   "source": [
    "<div class=\"notice--warning\" markdown=\"1\">\n",
    "\n",
    "## <i class=\"fa fa-pencil-square-o\" aria-hidden=\"true\"></i> BONUS Challenge: Clipping Vector Data in Python\n",
    "\n",
    "You may have noticed that the data above is difficult to read since there are so many points in the point data layer. One of the most common analytical techniques used in earth data science is clipping vector data. A clip is a spatial operation that will take a dataset, and limit it spatially to the extent of another dataset. \n",
    "\n",
    "<figure>\n",
    "    <a href=\"https://www.earthdatascience.org/images/earth-analytics/spatial-data/vector-clip.png\">\n",
    "    <img src=\"https://www.earthdatascience.org/images/earth-analytics/spatial-data/vector-clip.png\" alt=\"When you clip a vector data set with another layer, you remove points, lines or polygons that are outside of the spatial extent of the area that you use to clip the data. This images shows a circular clip region - you will be using a rectangular region in this example. Image Source: ESRI\"></a>\n",
    "    <figcaption>When you clip a vector data set with another layer, you remove points, lines or polygons that are outside of the spatial extent of the area that you use to clip the data. This images shows a circular clip region - you will be using a rectangular region in this example. Image Source: ESRI\n",
    "    </figcaption>\n",
    "</figure>\n",
    "\n",
    "For further reading on what clipping is, you can refer to the clipping page on the Earth Lab website, [here](https://www.earthdatascience.org/courses/use-data-open-source-python/intro-vector-data-python/vector-data-processing/clip-vector-data-in-python-geopandas-shapely/). Fear not, we will go over clipping and other spatial data operations soon! \n",
    "\n",
    "For this bonus challenge, you will clip the data you've opened, `populated_places`, to the extent of a single country. To clip the data, you will use the `clip()` function in `geopandas`. The syntax of the function is `gpd.clip(data_to_clip, boundary_to_clip_to)`. You can assign the output of this function to a variable, and it will be a GeoDataFrame of the output of the operation. In the below example, `cities_in_mexico` would be a GeoDataFrame containing all of the points in `populated_places` that were within the boundary of the polygon `mexico_boundary`. \n",
    "\n",
    "```\n",
    "cities_in_mexico = gpd.clip(populated_places, mexico_boundary)\n",
    "\n",
    "```\n",
    "\n",
    "We subsetted the `countries` dataset and made a GeoDataFrame that is just the boundary of Indonesia. Use that GeoDataFrame to clip `populated_places` to Indonesia. Name the output `cities_in_indonesia`. \n",
    "\n",
    "</div>"
   ]
  },
  {
   "cell_type": "code",
   "execution_count": null,
   "metadata": {},
   "outputs": [],
   "source": [
    "# Subsetting the countries dataframe to make Indonesian boundary to clip populated_places to.\n",
    "indonesia_boundary = countries.loc[countries['SOVEREIGNT'] == 'Indonesia']\n",
    "\n",
    "# Below this line clip the populated_places data to the Indonesian boundary created above."
   ]
  },
  {
   "cell_type": "markdown",
   "metadata": {},
   "source": [
    "Now run the next cell to see if you properly clipped the data!"
   ]
  },
  {
   "cell_type": "code",
   "execution_count": null,
   "metadata": {},
   "outputs": [],
   "source": [
    "try:\n",
    "    fig, ax = plt.subplots()\n",
    "\n",
    "    indonesia_boundary.plot(ax=ax)\n",
    "    cities_in_indonesia.plot(ax=ax, color='purple')\n",
    "    ax.set(title=\"Major Cities in Indonesia\")\n",
    "\n",
    "except NameError:\n",
    "    print(\"Variable 'cities_in_indonesia' not found. Please make sure you assigned it correctly!\")"
   ]
  },
  {
   "cell_type": "markdown",
   "metadata": {},
   "source": [
    "Plot the clipped data in the cell below."
   ]
  },
  {
   "cell_type": "code",
   "execution_count": null,
   "metadata": {},
   "outputs": [],
   "source": [
    "# Add your plot code here "
   ]
  }
 ],
 "metadata": {
  "anaconda-cloud": {},
  "celltoolbar": "Tags",
  "jupytext": {
   "formats": "ipynb,py:percent"
  },
  "kernelspec": {
   "display_name": "Python 3",
   "language": "python",
   "name": "python3"
  },
  "language_info": {
   "codemirror_mode": {
    "name": "ipython",
    "version": 3
   },
   "file_extension": ".py",
   "mimetype": "text/x-python",
   "name": "python",
   "nbconvert_exporter": "python",
   "pygments_lexer": "ipython3",
   "version": "3.7.6"
  },
  "toc": {
   "base_numbering": 1,
   "nav_menu": {},
   "number_sections": true,
   "sideBar": true,
   "skip_h1_title": false,
   "title_cell": "Table of Contents",
   "title_sidebar": "Contents",
   "toc_cell": false,
   "toc_position": {},
   "toc_section_display": true,
   "toc_window_display": false
  },
  "varInspector": {
   "cols": {
    "lenName": 16,
    "lenType": 16,
    "lenVar": 40
   },
   "kernels_config": {
    "python": {
     "delete_cmd_postfix": "",
     "delete_cmd_prefix": "del ",
     "library": "var_list.py",
     "varRefreshCmd": "print(var_dic_list())"
    },
    "r": {
     "delete_cmd_postfix": ") ",
     "delete_cmd_prefix": "rm(",
     "library": "var_list.r",
     "varRefreshCmd": "cat(var_dic_list()) "
    }
   },
   "types_to_exclude": [
    "module",
    "function",
    "builtin_function_or_method",
    "instance",
    "_Feature"
   ],
   "window_display": false
  }
 },
 "nbformat": 4,
 "nbformat_minor": 2
}
