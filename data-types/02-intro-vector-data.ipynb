{
 "cells": [
  {
   "cell_type": "markdown",
   "metadata": {},
   "source": [
    "<img style=\"float: left;\" src=\"earth-lab-logo-rgb.png\" width=\"150\" height=\"150\">\n",
    "\n",
    "# Earth Data Science Corps Summer 2020\n",
    "\n",
    "![Colored Bar](colored-bar.png)\n",
    "\n",
    "## Introduction to Using Spatial Vector Data in Open Source Python"
   ]
  },
  {
   "cell_type": "markdown",
   "metadata": {},
   "source": [
    "<div class='notice--success' markdown=\"1\">\n",
    "\n",
    "## <i class=\"fa fa-ship\" aria-hidden=\"true\"></i> Fundamentals of Vector Data in Python \n",
    "\n",
    "In this lesson, you will learn fundamental concepts related to working with vector data in **Python**, including understanding the spatial attributes of vector data, how to open vector data and access its metadata.\n",
    "\n",
    "\n",
    "## <i class=\"fa fa-graduation-cap\" aria-hidden=\"true\"></i> Learning Objectives\n",
    "\n",
    "After completing this lesson, you will be able to:\n",
    "\n",
    "* Describe the characteristics of 3 key vector data structures: points, lines and polygons.\n",
    "* Open a shapefile in **Python** using **geopandas** - `gpd.read_file()`.\n",
    "* Plot a shapfile in **Python** using **geopandas** - `gpd.plot()`.\n",
    "\n",
    "</div>\n",
    "\n",
    "Add this reading as a to do for all of the info below so we are not duplicating information \n",
    "Reading: https://www.earthdatascience.org/courses/use-data-open-source-python/intro-vector-data-python/spatial-data-vector-shapefiles/ "
   ]
  },
  {
   "cell_type": "markdown",
   "metadata": {},
   "source": [
    "## About Spatial Vector Data\n",
    "\n",
    "Vector data are composed of discrete geometric locations (x, y values) known as **vertices** that define the \"shape\" of the spatial object. The organization of the vertices determines the type of vector that you are working \n",
    "with. There are three types of vector data: \n",
    "\n",
    "* **Points:** Each individual point is defined by a single x, y coordinate. Examples of point data include: sampling locations, the location of individual trees or the location of plots.\n",
    "\n",
    "* **Lines:** Lines are composed of many (at least 2) vertices, or points, that are connected. For instance, a road or a stream may be represented by a line. This line is composed of a series of segments, each \"bend\" in the road or stream represents a vertex that has defined `x, y` location.\n",
    "\n",
    "* **Polygons:** A polygon consists of 3 or more vertices that are connected and \"closed\". Thus the outlines of plot boundaries, lakes, oceans, and states or countries are often represented by polygons. \n",
    "<figure>\n",
    "    <a href=\"https://www.earthdatascience.org/images/earth-analytics/spatial-data/points-lines-polygons-vector-data-types.png\">\n",
    "    <img src=\"https://www.earthdatascience.org/images/earth-analytics/spatial-data/points-lines-polygons-vector-data-types.png\" alt=\"There are 3 types of vector objects: points, lines or polygons. Each object type has a different structure. Image Source: Colin Williams (NEON).\"></a>\n",
    "    <figcaption> There are 3 types of vector objects: points, lines or polygons. Each object type has a different structure. Image Source: Colin Williams (NEON)\n",
    "    </figcaption>\n",
    "</figure>\n",
    "\n",
    "\n",
    "## Introduction to the Shapefile Data Format Which Stores Points, Lines, and Polygons\n",
    "\n",
    "Geospatial data in vector format are often stored in a `shapefile` \n",
    "format. Because the structure of points, lines, and polygons are \n",
    "different, each individual shapefile can only contain one vector \n",
    "type (all points, all lines or all polygons). You will not find \n",
    "a mixture of point, line and polygon objects in a single shapefile.\n",
    "\n",
    "Objects stored in a shapefile often have a set of associated \n",
    "`attributes` that describe the data. For example, a line \n",
    "shapefile that contains the locations of streams, might \n",
    "contain the associated stream name, stream \"order\" and other \n",
    "information about each stream line object.\n",
    "\n",
    "* More about shapefiles can found on \n",
    "<a href=\"https://en.wikipedia.org/wiki/Shapefile\" target=\"_blank\">Wikipedia</a>."
   ]
  },
  {
   "cell_type": "markdown",
   "metadata": {},
   "source": [
    "## Common Data Stored as Spatial Vector Data\n",
    "\n",
    "Vector data is a very common way to store multiple types of data. Some common examples include:\n",
    "\n",
    "- census data\n",
    "- roads\n",
    "- political boundaries\n",
    "- water bodies and river systems\n",
    "- ecological boundaries\n",
    "- city locations\n",
    "- specific object locations (i.e., stream gauges)\n",
    "\n",
    "This is a very cursory and incomplete list, but helps demonstrate how versatile this data format can be. "
   ]
  },
  {
   "cell_type": "markdown",
   "metadata": {},
   "source": [
    "## Import Shapefiles\n",
    "\n",
    "You will use the **geopandas** library to work with vector data in \n",
    "**Python**. You will also use `matplotlib.pyplot` to plot your data. "
   ]
  },
  {
   "cell_type": "code",
   "execution_count": 1,
   "metadata": {},
   "outputs": [],
   "source": [
    "# Import packages\n",
    "import os\n",
    "import matplotlib.pyplot as plt\n",
    "import geopandas as gpd\n",
    "import earthpy as et\n",
    "\n",
    "# Get data and set working directory\n",
    "et.data.get_data(\n",
    "    url='https://www.naturalearthdata.com/http//www.naturalearthdata.com/download/50m/cultural/ne_50m_admin_0_countries.zip')\n",
    "et.data.get_data(\n",
    "    url='https://www.naturalearthdata.com/http//www.naturalearthdata.com/download/50m/cultural/ne_50m_admin_0_boundary_lines_land.zip')\n",
    "et.data.get_data(\n",
    "    url='https://www.naturalearthdata.com/http//www.naturalearthdata.com/download/50m/cultural/ne_50m_populated_places_simple.zip')\n",
    "os.chdir(os.path.join(et.io.HOME, 'earth-analytics'))"
   ]
  },
  {
   "cell_type": "markdown",
   "metadata": {},
   "source": [
    "The shapefiles that you will import are:\n",
    "\n",
    "* A polygon shapefile representing outlines of countries globally.\n",
    "* A line shapefile representing political boundaries of countries globally.\n",
    "* A point shapefile representing the location of highly populated places globally.\n",
    "\n",
    "To import shapefiles you use the `geopandas` function `read_file()`. Notice that you call the `read_file()` function using `gpd.read_file()` to tell python to look for the function within the `geopandas` library.\n"
   ]
  },
  {
   "cell_type": "code",
   "execution_count": 2,
   "metadata": {},
   "outputs": [],
   "source": [
    "# Define path to file\n",
    "countries_path = os.path.join(\"data\", \"earthpy-downloads\",\n",
    "                              \"ne_10m_admin_0_countries\", \"ne_10m_admin_0_countries.shp\")\n",
    "\n",
    "bounday_lines_path = os.path.join(\"data\", \"earthpy-downloads\",\n",
    "                                  \"ne_50m_admin_0_boundary_lines_land\", \"ne_50m_admin_0_boundary_lines_land.shp\")\n",
    "\n",
    "# Import shapefile using geopandas\n",
    "\n",
    "# Opening polygon shapefile\n",
    "countries = gpd.read_file(countries_path)\n",
    "\n",
    "# Opening line shapefile\n",
    "boundary_lines = gpd.read_file(bounday_lines_path)"
   ]
  },
  {
   "cell_type": "markdown",
   "metadata": {},
   "source": [
    "\n",
    "## Spatial Data Attributes\n",
    "\n",
    "Each object in a shapefile has one or more attributes associated with it.\n",
    "Shapefile attributes are similar to fields or columns in a spreadsheet. Each row\n",
    "in the spreadsheet has a set of columns associated with it that describe the row\n",
    "element. In the case of a shapefile, each row represents a spatial object - for\n",
    "example, a road, represented as a line in a line shapefile, will have one \"row\"\n",
    "of attributes associated with it.\n",
    "\n",
    "<figure>\n",
    "    <a href=\"https://www.earthdatascience.org/images/earth-analytics/spatial-data/spatial-attribute-tables.png\">\n",
    "    <img src=\"https://www.earthdatascience.org/images/earth-analytics/spatial-data/spatial-attribute-tables.png\" alt=\"A shapefile has an associated attribute table. Each spatial feature in a spatial object has the same set of\n",
    "    associated attributes that describe or characterize the feature.\n",
    "    Attribute data are stored in a separate .dbf file. Attribute data can be\n",
    "    compared to a spreadsheet. Each row in a spreadsheet represents one feature\n",
    "    in the spatial object. Image Source: National Ecological Observatory Network (NEON)\"></a>\n",
    "    <figcaption>Each spatial feature in a spatial object has the same set of\n",
    "    associated attributes that describe or characterize the feature.\n",
    "    Attribute data are stored in a separate *.dbf file. Attribute data can be\n",
    "    compared to a spreadsheet. Each row in a spreadsheet represents one feature\n",
    "    in the spatial object.\n",
    "    Image Source: National Ecological Observatory Network (NEON)\n",
    "    </figcaption>\n",
    "</figure>\n",
    "\n",
    "\n",
    "You can view the attribute table associated with our geopandas `GeoDataFrame` by typing the object name into the console (e.g., `countries`). \n",
    "\n",
    "Or you can use the `.head(3)` method to display the first 3 rows of the attribute table. Adding a number fo the head method like this: `.head(6)` will specify how many rows of data python displays. \n"
   ]
  },
  {
   "cell_type": "code",
   "execution_count": 3,
   "metadata": {},
   "outputs": [
    {
     "data": {
      "text/html": [
       "<div>\n",
       "<style scoped>\n",
       "    .dataframe tbody tr th:only-of-type {\n",
       "        vertical-align: middle;\n",
       "    }\n",
       "\n",
       "    .dataframe tbody tr th {\n",
       "        vertical-align: top;\n",
       "    }\n",
       "\n",
       "    .dataframe thead th {\n",
       "        text-align: right;\n",
       "    }\n",
       "</style>\n",
       "<table border=\"1\" class=\"dataframe\">\n",
       "  <thead>\n",
       "    <tr style=\"text-align: right;\">\n",
       "      <th></th>\n",
       "      <th>featurecla</th>\n",
       "      <th>scalerank</th>\n",
       "      <th>LABELRANK</th>\n",
       "      <th>SOVEREIGNT</th>\n",
       "      <th>SOV_A3</th>\n",
       "      <th>ADM0_DIF</th>\n",
       "      <th>LEVEL</th>\n",
       "      <th>TYPE</th>\n",
       "      <th>ADMIN</th>\n",
       "      <th>ADM0_A3</th>\n",
       "      <th>...</th>\n",
       "      <th>NAME_KO</th>\n",
       "      <th>NAME_NL</th>\n",
       "      <th>NAME_PL</th>\n",
       "      <th>NAME_PT</th>\n",
       "      <th>NAME_RU</th>\n",
       "      <th>NAME_SV</th>\n",
       "      <th>NAME_TR</th>\n",
       "      <th>NAME_VI</th>\n",
       "      <th>NAME_ZH</th>\n",
       "      <th>geometry</th>\n",
       "    </tr>\n",
       "  </thead>\n",
       "  <tbody>\n",
       "    <tr>\n",
       "      <th>0</th>\n",
       "      <td>Admin-0 country</td>\n",
       "      <td>5</td>\n",
       "      <td>2</td>\n",
       "      <td>Indonesia</td>\n",
       "      <td>IDN</td>\n",
       "      <td>0</td>\n",
       "      <td>2</td>\n",
       "      <td>Sovereign country</td>\n",
       "      <td>Indonesia</td>\n",
       "      <td>IDN</td>\n",
       "      <td>...</td>\n",
       "      <td>인도네시아</td>\n",
       "      <td>Indonesië</td>\n",
       "      <td>Indonezja</td>\n",
       "      <td>Indonésia</td>\n",
       "      <td>Индонезия</td>\n",
       "      <td>Indonesien</td>\n",
       "      <td>Endonezya</td>\n",
       "      <td>Indonesia</td>\n",
       "      <td>印度尼西亚</td>\n",
       "      <td>MULTIPOLYGON (((117.70361 4.16341, 117.70361 4...</td>\n",
       "    </tr>\n",
       "    <tr>\n",
       "      <th>1</th>\n",
       "      <td>Admin-0 country</td>\n",
       "      <td>5</td>\n",
       "      <td>3</td>\n",
       "      <td>Malaysia</td>\n",
       "      <td>MYS</td>\n",
       "      <td>0</td>\n",
       "      <td>2</td>\n",
       "      <td>Sovereign country</td>\n",
       "      <td>Malaysia</td>\n",
       "      <td>MYS</td>\n",
       "      <td>...</td>\n",
       "      <td>말레이시아</td>\n",
       "      <td>Maleisië</td>\n",
       "      <td>Malezja</td>\n",
       "      <td>Malásia</td>\n",
       "      <td>Малайзия</td>\n",
       "      <td>Malaysia</td>\n",
       "      <td>Malezya</td>\n",
       "      <td>Malaysia</td>\n",
       "      <td>马来西亚</td>\n",
       "      <td>MULTIPOLYGON (((117.70361 4.16341, 117.69711 4...</td>\n",
       "    </tr>\n",
       "    <tr>\n",
       "      <th>2</th>\n",
       "      <td>Admin-0 country</td>\n",
       "      <td>6</td>\n",
       "      <td>2</td>\n",
       "      <td>Chile</td>\n",
       "      <td>CHL</td>\n",
       "      <td>0</td>\n",
       "      <td>2</td>\n",
       "      <td>Sovereign country</td>\n",
       "      <td>Chile</td>\n",
       "      <td>CHL</td>\n",
       "      <td>...</td>\n",
       "      <td>칠레</td>\n",
       "      <td>Chili</td>\n",
       "      <td>Chile</td>\n",
       "      <td>Chile</td>\n",
       "      <td>Чили</td>\n",
       "      <td>Chile</td>\n",
       "      <td>Şili</td>\n",
       "      <td>Chile</td>\n",
       "      <td>智利</td>\n",
       "      <td>MULTIPOLYGON (((-69.51009 -17.50659, -69.50611...</td>\n",
       "    </tr>\n",
       "    <tr>\n",
       "      <th>3</th>\n",
       "      <td>Admin-0 country</td>\n",
       "      <td>0</td>\n",
       "      <td>3</td>\n",
       "      <td>Bolivia</td>\n",
       "      <td>BOL</td>\n",
       "      <td>0</td>\n",
       "      <td>2</td>\n",
       "      <td>Sovereign country</td>\n",
       "      <td>Bolivia</td>\n",
       "      <td>BOL</td>\n",
       "      <td>...</td>\n",
       "      <td>볼리비아</td>\n",
       "      <td>Bolivia</td>\n",
       "      <td>Boliwia</td>\n",
       "      <td>Bolívia</td>\n",
       "      <td>Боливия</td>\n",
       "      <td>Bolivia</td>\n",
       "      <td>Bolivya</td>\n",
       "      <td>Bolivia</td>\n",
       "      <td>玻利維亞</td>\n",
       "      <td>POLYGON ((-69.51009 -17.50659, -69.51009 -17.5...</td>\n",
       "    </tr>\n",
       "    <tr>\n",
       "      <th>4</th>\n",
       "      <td>Admin-0 country</td>\n",
       "      <td>0</td>\n",
       "      <td>2</td>\n",
       "      <td>Peru</td>\n",
       "      <td>PER</td>\n",
       "      <td>0</td>\n",
       "      <td>2</td>\n",
       "      <td>Sovereign country</td>\n",
       "      <td>Peru</td>\n",
       "      <td>PER</td>\n",
       "      <td>...</td>\n",
       "      <td>페루</td>\n",
       "      <td>Peru</td>\n",
       "      <td>Peru</td>\n",
       "      <td>Peru</td>\n",
       "      <td>Перу</td>\n",
       "      <td>Peru</td>\n",
       "      <td>Peru</td>\n",
       "      <td>Peru</td>\n",
       "      <td>秘鲁</td>\n",
       "      <td>MULTIPOLYGON (((-69.51009 -17.50659, -69.63832...</td>\n",
       "    </tr>\n",
       "    <tr>\n",
       "      <th>5</th>\n",
       "      <td>Admin-0 country</td>\n",
       "      <td>0</td>\n",
       "      <td>2</td>\n",
       "      <td>Argentina</td>\n",
       "      <td>ARG</td>\n",
       "      <td>0</td>\n",
       "      <td>2</td>\n",
       "      <td>Sovereign country</td>\n",
       "      <td>Argentina</td>\n",
       "      <td>ARG</td>\n",
       "      <td>...</td>\n",
       "      <td>아르헨티나</td>\n",
       "      <td>Argentinië</td>\n",
       "      <td>Argentyna</td>\n",
       "      <td>Argentina</td>\n",
       "      <td>Аргентина</td>\n",
       "      <td>Argentina</td>\n",
       "      <td>Arjantin</td>\n",
       "      <td>Argentina</td>\n",
       "      <td>阿根廷</td>\n",
       "      <td>MULTIPOLYGON (((-67.28475 -23.83414, -67.25133...</td>\n",
       "    </tr>\n",
       "  </tbody>\n",
       "</table>\n",
       "<p>6 rows × 95 columns</p>\n",
       "</div>"
      ],
      "text/plain": [
       "        featurecla  scalerank  LABELRANK SOVEREIGNT SOV_A3  ADM0_DIF  LEVEL  \\\n",
       "0  Admin-0 country          5          2  Indonesia    IDN         0      2   \n",
       "1  Admin-0 country          5          3   Malaysia    MYS         0      2   \n",
       "2  Admin-0 country          6          2      Chile    CHL         0      2   \n",
       "3  Admin-0 country          0          3    Bolivia    BOL         0      2   \n",
       "4  Admin-0 country          0          2       Peru    PER         0      2   \n",
       "5  Admin-0 country          0          2  Argentina    ARG         0      2   \n",
       "\n",
       "                TYPE      ADMIN ADM0_A3  ...  NAME_KO     NAME_NL    NAME_PL  \\\n",
       "0  Sovereign country  Indonesia     IDN  ...    인도네시아   Indonesië  Indonezja   \n",
       "1  Sovereign country   Malaysia     MYS  ...    말레이시아    Maleisië    Malezja   \n",
       "2  Sovereign country      Chile     CHL  ...       칠레       Chili      Chile   \n",
       "3  Sovereign country    Bolivia     BOL  ...     볼리비아     Bolivia    Boliwia   \n",
       "4  Sovereign country       Peru     PER  ...       페루        Peru       Peru   \n",
       "5  Sovereign country  Argentina     ARG  ...    아르헨티나  Argentinië  Argentyna   \n",
       "\n",
       "     NAME_PT    NAME_RU     NAME_SV    NAME_TR    NAME_VI NAME_ZH  \\\n",
       "0  Indonésia  Индонезия  Indonesien  Endonezya  Indonesia   印度尼西亚   \n",
       "1    Malásia   Малайзия    Malaysia    Malezya   Malaysia    马来西亚   \n",
       "2      Chile       Чили       Chile       Şili      Chile      智利   \n",
       "3    Bolívia    Боливия     Bolivia    Bolivya    Bolivia    玻利維亞   \n",
       "4       Peru       Перу        Peru       Peru       Peru      秘鲁   \n",
       "5  Argentina  Аргентина   Argentina   Arjantin  Argentina     阿根廷   \n",
       "\n",
       "                                            geometry  \n",
       "0  MULTIPOLYGON (((117.70361 4.16341, 117.70361 4...  \n",
       "1  MULTIPOLYGON (((117.70361 4.16341, 117.69711 4...  \n",
       "2  MULTIPOLYGON (((-69.51009 -17.50659, -69.50611...  \n",
       "3  POLYGON ((-69.51009 -17.50659, -69.51009 -17.5...  \n",
       "4  MULTIPOLYGON (((-69.51009 -17.50659, -69.63832...  \n",
       "5  MULTIPOLYGON (((-67.28475 -23.83414, -67.25133...  \n",
       "\n",
       "[6 rows x 95 columns]"
      ]
     },
     "execution_count": 3,
     "metadata": {},
     "output_type": "execute_result"
    }
   ],
   "source": [
    "# View top 6 rows of attribute table\n",
    "countries.head(6)"
   ]
  },
  {
   "cell_type": "code",
   "execution_count": 4,
   "metadata": {
    "scrolled": false
   },
   "outputs": [
    {
     "data": {
      "text/plain": [
       "0      MultiPolygon\n",
       "1      MultiPolygon\n",
       "2      MultiPolygon\n",
       "3           Polygon\n",
       "4      MultiPolygon\n",
       "           ...     \n",
       "250    MultiPolygon\n",
       "251         Polygon\n",
       "252         Polygon\n",
       "253         Polygon\n",
       "254         Polygon\n",
       "Length: 255, dtype: object"
      ]
     },
     "execution_count": 4,
     "metadata": {},
     "output_type": "execute_result"
    }
   ],
   "source": [
    "# View the geometry type of each row\n",
    "countries.geom_type"
   ]
  },
  {
   "cell_type": "markdown",
   "metadata": {},
   "source": [
    "<div class='notice--success alert alert-info' markdown=\"1\">\n",
    "\n",
    "<i class=\"fa fa-star\"></i> **Data Tip:** Vector Metadata\n",
    "\n",
    "The spatial and attribute data are not the only important aspects of a shapefile. The metadata of a shapefile are also very important. The metadata includes data on the Coordinate Reference System (CRS), the extent, and much more. For more information on what the metadata is, and how to access it, see the full lesson on vector data on the Earth Lab website, [here](https://www.earthdatascience.org/courses/use-data-open-source-python/intro-vector-data-python/spatial-data-vector-shapefiles/).</div>"
   ]
  },
  {
   "cell_type": "markdown",
   "metadata": {},
   "source": [
    "## Plotting Vector Data with GeoPandas\n",
    "\n",
    "Once your vector data is successfully loaded into a GeoDataFrame with GeoPandas, it's very easy to plot the data with the GeoPandas function `plot()`. This helps to visually demonstrate the data stored in a GeoDataFrame. Below is the data we opened above plotted out. "
   ]
  },
  {
   "cell_type": "code",
   "execution_count": 5,
   "metadata": {},
   "outputs": [
    {
     "data": {
      "image/png": "[encoded data removed]",
      "text/plain": [
       "<Figure size 432x288 with 1 Axes>"
      ]
     },
     "metadata": {
      "needs_background": "light"
     },
     "output_type": "display_data"
    }
   ],
   "source": [
    "# Using matplotlib to plot the two GeoDataFrames on the same axes (ax)\n",
    "fig, ax = plt.subplots()\n",
    "\n",
    "countries.plot(ax=ax)\n",
    "boundary_lines.plot(ax=ax, color='red');\n",
    "ax.set(title=\"Countries plotted with political boundaries overlaid.\");"
   ]
  },
  {
   "cell_type": "markdown",
   "metadata": {},
   "source": [
    "<div class=\"notice--warning\" markdown=\"1\">\n",
    "\n",
    "## <i class=\"fa fa-pencil-square-o\" aria-hidden=\"true\"></i> Challenge : Open and Plot Spatial Data in Python\n",
    "\n",
    "Much like was done above, you're going to open your own spatial data with `geopandas`! Below we've provided a path to a dataset that contains spatial data similar to what we opened above. Open the spatial data with `geopandas`. Name the dataset `populated_places`. Once the dataset is opened, check the `geom_type`, and view the first few rows of the dataset using `dataset.head()`. \n",
    "\n",
    "</div>"
   ]
  },
  {
   "cell_type": "code",
   "execution_count": 6,
   "metadata": {},
   "outputs": [],
   "source": [
    "populated_places_path = os.path.join(\"data\", \"earthpy-downloads\",\n",
    "                                     \"ne_50m_populated_places_simple\", \"ne_50m_populated_places_simple.shp\")\n",
    "\n",
    "# Open your dataset below this line. Make sure to view the geom_type and the first few rows of the dataset\n",
    "\n"
   ]
  },
  {
   "cell_type": "markdown",
   "metadata": {},
   "source": [
    "The cell below includes a set of tests to see if you correctly completed the activity in the cell above. They will provide you with feedback that can help you complete the activity. \n",
    "\n",
    "Be sure to run the cell below to check your code (please do not modify the cell!)."
   ]
  },
  {
   "cell_type": "code",
   "execution_count": 7,
   "metadata": {},
   "outputs": [
    {
     "name": "stdout",
     "output_type": "stream",
     "text": [
      "'populated_places' is not defined. Make sure you spelled the variable name correctly!\n"
     ]
    }
   ],
   "source": [
    "# Run this cell to ensure soap_plot_locations was created correctly\n",
    "\n",
    "import notebook_tests_data_types\n",
    "\n",
    "try:\n",
    "    print(notebook_tests_data_types.test_geopandas_dataframe_creation(\n",
    "        populated_places)\n",
    "    )\n",
    "except NameError:\n",
    "    print(\"'populated_places' is not defined. Make sure you spelled the variable name correctly!\")"
   ]
  },
  {
   "cell_type": "markdown",
   "metadata": {},
   "source": [
    "Now that the data is open, you can plot is using the `plot()` function. Copy the code below, but enter in your variable name to see the data you've opened plotted. Make sure to customize the title of the code, and change the color of your data to make the map more legible. \n",
    "\n",
    "```\n",
    "fig, ax = plt.subplots()\n",
    "\n",
    "countries.boundary.plot(ax=ax)\n",
    "your_dataframe_here.plot(ax=ax, color='blue');\n",
    "ax.set(title=\"Put Title Here\");\n",
    "```"
   ]
  },
  {
   "cell_type": "code",
   "execution_count": null,
   "metadata": {},
   "outputs": [],
   "source": []
  },
  {
   "cell_type": "markdown",
   "metadata": {},
   "source": [
    "<div class=\"notice--warning\" markdown=\"1\">\n",
    "\n",
    "## <i class=\"fa fa-pencil-square-o\" aria-hidden=\"true\"></i> BONUS Challenge: Clipping Vector Data in Python\n",
    "\n",
    "You may have noticed that the data above is difficult to read since there are so many points in the point data layer. One of the most common analytical techniques used in earth data science is clipping vector data. A clip is a spatial operation that will take a dataset, and limit it spatially to the extent of another dataset. \n",
    "\n",
    "<figure>\n",
    "    <a href=\"https://www.earthdatascience.org/images/earth-analytics/spatial-data/vector-clip.png\">\n",
    "    <img src=\"https://www.earthdatascience.org/images/earth-analytics/spatial-data/vector-clip.png\" alt=\"When you clip a vector data set with another layer, you remove points, lines or polygons that are outside of the spatial extent of the area that you use to clip the data. This images shows a circular clip region - you will be using a rectangular region in this example. Image Source: ESRI\"></a>\n",
    "    <figcaption>When you clip a vector data set with another layer, you remove points, lines or polygons that are outside of the spatial extent of the area that you use to clip the data. This images shows a circular clip region - you will be using a rectangular region in this example. Image Source: ESRI\n",
    "    </figcaption>\n",
    "</figure>\n",
    "\n",
    "For further reading on what clipping is, you can refer to the clipping page on the Earth Lab website, [here](https://www.earthdatascience.org/courses/use-data-open-source-python/intro-vector-data-python/vector-data-processing/clip-vector-data-in-python-geopandas-shapely/). Fear not, we will go over clipping and other spatial data operations soon! \n",
    "\n",
    "For this bonus challenge, you will clip the data you've opened, `populated_places`, to the extent of a single country. To clip the data, you will use the `clip()` function in `geopandas`. The syntax of the function is `gpd.clip(data_to_clip, boundary_to_clip_to)`. You can assign the output of this function to a variable, and it will be a GeoDataFrame of the output of the operation. In the below example, `cities_in_mexico` would be a GeoDataFrame containing all of the points in `populated_places` that were within the boundary of the polygon `mexico_boundary`. \n",
    "\n",
    "```\n",
    "cities_in_mexico = gpd.clip(populated_places, mexico_boundary)\n",
    "\n",
    "```\n",
    "\n",
    "We subsetted the `countries` dataset and made a GeoDataFrame that is just the boundary of Indonesia. Use that GeoDataFrame to clip `populated_places` to Indonesia. Name the output `cities_in_indonesia`. \n",
    "\n",
    "</div>"
   ]
  },
  {
   "cell_type": "code",
   "execution_count": 8,
   "metadata": {},
   "outputs": [],
   "source": [
    "# Subsetting the countries dataframe to make Indonesian boundary to clip populated_places to. \n",
    "indonesia_boundary = countries.loc[countries['SOVEREIGNT'] == 'Indonesia']\n",
    "\n",
    "# Below this line clip the populated_places data to the Indonesian boundary created above.\n"
   ]
  },
  {
   "cell_type": "markdown",
   "metadata": {},
   "source": [
    "Now run the next cell to see if you properly clipped the data!"
   ]
  },
  {
   "cell_type": "code",
   "execution_count": 9,
   "metadata": {},
   "outputs": [
    {
     "name": "stdout",
     "output_type": "stream",
     "text": [
      "Variable 'cities_in_indonesia' not found. Please make sure you assigned it correctly!\n"
     ]
    },
    {
     "data": {
      "image/png": "[encoded data removed]",
      "text/plain": [
       "<Figure size 432x288 with 1 Axes>"
      ]
     },
     "metadata": {
      "needs_background": "light"
     },
     "output_type": "display_data"
    }
   ],
   "source": [
    "try:\n",
    "    fig, ax = plt.subplots()\n",
    "\n",
    "    indonesia_boundary.plot(ax=ax)\n",
    "    cities_in_indonesia.plot(ax=ax, color='purple')\n",
    "    ax.set(title=\"Major Cities in Indonesia\");\n",
    "    \n",
    "except NameError:\n",
    "    print(\"Variable 'cities_in_indonesia' not found. Please make sure you assigned it correctly!\")"
   ]
  }
 ],
 "metadata": {
  "anaconda-cloud": {},
  "celltoolbar": "Tags",
  "kernelspec": {
   "display_name": "Python 3",
   "language": "python",
   "name": "python3"
  },
  "language_info": {
   "codemirror_mode": {
    "name": "ipython",
    "version": 3
   },
   "file_extension": ".py",
   "mimetype": "text/x-python",
   "name": "python",
   "nbconvert_exporter": "python",
   "pygments_lexer": "ipython3",
   "version": "3.7.6"
  },
  "toc": {
   "base_numbering": 1,
   "nav_menu": {},
   "number_sections": true,
   "sideBar": true,
   "skip_h1_title": false,
   "title_cell": "Table of Contents",
   "title_sidebar": "Contents",
   "toc_cell": false,
   "toc_position": {},
   "toc_section_display": true,
   "toc_window_display": false
  },
  "varInspector": {
   "cols": {
    "lenName": 16,
    "lenType": 16,
    "lenVar": 40
   },
   "kernels_config": {
    "python": {
     "delete_cmd_postfix": "",
     "delete_cmd_prefix": "del ",
     "library": "var_list.py",
     "varRefreshCmd": "print(var_dic_list())"
    },
    "r": {
     "delete_cmd_postfix": ") ",
     "delete_cmd_prefix": "rm(",
     "library": "var_list.r",
     "varRefreshCmd": "cat(var_dic_list()) "
    }
   },
   "types_to_exclude": [
    "module",
    "function",
    "builtin_function_or_method",
    "instance",
    "_Feature"
   ],
   "window_display": false
  }
 },
 "nbformat": 4,
 "nbformat_minor": 2
}
