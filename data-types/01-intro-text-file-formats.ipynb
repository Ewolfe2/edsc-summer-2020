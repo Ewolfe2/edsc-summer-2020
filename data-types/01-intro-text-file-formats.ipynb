{
 "cells": [
  {
   "cell_type": "markdown",
   "metadata": {},
   "source": [
    "<div class='notice--success' markdown=\"1\">\n",
    "\n",
    "## <i class=\"fa fa-ship\" aria-hidden=\"true\"></i> Text File Formats for Earth Data Science\n",
    "\n",
    "In this lesson, you will learn about common text file formats for earth data science workflows including text (.txt, .csv) files and YAML (Yet Another Markup Language). \n",
    "\n",
    "After completing this lesson, you will be able to:\n",
    "\n",
    "* Describe how text (.txt) and CSV files can be used for scientific data.\n",
    "* Explain how YAML is used to support earth data science workflows.\n",
    "\n",
    "\n",
    "</div>"
   ]
  },
  {
   "cell_type": "markdown",
   "metadata": {},
   "source": [
    "## Text files in Python\n",
    "\n",
    "### .txt vs .csv\n",
    "\n",
    "So far, you have been storing data in variables, and making all of the data yourself. When you made a list, you had to either copy/paste the data into the list or rewrite all the data by hand. There are other ways to read data into **Python**! One of the most common ways to read data into **Python** is with text files. \n",
    "\n",
    "Text files are what they sound like, files filled with text. Generally, text files will have a special character to denotate a new line, or a return, in the file. In **Python**, this is generally the `\\n` character. This let's **Python** break up the text to read it line by line. \n",
    "\n",
    "The most common type of text files are text (.txt) and comma seperated values (.csv) files. .txt files are the standard text file, and can store any unformatted text characters. A .csv file is a type of .txt file, which stores data seperated by commas, hence the name. "
   ]
  },
  {
   "cell_type": "markdown",
   "metadata": {},
   "source": [
    "### NOTES FROM HACKMD\n",
    "\n",
    "[Here](https://docs.google.com/document/d/1IB3pCKT_V2ZvirMbT1dU_0u7k_izM7CureKOl5mN3Vs/edit#heading=h.bvx3n2908smq)\n",
    "\n",
    "Tabular Formats - \n",
    "\n",
    "Text Files Maybe a page on text files in general - txt vs csv and then comma vs tab delimited etc…? This i think would be a great chapter\n",
    "\n",
    "\n",
    "Structure of tabular data\n",
    "\n",
    "\n",
    "Rows, columns\n",
    "\n",
    "\n",
    "Headers\n",
    "\n",
    "\n",
    "Common file types used for tabular data\n",
    "\n",
    "\n",
    "TXT\n",
    "\n",
    "CSV\n",
    "\n",
    "\n",
    "Delimiter types\n",
    "\n",
    "\n",
    "Comma\n",
    "\n",
    "\n",
    "Tab\n"
   ]
  }
 ],
 "metadata": {
  "celltoolbar": "Tags",
  "kernelspec": {
   "display_name": "Python 3",
   "language": "python",
   "name": "python3"
  },
  "language_info": {
   "codemirror_mode": {
    "name": "ipython",
    "version": 3
   },
   "file_extension": ".py",
   "mimetype": "text/x-python",
   "name": "python",
   "nbconvert_exporter": "python",
   "pygments_lexer": "ipython3",
   "version": "3.7.6"
  },
  "varInspector": {
   "cols": {
    "lenName": 16,
    "lenType": 16,
    "lenVar": 40
   },
   "kernels_config": {
    "python": {
     "delete_cmd_postfix": "",
     "delete_cmd_prefix": "del ",
     "library": "var_list.py",
     "varRefreshCmd": "print(var_dic_list())"
    },
    "r": {
     "delete_cmd_postfix": ") ",
     "delete_cmd_prefix": "rm(",
     "library": "var_list.r",
     "varRefreshCmd": "cat(var_dic_list()) "
    }
   },
   "types_to_exclude": [
    "module",
    "function",
    "builtin_function_or_method",
    "instance",
    "_Feature"
   ],
   "window_display": false
  }
 },
 "nbformat": 4,
 "nbformat_minor": 2
}
