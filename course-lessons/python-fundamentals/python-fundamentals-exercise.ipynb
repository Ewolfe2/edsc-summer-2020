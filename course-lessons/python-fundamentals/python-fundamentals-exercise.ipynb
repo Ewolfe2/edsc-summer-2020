{
 "cells": [
  {
   "cell_type": "markdown",
   "metadata": {},
   "source": [
    "<img style=\"float: left;\" src=\"earth-lab-logo-rgb.png\" width=\"150\" height=\"150\">\n",
    "\n",
    "# Earth Data Science Corps Summer 2020\n",
    "\n",
    "![Colored Bar](colored-bar.png)\n",
    "\n",
    "## Introduction to Python"
   ]
  },
  {
   "cell_type": "markdown",
   "metadata": {},
   "source": [
    "<div class=\"notice--warning\" markdown=\"1\">\n",
    "\n",
    "## <i class=\"fa fa-pencil-square-o\" aria-hidden=\"true\"></i> Practice Your Python Skills\n",
    "\n",
    "Data on average monthly precipitation for <a href=\"https://www.esrl.noaa.gov/psd/boulder/Boulder.mm.precip.html\" target=\"_blank\">Boulder, Colorado provided by the U.S. National Oceanic and Atmospheric Administration (NOAA).</a> \n",
    "\n",
    "Month  | Precipitation (inches) |\n",
    "--- | --- |\n",
    "Jan | 0.70 |\n",
    "Feb | 0.75 |\n",
    "Mar | 1.85 |\n",
    "Apr | 2.93 |\n",
    "May | 3.05 |\n",
    "June | 2.02 |\n",
    "July | 1.93 |\n",
    "Aug | 1.62 |\n",
    "Sept | 1.84 |\n",
    "Oct | 1.31 |\n",
    "Nov | 1.39 |\n",
    "Dec | 0.84 |\n",
    "\n",
    "Test your `Python` skills to:\n",
    "\n",
    "1. Create variables for monthly average precipitation values (inches) for Boulder, CO for January through December (i.e. one variable for `jan`, one for `feb`, etc through `dec`).\n",
    "\n",
    "2. Use the appropriate arithmetic operator to convert the monthly variables for `jan` through `dec` from inches to millimeters (1 inch = 25.4 mm).\n",
    "\n",
    "3. Create a list called `precip` that contains the converted monthly average precipitation values in millimeters. (After step 2, you should have monthly variables with converted values. Consider how you can create a list using these variables, rather than typing out the values.)\n",
    "\n",
    "4. Create a list called  `months` that contains the abbreviated month names from the table above. \n",
    "\n",
    "</div>"
   ]
  },
  {
   "cell_type": "code",
   "execution_count": 1,
   "metadata": {},
   "outputs": [],
   "source": [
    "# Create monthly precipitation variables\n",
    "\n",
    "\n",
    "# Convert monthly precipitation variables from inches to mm\n",
    "\n",
    "\n",
    "# Create lists: one list of month names and one of precip (mm)\n"
   ]
  },
  {
   "cell_type": "markdown",
   "metadata": {},
   "source": [
    "<div class=\"notice--warning\" markdown=\"1\">\n",
    "\n",
    "## <i class=\"fa fa-pencil-square-o\" aria-hidden=\"true\"></i> Challenge Your Python Skills\n",
    "\n",
    "Modify the following code to create a plot of your data:\n",
    "\n",
    "```python\n",
    "# Import necessary plot package\n",
    "import matplotlib.pyplot as plt\n",
    "\n",
    "# Plot monthly precipitation values\n",
    "fig, ax = plt.subplots(figsize=(6, 6))\n",
    "ax.bar(listname_x_axis, \n",
    "       listname_y_axis, \n",
    "       color=\"red\")\n",
    "ax.set(title=\"Add plot title here\",\n",
    "       xlabel=\"Add x axis label here\", \n",
    "       ylabel=\"Add y axis label here\");\n",
    "```\n",
    "\n",
    "Customize this plot by completing the following tasks:\n",
    "1. Replace `listname_x_axis` and `listname_y_axis` with the names of the lists that you created (`months` and `precip`).\n",
    "2. Change the <a href=\"https://matplotlib.org/mpl_examples/color/named_colors.hires.png\" target=\"_blank\">color of the plot</a> to a blue color such as aqua.\n",
    "3. Update the text for the titles and axes labels. \n",
    "4. Modify the values in `figsize=(6, 6)` to change the size of your plot. \n",
    "\n",
    "For your titles and labels, be sure to think about the following pieces of information that could help someone easily interpret the plot:\n",
    "\n",
    "* geographic coverage or extent of data.\n",
    "* duration or temporal extent of the data.\n",
    "* what was actually measured and/or represented by the data.\n",
    "* units of measurement.\n",
    "\n",
    "</div>"
   ]
  },
  {
   "cell_type": "code",
   "execution_count": 2,
   "metadata": {
    "caption": "This plot displays monthly average precipitation values in millimeters for Boulder, CO.",
    "label": "fig:bar_boulder_monthly_avg_precip"
   },
   "outputs": [],
   "source": [
    "# Copy/paste the code from the cell above to this cell\n",
    "# Modify values as instructed\n"
   ]
  },
  {
   "cell_type": "markdown",
   "metadata": {},
   "source": [
    "The cell below includes a set of tests to see if you correctly completed the activity in the cell above. They will provide you with feedback that can help you complete the activity. \n",
    "\n",
    "Be sure to run the cell below to check your code (please do not modify the cell!)."
   ]
  },
  {
   "cell_type": "code",
   "execution_count": 3,
   "metadata": {},
   "outputs": [
    {
     "name": "stdout",
     "output_type": "stream",
     "text": [
      "Could not find a list named 'months', please ensure that your list containing\n",
      "the month names has been assigned to the variable name 'months'.\n",
      "Could not find a list named 'precip', please ensure that your list containing\n",
      "the converted month precip values has been assigned to the variable name 'precip'.\n",
      "Could not find variable 'ax', please make sure you copy and pasted the code correctly into the cell above.\n"
     ]
    }
   ],
   "source": [
    "# This code is here to check your plot\n",
    "# Please put the code for your plot in the previous cell\n",
    "import matplotcheck.base as mpc\n",
    "import notebook_tests_fundamentals\n",
    "\n",
    "try:\n",
    "    print(notebook_tests_fundamentals.exercise_test_months_list(months))\n",
    "except NameError:\n",
    "    print(\"\"\"Could not find a list named 'months', please ensure that your list containing\n",
    "the month names has been assigned to the variable name 'months'.\"\"\")\n",
    "\n",
    "try:\n",
    "    print(notebook_tests_fundamentals.exercise_test_precip_list(precip))\n",
    "except NameError:\n",
    "    print(\"\"\"Could not find a list named 'precip', please ensure that your list containing\n",
    "the converted month precip values has been assigned to the variable name 'precip'.\"\"\")\n",
    "\n",
    "try:\n",
    "    print(notebook_tests_fundamentals.exercise_test_plot(ax))\n",
    "except NameError:\n",
    "    print(\"Could not find variable 'ax', please make sure you copy and pasted the code correctly into the cell above.\")"
   ]
  }
 ],
 "metadata": {
  "celltoolbar": "Tags",
  "kernelspec": {
   "display_name": "Python 3",
   "language": "python",
   "name": "python3"
  },
  "language_info": {
   "codemirror_mode": {
    "name": "ipython",
    "version": 3
   },
   "file_extension": ".py",
   "mimetype": "text/x-python",
   "name": "python",
   "nbconvert_exporter": "python",
   "pygments_lexer": "ipython3",
   "version": "3.7.6"
  },
  "toc": {
   "base_numbering": 1,
   "nav_menu": {},
   "number_sections": true,
   "sideBar": true,
   "skip_h1_title": false,
   "title_cell": "Table of Contents",
   "title_sidebar": "Contents",
   "toc_cell": false,
   "toc_position": {},
   "toc_section_display": true,
   "toc_window_display": false
  },
  "varInspector": {
   "cols": {
    "lenName": 16,
    "lenType": 16,
    "lenVar": 40
   },
   "kernels_config": {
    "python": {
     "delete_cmd_postfix": "",
     "delete_cmd_prefix": "del ",
     "library": "var_list.py",
     "varRefreshCmd": "print(var_dic_list())"
    },
    "r": {
     "delete_cmd_postfix": ") ",
     "delete_cmd_prefix": "rm(",
     "library": "var_list.r",
     "varRefreshCmd": "cat(var_dic_list()) "
    }
   },
   "types_to_exclude": [
    "module",
    "function",
    "builtin_function_or_method",
    "instance",
    "_Feature"
   ],
   "window_display": false
  }
 },
 "nbformat": 4,
 "nbformat_minor": 4
}
