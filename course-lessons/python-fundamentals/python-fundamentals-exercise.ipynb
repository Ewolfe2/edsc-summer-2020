{
 "cells": [
  {
   "cell_type": "markdown",
   "metadata": {},
   "source": [
    "<div class=\"notice--warning\" markdown=\"1\">\n",
    "\n",
    "## <i class=\"fa fa-pencil-square-o\" aria-hidden=\"true\"></i> Practice Your Python Skills\n",
    "\n",
    "Data on average monthly precipitation for <a href=\"https://www.esrl.noaa.gov/psd/boulder/Boulder.mm.precip.html\" target=\"_blank\">Boulder, Colorado provided by the U.S. National Oceanic and Atmospheric Administration (NOAA).</a> \n",
    "\n",
    "Month  | Precipitation (inches) |\n",
    "--- | --- |\n",
    "Jan | 0.70 |\n",
    "Feb | 0.75 |\n",
    "Mar | 1.85 |\n",
    "Apr | 2.93 |\n",
    "May | 3.05 |\n",
    "June | 2.02 |\n",
    "July | 1.93 |\n",
    "Aug | 1.62 |\n",
    "Sept | 1.84 |\n",
    "Oct | 1.31 |\n",
    "Nov | 1.39 |\n",
    "Dec | 0.84 |\n",
    "\n",
    "Test your `Python` skills to:\n",
    "\n",
    "1. Create new variables for monthly average precipitation values (inches) for Boulder, CO for January through December.\n",
    "\n",
    "2. Use the appropriate arithmetic operator to convert the monthly variables for `jan` to `dec` from inches to millimeters (1 inch = 25.4 mm).\n",
    "\n",
    "3. Create a list that contains the converted monthly average precipitation values in millimeters. Print your list (hint: `print(list_name)`).\n",
    "\n",
    "4. Create a list that contains the month names from the table above.\n",
    "\n",
    "</div>"
   ]
  },
  {
   "cell_type": "code",
   "execution_count": 53,
   "metadata": {
    "tags": [
     "hide"
    ]
   },
   "outputs": [
    {
     "name": "stdout",
     "output_type": "stream",
     "text": [
      "[17.779999999999998, 19.049999999999997, 46.99, 74.422, 77.46999999999998, 51.308, 49.022, 41.148, 46.736, 33.274, 35.306, 21.336]\n"
     ]
    }
   ],
   "source": [
    "# Create monthly variables\n",
    "jan = 0.70 \n",
    "feb = 0.75 \n",
    "mar = 1.85 \n",
    "apr = 2.93 \n",
    "may = 3.05 \n",
    "june = 2.02\n",
    "july = 1.93\n",
    "aug = 1.62\n",
    "sept = 1.84\n",
    "oct = 1.31\n",
    "nov = 1.39\n",
    "dec = 0.84\n",
    "\n",
    "# Convert to mm\n",
    "jan = jan * 25.4\n",
    "feb = feb * 25.4\n",
    "mar = mar * 25.4\n",
    "apr = apr * 25.4\n",
    "may = may * 25.4\n",
    "june = june * 25.4\n",
    "july = july * 25.4\n",
    "aug = aug * 25.4\n",
    "sept = sept * 25.4\n",
    "oct = oct * 25.4\n",
    "nov = nov * 25.4\n",
    "dec = dec * 25.4\n",
    "\n",
    "listname_months = [\"Jan\", \"Feb\", \"Mar\", \"Apr\", \"May\", \"June\", \"July\", \"Aug\", \"Sept\", \"Oct\", \"Nov\", \"Dec\"]\n",
    "listname_precip = [jan, feb, mar, apr, may, june, july, aug, sept, oct, nov, dec]\n",
    "\n",
    "print(listname_precip)"
   ]
  },
  {
   "cell_type": "markdown",
   "metadata": {},
   "source": [
    "<div class=\"notice--warning\" markdown=\"1\">\n",
    "\n",
    "## <i class=\"fa fa-pencil-square-o\" aria-hidden=\"true\"></i> Challenge Your Python Skills\n",
    "\n",
    "Modify the following code to create a plot of your data:\n",
    "\n",
    "```python\n",
    "# Import necessary plot package\n",
    "import matplotlib.pyplot as plt\n",
    "\n",
    "# Plot monthly precipitation values\n",
    "fig, ax = plt.subplots(figsize=(10, 10))\n",
    "ax.bar(listname_months, listname_precip, color=\"blue\")\n",
    "ax.set(title=\"Add plot title here.\",\n",
    "       xlabel=\"Add x axis label here.\", ylabel=\"Add y axis label here.\");\n",
    "```\n",
    "\n",
    "Customize this plot by:\n",
    "1. Replacing `listname_months` and `listname_precip` with the names of the lists that you created. \n",
    "2. Change the <a href=\"https://matplotlib.org/mpl_examples/color/named_colors.hires.png\" target=\"_blank\">color of the plot</a> to aqua.\n",
    "3. Update the text for the titles and axes labels. \n",
    "4. Modifying the values in `figsize=(10, 10)` to change the size of your plot. \n",
    "\n",
    "For your titles and labels, be sure to think about the following pieces of information that could help someone easily interpret the plot:\n",
    "\n",
    "* geographic coverage or extent of data.\n",
    "* duration or temporal extent of the data.\n",
    "* what was actually measured and/or represented by the data.\n",
    "* units of measurement.\n",
    "\n",
    "</div>"
   ]
  },
  {
   "cell_type": "code",
   "execution_count": 54,
   "metadata": {
    "caption": "This plot displays monthly average precipitation values in millimeters for Boulder, CO.",
    "label": "fig:bar_boulder_monthly_avg_precip",
    "tags": [
     "hide"
    ]
   },
   "outputs": [
    {
     "data": {
      "image/png": "[encoded data removed]",
      "text/plain": [
       "<Figure size 720x720 with 1 Axes>"
      ]
     },
     "metadata": {
      "needs_background": "light"
     },
     "output_type": "display_data"
    }
   ],
   "source": [
    "# Import necessary plot package\n",
    "import matplotlib.pyplot as plt\n",
    "\n",
    "# Plot monthly precipitation values\n",
    "fig, ax = plt.subplots(figsize=(10, 10))\n",
    "ax.bar(listname_months, listname_precip, color=\"blue\")\n",
    "ax.set(title=\"Add plot title here.\",\n",
    "       xlabel=\"Add x axis label here.\", ylabel=\"Add y axis label here.\");"
   ]
  }
 ],
 "metadata": {
  "kernelspec": {
   "display_name": "Python 3",
   "language": "python",
   "name": "python3"
  },
  "language_info": {
   "codemirror_mode": {
    "name": "ipython",
    "version": 3
   },
   "file_extension": ".py",
   "mimetype": "text/x-python",
   "name": "python",
   "nbconvert_exporter": "python",
   "pygments_lexer": "ipython3",
   "version": "3.7.6"
  }
 },
 "nbformat": 4,
 "nbformat_minor": 4
}
