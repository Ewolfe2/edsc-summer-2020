{
 "cells": [
  {
   "cell_type": "markdown",
   "metadata": {},
   "source": [
    "<div class=\"notice--warning\" markdown=\"1\">\n",
    "\n",
    "## <i class=\"fa fa-pencil-square-o\" aria-hidden=\"true\"></i> Practice Your Python Skills\n",
    "\n",
    "Data on average monthly precipitation for <a href=\"https://www.esrl.noaa.gov/psd/boulder/Boulder.mm.precip.html\" target=\"_blank\">Boulder, Colorado provided by the U.S. National Oceanic and Atmospheric Administration (NOAA).</a> \n",
    "\n",
    "Month  | Precipitation (inches) |\n",
    "--- | --- |\n",
    "Jan | 0.70 |\n",
    "Feb | 0.75 |\n",
    "Mar | 1.85 |\n",
    "Apr | 2.93 |\n",
    "May | 3.05 |\n",
    "June | 2.02 |\n",
    "July | 1.93 |\n",
    "Aug | 1.62 |\n",
    "Sept | 1.84 |\n",
    "Oct | 1.31 |\n",
    "Nov | 1.39 |\n",
    "Dec | 0.84 |\n",
    "\n",
    "Test your `Python` skills to:\n",
    "\n",
    "1. Create new variables for monthly average precipitation values (inches) for Boulder, CO for January through December.\n",
    "\n",
    "2. Use the appropriate arithmetic operator to convert the monthly variables for `jan` to `dec` from inches to millimeters (1 inch = 25.4 mm).\n",
    "\n",
    "3. Create a list that contains the converted monthly average precipitation values in millimeters. Name it `precip`. Print your list (hint: `print(list_name)`).\n",
    "\n",
    "4. Create a list that contains the month names from the table above. Name it `months`. \n",
    "\n",
    "</div>"
   ]
  },
  {
   "cell_type": "code",
   "execution_count": 1,
   "metadata": {
    "tags": [
     "hide"
    ]
   },
   "outputs": [],
   "source": [
    "# Create monthly variables\n",
    "\n",
    "# Convert to mm\n",
    "\n",
    "# Assign lists, one list of monthly name variables and one with the converted measurment variables."
   ]
  },
  {
   "cell_type": "markdown",
   "metadata": {},
   "source": [
    "<div class=\"notice--warning\" markdown=\"1\">\n",
    "\n",
    "## <i class=\"fa fa-pencil-square-o\" aria-hidden=\"true\"></i> Challenge Your Python Skills\n",
    "\n",
    "Modify the following code to create a plot of your data:\n",
    "\n",
    "```python\n",
    "# Import necessary plot package\n",
    "import matplotlib.pyplot as plt\n",
    "\n",
    "# Plot monthly precipitation values\n",
    "fig, ax = plt.subplots(figsize=(10, 10))\n",
    "ax.bar(listname_months, listname_precip, color=\"blue\")\n",
    "ax.set(title=\"Add plot title here.\",\n",
    "       xlabel=\"Add x axis label here.\", ylabel=\"Add y axis label here.\");\n",
    "```\n",
    "\n",
    "Customize this plot by:\n",
    "1. Replacing `listname_months` and `listname_precip` with the names of the lists that you created (`months` and `precip`) \n",
    "2. Change the <a href=\"https://matplotlib.org/mpl_examples/color/named_colors.hires.png\" target=\"_blank\">color of the plot</a> to aqua.\n",
    "3. Update the text for the titles and axes labels. \n",
    "4. Modifying the values in `figsize=(10, 10)` to change the size of your plot. \n",
    "\n",
    "For your titles and labels, be sure to think about the following pieces of information that could help someone easily interpret the plot:\n",
    "\n",
    "* geographic coverage or extent of data.\n",
    "* duration or temporal extent of the data.\n",
    "* what was actually measured and/or represented by the data.\n",
    "* units of measurement.\n",
    "\n",
    "</div>"
   ]
  },
  {
   "cell_type": "code",
   "execution_count": 2,
   "metadata": {
    "caption": "This plot displays monthly average precipitation values in millimeters for Boulder, CO.",
    "label": "fig:bar_boulder_monthly_avg_precip",
    "tags": [
     "hide"
    ]
   },
   "outputs": [],
   "source": [
    "# Copy and paste the code from the cell above here. Modify the values as instructed."
   ]
  },
  {
   "cell_type": "markdown",
   "metadata": {},
   "source": [
    "The cell below includes a set of tests to see if you correctly completed the activity in the cell above. They will provide you with feedback that can help you complete the activity. \n",
    "\n",
    "Be sure to run the cell below to check your code (please do not modify the cell!)."
   ]
  },
  {
   "cell_type": "code",
   "execution_count": 3,
   "metadata": {},
   "outputs": [
    {
     "name": "stdout",
     "output_type": "stream",
     "text": [
      "Could not find a list named 'months', please ensure that your list containing\n",
      " the month names has been assigned to the variable name 'months'.\n",
      "Could not find a list named 'precip', please ensure that your list containing\n",
      " the converted month precip values has been assigned to the variable name 'precip'.\n",
      "Can't find variable 'ax', please make sure you copy and pasted the code correctly into the cell above.\n"
     ]
    }
   ],
   "source": [
    "### DO NOT MODIFY THE CODE BELOW ###\n",
    "# This code is here to check your plot, please put your code for your plot above these comments\n",
    "import matplotcheck.base as mpc\n",
    "\n",
    "correct_month_names = [\"Jan\", \"Feb\", \"Mar\", \"Apr\", \"May\",\n",
    "                       \"June\", \"July\", \"Aug\", \"Sept\", \"Oct\", \"Nov\", \"Dec\"]\n",
    "correct_month_precip = [17.779999999999998, 19.049999999999997, 46.99, 74.422,\n",
    "                        77.46999999999998, 51.308, 49.022, 41.148, 46.736, 33.274, 35.306, 21.336]\n",
    "\n",
    "try:\n",
    "    if months == correct_month_names:\n",
    "        print(\"List of month names successfully assigned and has correct values!\")\n",
    "    else:\n",
    "        error_msg = \"\"\"There is a variable named 'months', but it is assigned these values:\\n{}\n",
    "Please ensure that the values are strings with the month names from the table above.\"\"\"\n",
    "        print(error_msg.format(months))\n",
    "except NameError:\n",
    "    print(\"Could not find a list named 'months', please ensure that your list containing\\n\",\n",
    "          \"the month names has been assigned to the variable name 'months'.\")\n",
    "\n",
    "try:\n",
    "    if precip == correct_month_precip:\n",
    "        print(\"List of month precip values successfully assigned and has correct converted values!\")\n",
    "    else:\n",
    "        error_msg = \"\"\"There is a variable named 'precip', but it is assigned these values:\\n{}\n",
    "Please ensure that the values are the values from the table above, \n",
    "but converted to be mm instead of inches\"\"\"\n",
    "        print(error_msg.format(precip))\n",
    "except NameError:\n",
    "    print(\"Could not find a list named 'precip', please ensure that your list containing\\n\",\n",
    "          \"the converted month precip values has been assigned to the variable name 'precip'.\")\n",
    "\n",
    "try:\n",
    "    plot_test = mpc.PlotTester(ax)\n",
    "    try:\n",
    "        plot_test.assert_plot_type(\n",
    "            \"bar\",\n",
    "            \"Plot is not a bar type, make sure that the original code you copied wasn't modified to change the plot type!\")\n",
    "        print(\"Plot is a bar type.\")\n",
    "    except AssertionError as error:\n",
    "        print(error)\n",
    "\n",
    "    try:\n",
    "        needed_titles = [[\"Boulder\"], [\n",
    "            \"average\", \"mean\"], [\"month\"], [\"precip\"]]\n",
    "        plot_test.assert_title_contains(\n",
    "            strings_expected=needed_titles,\n",
    "            message_default=\"Please make sure that the title contains all needed keywords specified in the instructions\")\n",
    "        print(\"Plot has all of the needed keywords in the title.\")\n",
    "    except AssertionError as error:\n",
    "        print(error)\n",
    "\n",
    "    try:\n",
    "        needed_xaxis_words = [[\"precip\"], [\"mm\", \"millimeters\"]]\n",
    "        plot_test.assert_axis_label_contains(\n",
    "            strings_expected=needed_xaxis_words,\n",
    "            message_default=\"Please make sure that the x axis contains all needed keywords specified in the instructions\")\n",
    "        print(\"Plot has all of the needed keywords in the x axis.\")\n",
    "    except AssertionError as error:\n",
    "        print(error)\n",
    "\n",
    "    try:\n",
    "        needed_yaxis_words = [\"month\"]\n",
    "        plot_test.assert_axis_label_contains(\n",
    "            strings_expected=needed_yaxis_words,\n",
    "            message_default=\"Please make sure that the y axis contains all needed keywords specified in the instructions\")\n",
    "        print(\"Plot has all of the needed keywords in the y axis.\")\n",
    "    except AssertionError as error:\n",
    "        print(error)\n",
    "except NameError:\n",
    "    print(\"Can't find variable 'ax', please make sure you copy and pasted the code correctly into the cell above.\")"
   ]
  }
 ],
 "metadata": {
  "celltoolbar": "Tags",
  "kernelspec": {
   "display_name": "Python 3",
   "language": "python",
   "name": "python3"
  },
  "language_info": {
   "codemirror_mode": {
    "name": "ipython",
    "version": 3
   },
   "file_extension": ".py",
   "mimetype": "text/x-python",
   "name": "python",
   "nbconvert_exporter": "python",
   "pygments_lexer": "ipython3",
   "version": "3.7.6"
  }
 },
 "nbformat": 4,
 "nbformat_minor": 4
}
