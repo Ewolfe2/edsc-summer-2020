{
 "cells": [
  {
   "cell_type": "markdown",
   "metadata": {},
   "source": [
    "<div class='notice--success' markdown=\"1\">\n",
    "\n",
    "## <i class=\"fa fa-graduation-cap\" aria-hidden=\"true\"></i> Learning Objectives\n",
    "\n",
    "At the end of this activity, you will be able to:\n",
    "\n",
    "* Explain how **Python** uses variables to store data.\n",
    "* Write **Python** code to:\n",
    "    * create variables that store single data values (e.g. numeric values, text strings). \n",
    "    * check the type of a variable (e.g. integer, string).  \n",
    "\n",
    "</div>\n",
    " \n",
    "\n",
    "## What are Variables in Python?\n",
    "\n",
    "Within a programming workflow, variables store data (i.e. information) that you want to re-use in your code (e.g. single numeric value, filename, path to a directory). \n",
    "\n",
    "In **Python**, variables can be created without explicitly defining the type of data that it will hold (e.g. integer, text string). \n",
    "\n",
    "You can easily create a variable in **Python** using the following syntax:\n",
    "\n",
    "`variable_name = value`\n",
    "\n",
    "This basic syntax is the same whether you are assigning a numeric value (e.g. `a = 3`) or a text string value (e.g. `a = \"word\"` which uses `\"\"` to indicate a text string value). This differs from many other programming languages that require the variable to be explicitly assigned a data type when it is created.\n",
    "\n",
    "### Importance of Clear and Distinct Variable Names\n",
    "\n",
    "Just like you want to use good naming conventions for directories on your computer, you also want to assign clear and short names to variables, avoiding spaces or complicated wording, but still specific enough that you know what it is. Underscores (e.g. `boulder_precip_in`) can be helpful to add more detail to the name (e.g. location, measurement, units) and still preserve code readibility. \n",
    "\n",
    "A key characteristic of variables is that once a variable is created within your code (e.g. **Jupyter Notebook** file), the value of that variable will remain the same and can be reused throughout the code.\n",
    "\n",
    "However, you can overwrite an existing variable if you create a new variable with the same name. \n",
    "\n",
    "While there are occassions in which you might want to overwrite an existing variable to assign a new value to it, you want to make sure that you give variables both clear and distinct names to avoid *accidentally* overwriting variable values.  \n",
    "\n",
    "\n",
    "## Numeric Variables\n",
    "\n",
    "In **Python**, you can create variables to store numeric values such as  integers (`int`) (i.e. whole numbers) and floating point numbers (`float`) (i.e. decimal values).  \n",
    "\n",
    "For more advanced math applications, you can also use variables to work with <a href=\"https://docs.python.org/3/library/stdtypes.html#numeric-types-int-float-complex\" target=\"_blank\">complex numbers (see Python documentation for more details)</a>. \n",
    "\n",
    "As described previously, you do not need to define which numeric type you want to use to create a variable. \n",
    "\n",
    "For example, you can create a `int` variable called `boulder_precip_in`, which contains the value for the [average annual precipitation in inches (in) in Boulder, Colorado](https://psl.noaa.gov/boulder/Boulder.mm.precip.html), rounded to the nearest integer."
   ]
  },
  {
   "cell_type": "code",
   "execution_count": null,
   "metadata": {},
   "outputs": [],
   "source": [
    "# This is a comment line in Python\n",
    "boulder_precip_in = 20\n",
    "\n",
    "# You can see the value of any variable by calling the variable name\n",
    "boulder_precip_in"
   ]
  },
  {
   "cell_type": "markdown",
   "metadata": {},
   "source": [
    "You could also create a `float` variable to capture the data using decimal units. "
   ]
  },
  {
   "cell_type": "code",
   "execution_count": null,
   "metadata": {},
   "outputs": [],
   "source": [
    "boulder_precip_in = 20.23\n",
    "\n",
    "boulder_precip_in"
   ]
  },
  {
   "cell_type": "markdown",
   "metadata": {},
   "source": [
    "Notice that in these examples, `boulder_precip_in` was overwritten by the second variable definition because both definitions assigned the same name to the variable. "
   ]
  },
  {
   "cell_type": "markdown",
   "metadata": {},
   "source": [
    "## Text String Variables\n",
    "\n",
    "To create a variable containing a text string (`str`), you need to use quotations (`\"\"`) around the value to identify the value as a text string (e.g. `variable_name = \"text\"`). \n",
    "\n",
    "While in **Python** the single quote (`''`) and the double quote (`\"\"`) are used interchangeably (see the official <a href=\"https://docs.python.org/3/library/stdtypes.html#text-sequence-type-str\" target=\"_blank\">Python Docs</a> for more examples), it is good to choose one option and use it consistently. The exercises and materials that you will explore use the double quote (`\"\"`) for identifying text strings (`str`). \n",
    "\n",
    "Using quotes, you can create `str` variables that contain a single word or many words, including punctuation."
   ]
  },
  {
   "cell_type": "code",
   "execution_count": null,
   "metadata": {},
   "outputs": [],
   "source": [
    "city = \"Boulder\"\n",
    "\n",
    "city"
   ]
  },
  {
   "cell_type": "code",
   "execution_count": null,
   "metadata": {},
   "outputs": [],
   "source": [
    "city = \"Boulder, CO\"\n",
    "\n",
    "city"
   ]
  },
  {
   "cell_type": "code",
   "execution_count": null,
   "metadata": {
    "scrolled": true
   },
   "outputs": [],
   "source": [
    "city = \"Boulder, CO is the home of the University of Colorado, Boulder campus.\"\n",
    "\n",
    "city"
   ]
  },
  {
   "cell_type": "markdown",
   "metadata": {},
   "source": [
    "### Interactive Activity\n",
    "\n",
    "Assign values to variables! In the cell below, create a variable called `precip_int` that has an integer as its value. Then, create another variable called `precip_float` that has a float as its value. Last, create another variable called `location` that has a string as its value. \n",
    "\n",
    "For these variables, use the [average annual precipitation in New York City](https://www.usclimatedata.com/climate/new-york/new-york/united-states/usny0996), which is 46.23 inches. \n",
    "\n",
    "Assign this precipitation value to variables as an integer (`precip_int`) and a float (`precip_float`). Then, assign the city name `New York City` to a string variable (`location`). "
   ]
  },
  {
   "cell_type": "code",
   "execution_count": null,
   "metadata": {},
   "outputs": [],
   "source": [
    "# Assign your variable values below this comment line!\n"
   ]
  },
  {
   "cell_type": "markdown",
   "metadata": {},
   "source": [
    "The cell below includes a set of tests to see if you correctly assigned the variables in the cell above. They will provide you with feedback on each variable to ensure it was correctly assigned. \n",
    "\n",
    "Be sure to run the cell below to check your variables (please do not modify the cell!)."
   ]
  },
  {
   "cell_type": "code",
   "execution_count": null,
   "metadata": {
    "scrolled": true
   },
   "outputs": [],
   "source": [
    "# Run this cell to ensure variables were correctly assigned \n",
    "\n",
    "# Integer tests\n",
    "try:\n",
    "    print(\"Variable precip_int has been assigned the value \" +\n",
    "          str(precip_int) + \".\")\n",
    "    if isinstance(precip_int, int):\n",
    "        print(\"Variable precip_int is an integer, good job!\")\n",
    "        if precip_int == 46:\n",
    "            print(\"Variable precip_int equals 46, good job!\")\n",
    "        else:\n",
    "            print(\"Variable precip_int exists and is an integer, but has the wrong value.\\n\",\n",
    "                  \"Make sure you assigned the value of precip_int to be a whole number closest\\n\",\n",
    "                  \"to the average annual rainfall in NYC.\")\n",
    "    else:\n",
    "        print(\"Variable precip_int exists, but is not an integer.\\n\",\n",
    "              \"Make sure you assigned the value of precip_int to be a whole number.\")\n",
    "    \n",
    "except NameError:\n",
    "    print(\"Can't find a variable named precip_int, make sure you've\\n\",\n",
    "          \"correctly spelled the variable name and assigned it a value!\")\n",
    "\n",
    "# Float tests\n",
    "try:\n",
    "    print(\"Variable precip_float has been assigned the value \" +\n",
    "          str(precip_float) + \".\")\n",
    "    if isinstance(precip_float, float):\n",
    "        print(\"Variable precip_float is a float, good job!\")\n",
    "        if precip_float == 46.23:\n",
    "            print(\"Variable precip_float equals 46.23, good job!\")\n",
    "        else:\n",
    "            print(\"Variable precip_float exists and is a float, but has the wrong value.\\n\",\n",
    "                  \"Make sure you assigned the value of precip_float to be equivalent\\n\",\n",
    "                  \"to the average annual rainfall in NYC.\")\n",
    "    else:\n",
    "        print(\"Variable precip_float exists, but is not a float.\\n\",\n",
    "              \"Make sure you assigned the value of precip_float to be a number with a decimal value.\")\n",
    "except NameError:\n",
    "    print(\"Can't find a variable named precip_float, make sure you've\\n\",\n",
    "          \"correctly spelled the variable name and assigned it a value!\")\n",
    "\n",
    "# String tests\n",
    "try:\n",
    "    print(\"Variable location has been assigned the value \" +\n",
    "          str(location) + \".\")\n",
    "    if isinstance(location, str):\n",
    "        print(\"Variable location is a string, good job!\")\n",
    "        if location == \"New York City\":\n",
    "            print(\"Variable location equals New York City, good job!\")\n",
    "        else:\n",
    "            print(\"Variable location exists and is a string, but has the wrong value.\\n\",\n",
    "                  \"Make sure you assigned the value of location to be \\n\",\n",
    "                  \"a string of the location: New York City.\")\n",
    "    else:\n",
    "        print(\"Variable location exists, but is not a string.\\n\",\n",
    "              \"Make sure you assigned the value of location to be a value surrounded by quotes.\")\n",
    "except NameError:\n",
    "    print(\"Can't find a variable named location, make sure you've\\n\",\n",
    "          \"correctly spelled the variable name and assigned it a value!\")"
   ]
  },
  {
   "cell_type": "markdown",
   "metadata": {},
   "source": [
    "## Check Variable Type\n",
    "\n",
    "After you create a variable, you can check the type using the following syntax:\n",
    "\n",
    "`type(variable_name)`\n",
    "\n",
    "For example, you can check the type of `boulder_precip_in` after each time that a variable is created with that same name to see that the type changes from `int` to `float`. "
   ]
  },
  {
   "cell_type": "code",
   "execution_count": null,
   "metadata": {},
   "outputs": [],
   "source": [
    "boulder_precip_in = 21\n",
    "\n",
    "type(boulder_precip_in)"
   ]
  },
  {
   "cell_type": "code",
   "execution_count": null,
   "metadata": {},
   "outputs": [],
   "source": [
    "boulder_precip_in = 20.68\n",
    "\n",
    "type(boulder_precip_in)"
   ]
  },
  {
   "cell_type": "markdown",
   "metadata": {},
   "source": [
    "You can also check the type of the variable named `city`, which is a string (`str`) regardless of how many words (or punctuation) it contains. "
   ]
  },
  {
   "cell_type": "code",
   "execution_count": null,
   "metadata": {},
   "outputs": [],
   "source": [
    "city = \"Boulder\"\n",
    "\n",
    "type(city)"
   ]
  },
  {
   "cell_type": "code",
   "execution_count": null,
   "metadata": {},
   "outputs": [],
   "source": [
    "city = \"Boulder, CO is the home of the University of Colorado, Boulder campus.\"\n",
    "\n",
    "type(city)"
   ]
  },
  {
   "cell_type": "markdown",
   "metadata": {},
   "source": [
    "Checking the type for a variable can help you make sure that you understand what a variable contains and how it can be used. \n",
    "\n",
    "For example, you can actually create a `str` variable that contain numbers if you use the syntax for creating a `str` variable (e.g. `variable_name = \"value\"`).\n",
    "\n",
    "Notice below that `city_precip` is still a `str`, even though it contains a number."
   ]
  },
  {
   "cell_type": "code",
   "execution_count": null,
   "metadata": {},
   "outputs": [],
   "source": [
    "city_precip = \"20.68\"\n",
    "\n",
    "type(city_precip)"
   ]
  },
  {
   "cell_type": "markdown",
   "metadata": {},
   "source": [
    "Thus, the value itself is not important for determining whether the variable is a numeric or string type - the syntax does this. \n",
    "\n",
    "A good reminder that it is important to make sure that you are defining variables with the appropriate syntax to distinguish between numeric and string types. "
   ]
  },
  {
   "cell_type": "markdown",
   "metadata": {},
   "source": [
    "### Interactive Activity\n",
    "\n",
    "Check the type of the variables that you made previously! In the cells below, use the `type()` function to check the type for each variable you created previously, i.e. `precip_int`, `precip_float`, and `location`."
   ]
  },
  {
   "cell_type": "code",
   "execution_count": null,
   "metadata": {},
   "outputs": [],
   "source": [
    "# Check your integer variable type here! \n",
    "# The output below the cell should be the word \"int\"\n"
   ]
  },
  {
   "cell_type": "code",
   "execution_count": null,
   "metadata": {},
   "outputs": [],
   "source": [
    "# Check your float variable type here! \n",
    "# The output below the cell should be the word \"float\"\n"
   ]
  },
  {
   "cell_type": "code",
   "execution_count": null,
   "metadata": {},
   "outputs": [],
   "source": [
    "# Check your string variable type here! \n",
    "# The output below the cell should be the word \"str\"\n"
   ]
  }
 ],
 "metadata": {
  "celltoolbar": "Tags",
  "jupytext": {
   "formats": "ipynb,md"
  },
  "kernelspec": {
   "display_name": "Python 3",
   "language": "python",
   "name": "python3"
  },
  "language_info": {
   "codemirror_mode": {
    "name": "ipython",
    "version": 3
   },
   "file_extension": ".py",
   "mimetype": "text/x-python",
   "name": "python",
   "nbconvert_exporter": "python",
   "pygments_lexer": "ipython3",
   "version": "3.7.6"
  },
  "varInspector": {
   "cols": {
    "lenName": 16,
    "lenType": 16,
    "lenVar": 40
   },
   "kernels_config": {
    "python": {
     "delete_cmd_postfix": "",
     "delete_cmd_prefix": "del ",
     "library": "var_list.py",
     "varRefreshCmd": "print(var_dic_list())"
    },
    "r": {
     "delete_cmd_postfix": ") ",
     "delete_cmd_prefix": "rm(",
     "library": "var_list.r",
     "varRefreshCmd": "cat(var_dic_list()) "
    }
   },
   "types_to_exclude": [
    "module",
    "function",
    "builtin_function_or_method",
    "instance",
    "_Feature"
   ],
   "window_display": false
  }
 },
 "nbformat": 4,
 "nbformat_minor": 2
}
