{
 "cells": [
  {
   "cell_type": "markdown",
   "metadata": {},
   "source": [
    "![Colored Bar](colored-bar.png)"
   ]
  },
  {
   "cell_type": "markdown",
   "metadata": {},
   "source": [
    "# TODO: add a top bar with the logo just like we have in our homework assignments. do this for each notebook please!\n",
    "\n",
    "<div class='notice--success' markdown=\"1\">\n",
    "\n",
    "## <i class=\"fa fa-graduation-cap\" aria-hidden=\"true\"></i> Learning Objectives\n",
    "\n",
    "At the end of this activity, you will be able to:\n",
    "\n",
    "* Explain how **Python** uses variables to store data.\n",
    "* Write **Python** code to:\n",
    "    * create variables that store single data values (e.g. numeric values, text strings). \n",
    "    * check the type of a variable (e.g. integer, string).  \n",
    "</div>\n",
    " "
   ]
  },
  {
   "cell_type": "markdown",
   "metadata": {},
   "source": [
    "## What are Variables in Python?\n",
    "\n",
    "A variable in programming is used to store information that you want to re-use in your code. Examples of things that you may wish to save in your code include:\n",
    "\n",
    "* numeric values, \n",
    "* filenames\n",
    "* paths \n",
    "* or even larger datasets such as a remote sensing image or a terrain model\n",
    "\n",
    "In **Python**, variables can be created without explicitly defining the type of data that it will hold (e.g. integer, text string). \n",
    "\n",
    "You can create a variable in **Python** using the following syntax:\n",
    "\n",
    "`variable_name = value`"
   ]
  },
  {
   "cell_type": "code",
   "execution_count": 1,
   "metadata": {},
   "outputs": [],
   "source": [
    "# Try it out - run this cell\n",
    "my_variable = 5"
   ]
  },
  {
   "cell_type": "code",
   "execution_count": 3,
   "metadata": {},
   "outputs": [],
   "source": [
    "# In this cell type my_variable and run the cell!"
   ]
  },
  {
   "cell_type": "markdown",
   "metadata": {},
   "source": [
    "This syntax for creating variables the same whether you are assigning a numeric value (e.g. `a = 3`) or a text string value (e.g. `a = \"word\"` which uses `\"\"` to indicate a text string value). This differs from some programming languages that require the variable to be explicitly assigned a data type when it is created.\n",
    "\n",
    "### Expressive Programming: Easy to Understand Variable Names Makes Your Code Easier to Read\n",
    "\n",
    "# TODO: Add link to naming conventions for directories -- if we have it to the first sentence below?? \n",
    "\n",
    "Just like you want to use expressive naming conventions (names that represent what is stored within the directory) for directories on your computer, you also want to use short, clear names for your variables to make your code easier to read. Best practices for variable names include:\n",
    "\n",
    "When naming variables, you want to avoid: \n",
    "\n",
    "* spaces in your variable names\n",
    "* complicated wording\n",
    "* long variable names\n",
    "* words that do not represent what the variable contains (example: `my_variable` vs `precip_data`)\n",
    "\n",
    "When naming a variable you want to keep the name short but specific enough that someone reading your code can understand what it contains. It is good practice to use underscores (e.g. `boulder_precip_in`) to create multi-word variable names that provide specifics regarding the variable's content. The underscore makes the variable name easier to read and follows python PEP8 best practices for code readability. \n",
    "\n",
    "# TODO -- add a list of good and less good variable names here (get them fromt he expressive code lessons and link to expressive code lesson as well)\n",
    "\n",
    "\n",
    "### Variables Are Available In Your Coding Environment Once Defined \n",
    "\n",
    "A key characteristic of variables is that once you create a variable in your coding environment (that is to say you run the actual line of code that defines the variable), it is available throughout your code. So for example if you create a variable at the top of a Jupyter Notebook, the value of associated with that variable will remain the same and can be reused in cells lower down in the notebook.\n",
    "\n",
    "# TODO: make this statement below a data tip and add a code example of reassigning the variable to another value\n",
    "You can overwrite an existing variable if you create a new variable with the same name. \n",
    "\n",
    "While there are occasions in which you might want to overwrite an existing variable to assign a new value to it, you want to make sure that you give variables both clear and distinct names to avoid *accidentally* overwriting variable values.  "
   ]
  },
  {
   "cell_type": "code",
   "execution_count": 4,
   "metadata": {},
   "outputs": [
    {
     "data": {
      "text/plain": [
       "55"
      ]
     },
     "execution_count": 4,
     "metadata": {},
     "output_type": "execute_result"
    }
   ],
   "source": [
    "# Here you assign the variable name temperature the value 55 (a number)\n",
    "temperature = 55\n",
    "temperature"
   ]
  },
  {
   "cell_type": "code",
   "execution_count": 5,
   "metadata": {},
   "outputs": [
    {
     "data": {
      "text/plain": [
       "'doctor'"
      ]
     },
     "execution_count": 5,
     "metadata": {},
     "output_type": "execute_result"
    }
   ],
   "source": [
    "# Note that you can easily reassign a variable name to contain a new value (a string / word in this case)\n",
    "temperature = \"doctor\"\n",
    "temperature"
   ]
  },
  {
   "cell_type": "markdown",
   "metadata": {},
   "source": [
    "Python data types are important to understand when coding. Below you will learn \n",
    "more about the different types of variables that you can store. \n",
    "\n",
    "## Numeric Variables in Python\n",
    "\n",
    "In **Python**, you can create variables to store numeric values such as  \n",
    "integers (`int`) which represent whole numbers and floating point numbers \n",
    "which represent decimal values (`float`).  \n",
    "\n",
    "For more advanced math applications, you can also use variables to work with <a href=\"https://docs.python.org/3/library/stdtypes.html#numeric-types-int-float-complex\" target=\"_blank\">complex numbers (see Python documentation for more details)</a>. \n",
    "\n",
    "As described previously, you do not need to define which numeric type you want to use to create a variable. \n",
    "\n",
    "For example, you can create a `int` variable called `boulder_precip_in`, which contains the value for the [average annual precipitation in inches (in) in Boulder, Colorado](https://psl.noaa.gov/boulder/Boulder.mm.precip.html), rounded to the nearest integer."
   ]
  },
  {
   "cell_type": "code",
   "execution_count": 6,
   "metadata": {},
   "outputs": [
    {
     "data": {
      "text/plain": [
       "20"
      ]
     },
     "execution_count": 6,
     "metadata": {},
     "output_type": "execute_result"
    }
   ],
   "source": [
    "# This is a comment line in Python\n",
    "boulder_precip_integer = 20\n",
    "\n",
    "# You can see the value of any variable by calling the variable name\n",
    "boulder_precip_integer"
   ]
  },
  {
   "cell_type": "markdown",
   "metadata": {},
   "source": [
    "You can use the `type()` function to figure out the type of data stored in a \n",
    "variable."
   ]
  },
  {
   "cell_type": "code",
   "execution_count": 7,
   "metadata": {},
   "outputs": [
    {
     "data": {
      "text/plain": [
       "int"
      ]
     },
     "execution_count": 7,
     "metadata": {},
     "output_type": "execute_result"
    }
   ],
   "source": [
    "# What is the type of data stored in boulder_precip_in\n",
    "type(boulder_precip_integer)"
   ]
  },
  {
   "cell_type": "markdown",
   "metadata": {},
   "source": [
    "If your data has decimal places associated with it, it will be stored in Python \n",
    "as a type: `float`. "
   ]
  },
  {
   "cell_type": "code",
   "execution_count": 10,
   "metadata": {},
   "outputs": [
    {
     "data": {
      "text/plain": [
       "20.23"
      ]
     },
     "execution_count": 10,
     "metadata": {},
     "output_type": "execute_result"
    }
   ],
   "source": [
    "boulder_precip_float = 20.23\n",
    "\n",
    "boulder_precip_float"
   ]
  },
  {
   "cell_type": "code",
   "execution_count": 11,
   "metadata": {},
   "outputs": [
    {
     "data": {
      "text/plain": [
       "float"
      ]
     },
     "execution_count": 11,
     "metadata": {},
     "output_type": "execute_result"
    }
   ],
   "source": [
    "type(boulder_precip_float)"
   ]
  },
  {
   "cell_type": "markdown",
   "metadata": {},
   "source": [
    "## How to Store Text Variables: Strings in Python\n",
    "\n",
    "To create a variable containing a text string (`str`), you use quotation marks \n",
    "(`\"\"`) around the value. For example: \n",
    "\n",
    "`variable_name = \"text\"`\n",
    "\n",
    "While in **Python** the single quote (`''`) and the double quote (`\"\"`) are \n",
    "used interchangeably (see the official <a href=\"https://docs.python.org/3/library/stdtypes.html#text-sequence-type-str\" target=\"_blank\">Python Docs</a> for more examples), we suggest \n",
    "that you use double quotes `\"\"` to define strings (type == `str`) following \n",
    "`PEP8` code style for Python best practices. \n",
    "\n",
    "Using quotes, you can create `str` variables that contain a single word or \n",
    "many words, including punctuation. Below are some examples of creating a string. "
   ]
  },
  {
   "cell_type": "code",
   "execution_count": null,
   "metadata": {},
   "outputs": [],
   "source": [
    "city = \"Boulder\"\n",
    "\n",
    "city"
   ]
  },
  {
   "cell_type": "code",
   "execution_count": null,
   "metadata": {},
   "outputs": [],
   "source": [
    "city_state = \"Boulder, CO\"\n",
    "\n",
    "city_state"
   ]
  },
  {
   "cell_type": "code",
   "execution_count": null,
   "metadata": {
    "scrolled": true
   },
   "outputs": [],
   "source": [
    "city_description = \"Boulder, CO is the home of the University of Colorado, Boulder campus.\"\n",
    "\n",
    "city_description"
   ]
  },
  {
   "cell_type": "markdown",
   "metadata": {},
   "source": [
    "### Interactive Activity\n",
    "\n",
    "Assign values to variables! In the cell below, create a variable called `precip_int` that has an integer as its value. Then, create another variable called `precip_float` that has a float as its value. Last, create another variable called `location` that has a string as its value. \n",
    "\n",
    "For these variables, use the [average annual precipitation in New York City](https://www.usclimatedata.com/climate/new-york/new-york/united-states/usny0996), which is 46.23 inches. \n",
    "\n",
    "Assign this precipitation value to variables as an integer (`precip_int`) and a float (`precip_float`). Then, assign the city name `New York City` to a string variable (`location`). "
   ]
  },
  {
   "cell_type": "code",
   "execution_count": null,
   "metadata": {},
   "outputs": [],
   "source": [
    "# Assign your variable values below this comment line!"
   ]
  },
  {
   "cell_type": "markdown",
   "metadata": {},
   "source": [
    "The cell below includes a set of tests to see if you correctly assigned the variables in the cell above. They will provide you with feedback on each variable to ensure it was correctly assigned. \n",
    "\n",
    "Be sure to run the cell below to check your variables (please do not modify the cell!).\n",
    "\n",
    "# TODO -- could we have a little script that runs below rather than that code? it seems complex for a new coder to have to look at? "
   ]
  },
  {
   "cell_type": "code",
   "execution_count": null,
   "metadata": {
    "scrolled": true
   },
   "outputs": [],
   "source": [
    "# Run this cell to ensure variables were correctly assigned\n",
    "\n",
    "# Integer tests\n",
    "try:\n",
    "    print(\"Variable precip_int has been assigned the value \" +\n",
    "          str(precip_int) + \".\")\n",
    "    if isinstance(precip_int, int):\n",
    "        print(\"Variable precip_int is an integer, good job!\")\n",
    "        if precip_int == 46:\n",
    "            print(\"Variable precip_int equals 46, good job!\")\n",
    "        else:\n",
    "            print(\"Variable precip_int exists and is an integer, but has the wrong value.\\n\",\n",
    "                  \"Make sure you assigned the value of precip_int to be a whole number closest\\n\",\n",
    "                  \"to the average annual rainfall in NYC.\")\n",
    "    else:\n",
    "        print(\"Variable precip_int exists, but is not an integer.\\n\",\n",
    "              \"Make sure you assigned the value of precip_int to be a whole number.\")\n",
    "\n",
    "except NameError:\n",
    "    print(\"Can't find a variable named precip_int, make sure you've\\n\",\n",
    "          \"correctly spelled the variable name and assigned it a value!\")\n",
    "\n",
    "# Float tests\n",
    "try:\n",
    "    print(\"Variable precip_float has been assigned the value \" +\n",
    "          str(precip_float) + \".\")\n",
    "    if isinstance(precip_float, float):\n",
    "        print(\"Variable precip_float is a float, good job!\")\n",
    "        if precip_float == 46.23:\n",
    "            print(\"Variable precip_float equals 46.23, good job!\")\n",
    "        else:\n",
    "            print(\"Variable precip_float exists and is a float, but has the wrong value.\\n\",\n",
    "                  \"Make sure you assigned the value of precip_float to be equivalent\\n\",\n",
    "                  \"to the average annual rainfall in NYC.\")\n",
    "    else:\n",
    "        print(\"Variable precip_float exists, but is not a float.\\n\",\n",
    "              \"Make sure you assigned the value of precip_float to be a number with a decimal value.\")\n",
    "except NameError:\n",
    "    print(\"Can't find a variable named precip_float, make sure you've\\n\",\n",
    "          \"correctly spelled the variable name and assigned it a value!\")\n",
    "\n",
    "# String tests\n",
    "try:\n",
    "    print(\"Variable location has been assigned the value \" +\n",
    "          str(location) + \".\")\n",
    "    if isinstance(location, str):\n",
    "        print(\"Variable location is a string, good job!\")\n",
    "        if location == \"New York City\":\n",
    "            print(\"Variable location equals New York City, good job!\")\n",
    "        else:\n",
    "            print(\"Variable location exists and is a string, but has the wrong value.\\n\",\n",
    "                  \"Make sure you assigned the value of location to be \\n\",\n",
    "                  \"a string of the location: New York City.\")\n",
    "    else:\n",
    "        print(\"Variable location exists, but is not a string.\\n\",\n",
    "              \"Make sure you assigned the value of location to be a value surrounded by quotes.\")\n",
    "except NameError:\n",
    "    print(\"Can't find a variable named location, make sure you've\\n\",\n",
    "          \"correctly spelled the variable name and assigned it a value!\")"
   ]
  },
  {
   "cell_type": "markdown",
   "metadata": {},
   "source": [
    "## Check Variable Type\n",
    "\n",
    "After you create a variable, you can check the type using the following syntax:\n",
    "\n",
    "`type(variable_name)`\n",
    "\n",
    "For example, you can check the type of `boulder_precip_in` after each time that a variable is created with that same name to see that the type changes from `int` to `float`. "
   ]
  },
  {
   "cell_type": "code",
   "execution_count": null,
   "metadata": {},
   "outputs": [],
   "source": [
    "boulder_precip_in = 21\n",
    "\n",
    "type(boulder_precip_in)"
   ]
  },
  {
   "cell_type": "code",
   "execution_count": null,
   "metadata": {},
   "outputs": [],
   "source": [
    "boulder_precip_in = 20.68\n",
    "\n",
    "type(boulder_precip_in)"
   ]
  },
  {
   "cell_type": "markdown",
   "metadata": {},
   "source": [
    "You can also check the type of the variable named `city`, which is a string (`str`) regardless of how many words (or punctuation) it contains. "
   ]
  },
  {
   "cell_type": "code",
   "execution_count": null,
   "metadata": {},
   "outputs": [],
   "source": [
    "city = \"Boulder\"\n",
    "\n",
    "type(city)"
   ]
  },
  {
   "cell_type": "code",
   "execution_count": null,
   "metadata": {},
   "outputs": [],
   "source": [
    "city = \"Boulder, CO is the home of the University of Colorado, Boulder campus.\"\n",
    "\n",
    "type(city)"
   ]
  },
  {
   "cell_type": "markdown",
   "metadata": {},
   "source": [
    "Checking the variable `type()` let's you test what a variable contains and \n",
    "in turn how it can be used. \n",
    "\n",
    "For example, you can actually create a `str` variable that contain numbers if you use the syntax for creating a `str` variable (e.g. `variable_name = \"value\"`).\n",
    "\n",
    "Notice below that `city_precip` is still a `str`, even though it contains a number."
   ]
  },
  {
   "cell_type": "code",
   "execution_count": 12,
   "metadata": {},
   "outputs": [
    {
     "data": {
      "text/plain": [
       "str"
      ]
     },
     "execution_count": 12,
     "metadata": {},
     "output_type": "execute_result"
    }
   ],
   "source": [
    "city_precip = \"20.68\"\n",
    "\n",
    "type(city_precip)"
   ]
  },
  {
   "cell_type": "markdown",
   "metadata": {},
   "source": [
    "If you wanted to perform math on that variable it would not work the way \n",
    "you think it should. "
   ]
  },
  {
   "cell_type": "code",
   "execution_count": 14,
   "metadata": {},
   "outputs": [
    {
     "data": {
      "text/plain": [
       "'20.6820.68'"
      ]
     },
     "execution_count": 14,
     "metadata": {},
     "output_type": "execute_result"
    }
   ],
   "source": [
    "# Multiply city_precip by 2\n",
    "city_precip*2"
   ]
  },
  {
   "cell_type": "markdown",
   "metadata": {},
   "source": [
    "Thus, the value itself is not important for determining whether the variable is a numeric or string type - the syntax does this. \n",
    "\n",
    "A good reminder that it is important to make sure that you are defining variables with the appropriate syntax to distinguish between numeric and string types. "
   ]
  },
  {
   "cell_type": "markdown",
   "metadata": {},
   "source": [
    "## Interactive Activity\n",
    "\n",
    "In the cells below, create three variables.\n",
    "In the first cell create a variable of type `int`.\n",
    "In the second cell create a variable of type `float`.\n",
    "In the third cell below create a variable of type `string`.\n",
    "\n",
    "After you create the variable use `type()` to test that the variable is of \n",
    "the correct type! "
   ]
  },
  {
   "cell_type": "markdown",
   "metadata": {
    "lines_to_next_cell": 2
   },
   "source": [
    "Create a variable of type int in this cell\n",
    "The output of `type(your-object-name-here)` below the cell should be the word  \"int\""
   ]
  },
  {
   "cell_type": "markdown",
   "metadata": {
    "lines_to_next_cell": 2
   },
   "source": [
    "Create a variable of type float in this cell\n",
    "The output of `type(your-object-name-here)` below the cell should be the word  \"float\""
   ]
  },
  {
   "cell_type": "markdown",
   "metadata": {
    "lines_to_next_cell": 2
   },
   "source": [
    "Create a variable of type string in this cell\n",
    "The output of `type(your-object-name-here)` below the cell should be the word \"str\""
   ]
  }
 ],
 "metadata": {
  "celltoolbar": "Tags",
  "jupytext": {
   "formats": "ipynb,py:light"
  },
  "kernelspec": {
   "display_name": "Python 3",
   "language": "python",
   "name": "python3"
  },
  "language_info": {
   "codemirror_mode": {
    "name": "ipython",
    "version": 3
   },
   "file_extension": ".py",
   "mimetype": "text/x-python",
   "name": "python",
   "nbconvert_exporter": "python",
   "pygments_lexer": "ipython3",
   "version": "3.7.6"
  },
  "toc": {
   "base_numbering": 1,
   "nav_menu": {},
   "number_sections": true,
   "sideBar": true,
   "skip_h1_title": false,
   "title_cell": "Table of Contents",
   "title_sidebar": "Contents",
   "toc_cell": false,
   "toc_position": {},
   "toc_section_display": true,
   "toc_window_display": false
  },
  "varInspector": {
   "cols": {
    "lenName": 16,
    "lenType": 16,
    "lenVar": 40
   },
   "kernels_config": {
    "python": {
     "delete_cmd_postfix": "",
     "delete_cmd_prefix": "del ",
     "library": "var_list.py",
     "varRefreshCmd": "print(var_dic_list())"
    },
    "r": {
     "delete_cmd_postfix": ") ",
     "delete_cmd_prefix": "rm(",
     "library": "var_list.r",
     "varRefreshCmd": "cat(var_dic_list()) "
    }
   },
   "types_to_exclude": [
    "module",
    "function",
    "builtin_function_or_method",
    "instance",
    "_Feature"
   ],
   "window_display": false
  }
 },
 "nbformat": 4,
 "nbformat_minor": 2
}
