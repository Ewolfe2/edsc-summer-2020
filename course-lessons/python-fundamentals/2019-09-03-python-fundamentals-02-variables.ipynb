{
 "cells": [
  {
   "cell_type": "raw",
   "metadata": {},
   "source": [
    "---\n",
    "layout: single\n",
    "title: 'Variables in Python'\n",
    "excerpt: \"Variables store data (i.e. information) that you want to re-use in your code (e.g. single numeric value, path to a directory or file). Learn how to to create and work with variables in Python.\"\n",
    "authors: ['Jenny Palomino', 'Leah Wasser']\n",
    "category: [courses]\n",
    "class-lesson: ['get-started-python']\n",
    "permalink: /courses/intro-to-earth-data-science/python-code-fundamentals/get-started-using-python/variables/\n",
    "nav-title: \"Python Variables\"\n",
    "dateCreated: 2019-07-01\n",
    "modified: '{:%Y-%m-%d}'.format(datetime.now())\n",
    "module-type: 'class'\n",
    "course: \"intro-to-earth-data-science-textbook\"\n",
    "week: 4\n",
    "sidebar:\n",
    "  nav:\n",
    "author_profile: false\n",
    "comments: true\n",
    "order: 2\n",
    "topics:\n",
    "  reproducible-science-and-programming: ['python']\n",
    "redirect_from:\n",
    "  - \"/courses/earth-analytics-bootcamp/python-variables-lists/variables/\"\n",
    "  - \"/courses/earth-analytics-python/use-time-series-data-in-python/objects-and-variables-in-python/\"\n",
    "  - \"/courses/earth-analytics-python/use-time-series-data-in-python/work-with-data-types-python/\"\n",
    "---"
   ]
  },
  {
   "cell_type": "markdown",
   "metadata": {},
   "source": [
    "{% include toc title=\"On This Page\" icon=\"file-text\" %}\n",
    "\n",
    "<div class='notice--success' markdown=\"1\">\n",
    "\n",
    "## <i class=\"fa fa-graduation-cap\" aria-hidden=\"true\"></i> Learning Objectives\n",
    "\n",
    "* Explain how **Python** uses variables to store data.\n",
    "* Write **Python** code to:\n",
    "    * create variables that store single data values (e.g. numeric values, text strings). \n",
    "    * check the type of a variable (e.g. integer, string).  \n",
    "\n",
    "</div>\n",
    " \n",
    "\n",
    "## What are Variables in Python?\n",
    "\n",
    "Within a programming workflow, variables store data (i.e. information) that you want to re-use in your code (e.g. single numeric value, filename, path to a directory). \n",
    "\n",
    "In **Python**, variables can be created without explicitly defining the type of data that it will hold (e.g. integer, text string). \n",
    "\n",
    "You can easily create a variable in **Python** using the following syntax:\n",
    "\n",
    "`variable_name = value`\n",
    "\n",
    "This basic syntax is the same whether you are assigning a numeric value (e.g. `a = 3`) or a text string value (e.g. `a = \"word\"` which uses `\"\"` to indicate a text string value). This differs from many other programming languages that require the variable to be explicitly assigned a data type when it is created.\n",
    "\n",
    "### Importance of Clear and Distinct Variable Names\n",
    "\n",
    "Just like you want to use good naming conventions for directories on your computer, you also want to assign clear and short names to variables, avoiding spaces or complicated wording, but still specific enough that you know what it is. Underscores (e.g. `boulder_precip_in`) can be helpful to add more detail to the name (e.g. location, measurement, units) and still preserve code readibility. \n",
    "\n",
    "A key characteristic of variables is that once a variable is created within your code (e.g. **Jupyter Notebook** file), the value of that variable will remain the same and can be reused throughout the code.\n",
    "\n",
    "However, you can overwrite an existing variable if you create a new variable with the same name. \n",
    "\n",
    "While there are occassions in which you might want to overwrite an existing variable to assign a new value to it, you want to make sure that you give variables both clear and distinct names to avoid *accidentally* overwriting variable values.  \n",
    "\n",
    "\n",
    "## Numeric Variables\n",
    "\n",
    "In **Python**, you can create variables to store numeric values such as  integers (`int`) (i.e. whole numbers) and floating point numbers (`float`) (i.e. decimal values).  \n",
    "\n",
    "For more advanced math applications, you can also use variables to work with <a href=\"https://docs.python.org/3/library/stdtypes.html#numeric-types-int-float-complex\" target=\"_blank\">complex numbers (see Python documentation for more details)</a>. \n",
    "\n",
    "As described previously, you do not need to define which numeric type you want to use to create a variable. \n",
    "\n",
    "For example, you can create a `int` variable called `boulder_precip_in`, which contains the rounded up value for the average annual precipitation in inches (in) in Boulder, Colorado. "
   ]
  },
  {
   "cell_type": "code",
   "execution_count": 1,
   "metadata": {},
   "outputs": [
    {
     "data": {
      "text/plain": [
       "21"
      ]
     },
     "execution_count": 1,
     "metadata": {},
     "output_type": "execute_result"
    }
   ],
   "source": [
    "boulder_precip_in = 21\n",
    "\n",
    "boulder_precip_in"
   ]
  },
  {
   "cell_type": "markdown",
   "metadata": {},
   "source": [
    "You could also create a `float` variable to capture the data using decimal units. "
   ]
  },
  {
   "cell_type": "code",
   "execution_count": 2,
   "metadata": {},
   "outputs": [
    {
     "data": {
      "text/plain": [
       "20.68"
      ]
     },
     "execution_count": 2,
     "metadata": {},
     "output_type": "execute_result"
    }
   ],
   "source": [
    "boulder_precip_in = 20.68\n",
    "\n",
    "boulder_precip_in"
   ]
  },
  {
   "cell_type": "markdown",
   "metadata": {},
   "source": [
    "Notice that in these examples, `boulder_precip_in` was overwritten by the second variable definition because both definitions assigned the same name to the variable. "
   ]
  },
  {
   "cell_type": "markdown",
   "metadata": {},
   "source": [
    "## Text String Variables\n",
    "\n",
    "To create a variable containing a text string (`str`), you need to use quotations (`\"\"`) around the value to identify the value as a text string (e.g. `variable_name = \"text\"`). \n",
    "\n",
    "While in **Python** the single quote (`''`) and the double quote (`\"\"`) are used interchangeably (see the official <a href=\"https://docs.python.org/3/library/stdtypes.html#text-sequence-type-str\" target=\"_blank\">Python Docs</a> for more examples), it is good to choose one option and use it consistently. This textbook uses the double quote (`\"\"`) for identifying text strings (`str`). \n",
    "\n",
    "Using quotes, you can create `str` variables that contain a single word or many words, including punctuation."
   ]
  },
  {
   "cell_type": "code",
   "execution_count": 10,
   "metadata": {},
   "outputs": [
    {
     "data": {
      "text/plain": [
       "'Boulder'"
      ]
     },
     "execution_count": 10,
     "metadata": {},
     "output_type": "execute_result"
    }
   ],
   "source": [
    "city = \"Boulder\"\n",
    "\n",
    "city"
   ]
  },
  {
   "cell_type": "code",
   "execution_count": 11,
   "metadata": {},
   "outputs": [
    {
     "data": {
      "text/plain": [
       "'Boulder, CO'"
      ]
     },
     "execution_count": 11,
     "metadata": {},
     "output_type": "execute_result"
    }
   ],
   "source": [
    "city = \"Boulder, CO\"\n",
    "\n",
    "city"
   ]
  },
  {
   "cell_type": "code",
   "execution_count": 12,
   "metadata": {},
   "outputs": [
    {
     "data": {
      "text/plain": [
       "'Boulder, CO is the home of the University of Colorado, Boulder campus.'"
      ]
     },
     "execution_count": 12,
     "metadata": {},
     "output_type": "execute_result"
    }
   ],
   "source": [
    "city = \"Boulder, CO is the home of the University of Colorado, Boulder campus.\"\n",
    "\n",
    "city"
   ]
  },
  {
   "cell_type": "markdown",
   "metadata": {},
   "source": [
    "## Check Variable Type\n",
    "\n",
    "After you create a variable, you can check the type using the following syntax:\n",
    "\n",
    "`type(variable_name)`\n",
    "\n",
    "For example, you can check the type of `boulder_precip_in` after each time that a variable is created with that same name to see that the type changes from `int` to `float`. "
   ]
  },
  {
   "cell_type": "code",
   "execution_count": 15,
   "metadata": {},
   "outputs": [
    {
     "data": {
      "text/plain": [
       "int"
      ]
     },
     "execution_count": 15,
     "metadata": {},
     "output_type": "execute_result"
    }
   ],
   "source": [
    "boulder_precip_in = 21\n",
    "\n",
    "type(boulder_precip_in)"
   ]
  },
  {
   "cell_type": "code",
   "execution_count": 16,
   "metadata": {},
   "outputs": [
    {
     "data": {
      "text/plain": [
       "float"
      ]
     },
     "execution_count": 16,
     "metadata": {},
     "output_type": "execute_result"
    }
   ],
   "source": [
    "boulder_precip_in = 20.68\n",
    "\n",
    "type(boulder_precip_in)"
   ]
  },
  {
   "cell_type": "markdown",
   "metadata": {},
   "source": [
    "You can also check the type of the variable named `city`, which is a string (`str`) regardless of how many words (or punctuation) it contains. "
   ]
  },
  {
   "cell_type": "code",
   "execution_count": 17,
   "metadata": {},
   "outputs": [
    {
     "data": {
      "text/plain": [
       "str"
      ]
     },
     "execution_count": 17,
     "metadata": {},
     "output_type": "execute_result"
    }
   ],
   "source": [
    "city = \"Boulder\"\n",
    "\n",
    "type(city)"
   ]
  },
  {
   "cell_type": "code",
   "execution_count": 18,
   "metadata": {},
   "outputs": [
    {
     "data": {
      "text/plain": [
       "str"
      ]
     },
     "execution_count": 18,
     "metadata": {},
     "output_type": "execute_result"
    }
   ],
   "source": [
    "city = \"Boulder, CO is the home of the University of Colorado, Boulder campus.\"\n",
    "\n",
    "type(city)"
   ]
  },
  {
   "cell_type": "markdown",
   "metadata": {},
   "source": [
    "Checking the type for a variable can help you make sure that you understand what a variable contains and how it can be used. \n",
    "\n",
    "For example, you can actually create a `str` variable that contain numbers if you use the syntax for creating a `str` variable (e.g. `variable_name = \"value\"`).\n",
    "\n",
    "Notice below that `city_precip` is still a `str`, even though it contains a number."
   ]
  },
  {
   "cell_type": "code",
   "execution_count": 19,
   "metadata": {},
   "outputs": [
    {
     "data": {
      "text/plain": [
       "str"
      ]
     },
     "execution_count": 19,
     "metadata": {},
     "output_type": "execute_result"
    }
   ],
   "source": [
    "city_precip = \"20.68\"\n",
    "\n",
    "type(city_precip)"
   ]
  },
  {
   "cell_type": "markdown",
   "metadata": {},
   "source": [
    "Thus, the value itself is not important for determining whether the variable is a numeric or string type - the syntax does this. \n",
    "\n",
    "A good reminder that it is important to make sure that you are defining variables with the appropriate syntax to distinguish between numeric and string types. "
   ]
  }
 ],
 "metadata": {
  "celltoolbar": "Tags",
  "jupytext": {
   "formats": "ipynb,md"
  },
  "kernelspec": {
   "display_name": "Python 3",
   "language": "python",
   "name": "python3"
  },
  "language_info": {
   "codemirror_mode": {
    "name": "ipython",
    "version": 3
   },
   "file_extension": ".py",
   "mimetype": "text/x-python",
   "name": "python",
   "nbconvert_exporter": "python",
   "pygments_lexer": "ipython3",
   "version": "3.7.3"
  },
  "varInspector": {
   "cols": {
    "lenName": 16,
    "lenType": 16,
    "lenVar": 40
   },
   "kernels_config": {
    "python": {
     "delete_cmd_postfix": "",
     "delete_cmd_prefix": "del ",
     "library": "var_list.py",
     "varRefreshCmd": "print(var_dic_list())"
    },
    "r": {
     "delete_cmd_postfix": ") ",
     "delete_cmd_prefix": "rm(",
     "library": "var_list.r",
     "varRefreshCmd": "cat(var_dic_list()) "
    }
   },
   "types_to_exclude": [
    "module",
    "function",
    "builtin_function_or_method",
    "instance",
    "_Feature"
   ],
   "window_display": false
  }
 },
 "nbformat": 4,
 "nbformat_minor": 2
}
