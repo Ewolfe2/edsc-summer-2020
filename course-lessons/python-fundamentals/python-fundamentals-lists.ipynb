{
 "cells": [
  {
   "cell_type": "markdown",
   "metadata": {},
   "source": [
    "<div class='notice--success' markdown=\"1\">\n",
    "\n",
    "## <i class=\"fa fa-graduation-cap\" aria-hidden=\"true\"></i> Learning Objectives\n",
    "\n",
    "At the end of this activity, you will be able to:\n",
    "\n",
    "* Explain how **Python** uses lists to store multiple data values.\n",
    "* Create new **Python** lists that contain `int`, `float` and `str` values.\n",
    "* Use the list index to update, add, and remove items in a **Python** list.\n",
    " \n",
    "</div>\n",
    " \n",
    " \n",
    "## What are Python Lists?\n",
    "\n",
    "A **Python** list is a data structure that stores a collection of values in a specified order (or sequence). **Python** lists are mutable, which means that they can be changed or updated.\n",
    "\n",
    "Another interesting feature of **Python** lists is that they can store data of different types, including a mix of `int`, `float`, `str`, etc, values, all in the same list.  You can even create a list that is composed of other lists!\n",
    "\n",
    "Each value in a list is called an item.  Since lists are sequences of items in a specified order, there is a label for the location (i.e. order number) of each item in the list.  \n",
    "\n",
    "This order label is referred to as an index. Indexing allows lists to be iterable, meaning that you can access the each item in list, in the order in which they appear in the sequence. \n",
    "\n",
    "\n",
    "### List Index in Python\n",
    "\n",
    "In **Python**, indexing is used by many data structures, such as lists, to organize data and manage the order of the items within the data structure. \n",
    "\n",
    "By default, **Python** indexing will always begin at `[0]`, rather `[1]`. \n",
    "\n",
    "Thus, the first item in a **Python** list has an index `[0]`, the second item in a list has an index `[1]`, and so on. \n",
    "\n",
    "You can use the index of an item to query its value. For example, you can use the index `[1]` to get the value for the 2nd item (`0.75`) in the following list of values (`0.70, 0.75, 1.85`). \n",
    "\n",
    "\n",
    "## Create Python Lists\n",
    "\n",
    "Previously in this chapter, you learned how to create variables to store single data values such as `boulder_precip_in = 20.68`, which contained the the average annual precipitation in inches (in) in Boulder, Colorado. \n",
    "\n",
    "To create a **Python** list, you use the following syntax:\n",
    "\n",
    "`list_name = [item_1, item_2, item_3]`\n",
    "\n",
    "Notice that the values (soon to be items in a list) are enclosed within brackets `[]` and are separated from each other using commas `,`. \n",
    "\n",
    "Similar to defining variables, you do not have to define what types of values will be stored in the list.\n",
    "\n",
    "For example, you can create lists of numeric values such as `floats`. "
   ]
  },
  {
   "cell_type": "code",
   "execution_count": 1,
   "metadata": {},
   "outputs": [
    {
     "data": {
      "text/plain": [
       "[0.7, 0.75, 1.85]"
      ]
     },
     "execution_count": 1,
     "metadata": {},
     "output_type": "execute_result"
    }
   ],
   "source": [
    "boulder_precip_in = [0.70, 0.75, 1.85]\n",
    "\n",
    "boulder_precip_in"
   ]
  },
  {
   "cell_type": "markdown",
   "metadata": {},
   "source": [
    "You can also create lists of `str` values. Just like defining `str` variables, you need to enclose the individual text strings using quotes `\"\"`. "
   ]
  },
  {
   "cell_type": "code",
   "execution_count": 2,
   "metadata": {},
   "outputs": [
    {
     "data": {
      "text/plain": [
       "['January', 'February', 'March']"
      ]
     },
     "execution_count": 2,
     "metadata": {},
     "output_type": "execute_result"
    }
   ],
   "source": [
    "months = [\"January\", \"February\", \"March\"]\n",
    "\n",
    "months"
   ]
  },
  {
   "cell_type": "markdown",
   "metadata": {},
   "source": [
    "You can also create a list that contains different types of data (e.g. `int`, `float`, `str`), including other defined variables."
   ]
  },
  {
   "cell_type": "code",
   "execution_count": 3,
   "metadata": {},
   "outputs": [
    {
     "data": {
      "text/plain": [
       "[1, 0.7, 'January']"
      ]
     },
     "execution_count": 3,
     "metadata": {},
     "output_type": "execute_result"
    }
   ],
   "source": [
    "jan = 0.70\n",
    "\n",
    "boulder_avg_precip = [1, jan, \"January\"]\n",
    "\n",
    "boulder_avg_precip"
   ]
  },
  {
   "cell_type": "markdown",
   "metadata": {},
   "source": [
    "### Check Type\n",
    "\n",
    "Just like you are able to check the type of data stored in a variable, you can also check the object type for lists to confirm that it is indeed a list: \n",
    "\n",
    "`type(list_name)`\n"
   ]
  },
  {
   "cell_type": "code",
   "execution_count": 4,
   "metadata": {},
   "outputs": [
    {
     "data": {
      "text/plain": [
       "list"
      ]
     },
     "execution_count": 4,
     "metadata": {},
     "output_type": "execute_result"
    }
   ],
   "source": [
    "type(boulder_avg_precip)"
   ]
  },
  {
   "cell_type": "markdown",
   "metadata": {},
   "source": [
    "## Print the Length of a List\n",
    " \n",
    "To work efficiently with the list index, it is very helpful to know how long the list is, meaning how many items are stored in the list. \n",
    "\n",
    "You can use the **Python** function `len()` to query this information by including the name of the list as a parameter, or input, to the function as follows: \n",
    "\n",
    "`len(list_name)` \n",
    "\n",
    "Using `len()`, you can see that `months` contains 3 items, as it only contained `str` values for January through March. "
   ]
  },
  {
   "cell_type": "code",
   "execution_count": 5,
   "metadata": {},
   "outputs": [
    {
     "data": {
      "text/plain": [
       "['January', 'February', 'March']"
      ]
     },
     "execution_count": 5,
     "metadata": {},
     "output_type": "execute_result"
    }
   ],
   "source": [
    "months"
   ]
  },
  {
   "cell_type": "code",
   "execution_count": 6,
   "metadata": {},
   "outputs": [
    {
     "data": {
      "text/plain": [
       "3"
      ]
     },
     "execution_count": 6,
     "metadata": {},
     "output_type": "execute_result"
    }
   ],
   "source": [
    "len(months)"
   ]
  },
  {
   "cell_type": "markdown",
   "metadata": {},
   "source": [
    "### Interactive Activity\n",
    "\n",
    "Create a list! Make a list called `multi_type_list` that has a length of 5, contains a string, a float, and an integer, and has a string at index `1`. "
   ]
  },
  {
   "cell_type": "code",
   "execution_count": 7,
   "metadata": {},
   "outputs": [],
   "source": [
    "# Create your list below this line!"
   ]
  },
  {
   "cell_type": "markdown",
   "metadata": {},
   "source": [
    "The cell below is a set of automatic tests to see if you correctly completed the activity in the cell above. They will provide you with feedback on the activity. Please do not modify the cell below! "
   ]
  },
  {
   "cell_type": "code",
   "execution_count": 8,
   "metadata": {
    "tags": [
     "hide"
    ]
   },
   "outputs": [
    {
     "name": "stdout",
     "output_type": "stream",
     "text": [
      "'multi_type_list' is not defined. Make sure you spelled the variable name right!\n"
     ]
    }
   ],
   "source": [
    "# Tests to ensure the multi_type_list was created properly. \n",
    "try:\n",
    "    if isinstance(multi_type_list, list):\n",
    "        print(\"mutli_type_list is a list!\")\n",
    "        if len(multi_type_list) == 5:\n",
    "            print(\"mutli_type_list has the correct length!\")\n",
    "            if isinstance(multi_type_list[1], str):\n",
    "                print(\"mutli_type_list contains a string value at index 1!\")\n",
    "            else: \n",
    "                print(\"mutli_type_list does not contain a string value at index 1.\\n\",\n",
    "                      \"Make sure to add a string value at list index 1.\\n\", \n",
    "                      \"Remember python list indexing starts at 0!\")\n",
    "        else:\n",
    "            print(\"multi_type_list does not have the correct length.\\n\",\n",
    "                  \"Make sure that the list has exactly 5 values in it.\")\n",
    "        if any([isinstance(i, str) for i in multi_type_list]):\n",
    "            print(\"mutli_type_list contains a string value!\")\n",
    "        else:\n",
    "            print(\"mutli_type_list does not contain a string value.\\n\",\n",
    "                  \"Make sure to make one of the values in your list a string.\")\n",
    "        if any([isinstance(i, int) for i in multi_type_list]):\n",
    "            print(\"mutli_type_list contains an integer value!\")\n",
    "        else:\n",
    "            print(\"mutli_type_list does not contain an integer value.\\n\",\n",
    "                  \"Make sure to make one of the values in your list an integer.\")\n",
    "        if any([isinstance(i, float) for i in multi_type_list]):\n",
    "            print(\"mutli_type_list contains a float value!\")\n",
    "        else:\n",
    "            print(\"mutli_type_list does not contain a float value.\\n\",\n",
    "                  \"Make sure to make one of the values in your list a float.\")\n",
    "    else:\n",
    "        print(\"mutli_type_list is not a list. Make sure that you formatted the list\\n\",\n",
    "              \"correctly and spelled the variable name right.\")\n",
    "except NameError:\n",
    "    print(\"'multi_type_list' is not defined. Make sure you spelled the variable name right!\")"
   ]
  },
  {
   "cell_type": "markdown",
   "metadata": {},
   "source": [
    "## Query List Items Using Index\n",
    "\n",
    "As **Python** indexing begins at `[0]`, you can use the list index to query the value of the nth item in the list with `month[index]`, where index is equal to:\n",
    "\n",
    "`number of items - 1` or `n-1`\n",
    "\n",
    "For example, if you want to query the second item in the `months` list, you will need to use the index value that results from `2-1`, or `1`."
   ]
  },
  {
   "cell_type": "code",
   "execution_count": 9,
   "metadata": {},
   "outputs": [
    {
     "data": {
      "text/plain": [
       "'February'"
      ]
     },
     "execution_count": 9,
     "metadata": {},
     "output_type": "execute_result"
    }
   ],
   "source": [
    "months[1]"
   ]
  },
  {
   "cell_type": "markdown",
   "metadata": {},
   "source": [
    "Note that calling an index value that is larger than `n-1` will result in an error that the index does not exist. \n",
    "\n",
    "In this example, `months[3]` results in the following error:\n",
    "\n",
    "`IndexError: list index out of range`\n",
    "\n",
    "because there are only three items in the list. "
   ]
  },
  {
   "cell_type": "markdown",
   "metadata": {},
   "source": [
    "## Update Items in Lists\n",
    "\n",
    "In addition to querying values, you can also use the list index to update items in a list by assigning a new value to that index location. \n",
    "\n",
    "For example, if you want to update the value stored at `months[index]`, you can assign a new value with:\n",
    "\n",
    "`months[index] = value`"
   ]
  },
  {
   "cell_type": "code",
   "execution_count": 10,
   "metadata": {},
   "outputs": [
    {
     "data": {
      "text/plain": [
       "[0.7, 0, 1.85]"
      ]
     },
     "execution_count": 10,
     "metadata": {},
     "output_type": "execute_result"
    }
   ],
   "source": [
    "boulder_precip_in[1] = 0\n",
    "\n",
    "boulder_precip_in"
   ]
  },
  {
   "cell_type": "code",
   "execution_count": 11,
   "metadata": {},
   "outputs": [
    {
     "data": {
      "text/plain": [
       "['January', 'Feb', 'March']"
      ]
     },
     "execution_count": 11,
     "metadata": {},
     "output_type": "execute_result"
    }
   ],
   "source": [
    "months[1] = \"Feb\"\n",
    "\n",
    "months"
   ]
  },
  {
   "cell_type": "markdown",
   "metadata": {},
   "source": [
    "## Delete Items From List\n",
    "\n",
    "You can delete unwanted items from an existing list using the `del` statement: \n",
    "\n",
    "`del list_name[index]` \n",
    "\n",
    "Once again, checking the length of a list is helpful before using the list index to modify the list."
   ]
  },
  {
   "cell_type": "code",
   "execution_count": 12,
   "metadata": {},
   "outputs": [
    {
     "data": {
      "text/plain": [
       "3"
      ]
     },
     "execution_count": 12,
     "metadata": {},
     "output_type": "execute_result"
    }
   ],
   "source": [
    "len(boulder_precip_in)"
   ]
  },
  {
   "cell_type": "code",
   "execution_count": 13,
   "metadata": {},
   "outputs": [
    {
     "data": {
      "text/plain": [
       "['January', 'Feb']"
      ]
     },
     "execution_count": 13,
     "metadata": {},
     "output_type": "execute_result"
    }
   ],
   "source": [
    "del months[2]\n",
    "\n",
    "months"
   ]
  },
  {
   "cell_type": "markdown",
   "metadata": {},
   "source": [
    "## Append an Item to List\n",
    "\n",
    "To add an item to the end of a list, you can use the `.append()` function that is associated with lists (referred to as a method of the list object). \n",
    "\n",
    "You can call this method to add values to a list using the syntax: \n",
    "\n",
    "`listname.append(value)` "
   ]
  },
  {
   "cell_type": "code",
   "execution_count": 14,
   "metadata": {},
   "outputs": [
    {
     "data": {
      "text/plain": [
       "['January', 'Feb', 'March']"
      ]
     },
     "execution_count": 14,
     "metadata": {},
     "output_type": "execute_result"
    }
   ],
   "source": [
    "months.append(\"March\")\n",
    "\n",
    "months"
   ]
  },
  {
   "cell_type": "code",
   "execution_count": 15,
   "metadata": {},
   "outputs": [
    {
     "data": {
      "text/plain": [
       "[0.7, 0, 1.85, 2.93]"
      ]
     },
     "execution_count": 15,
     "metadata": {},
     "output_type": "execute_result"
    }
   ],
   "source": [
    "boulder_precip_in.append(2.93)\n",
    "\n",
    "boulder_precip_in"
   ]
  },
  {
   "cell_type": "markdown",
   "metadata": {},
   "source": [
    "## Add Items to List\n",
    "\n",
    "You can also add items to a list using the addition operation `+`.\n",
    "\n",
    "For example, you can add items to the beginning of a list using the following syntax: \n",
    "\n",
    "`listname = [value] + listname`"
   ]
  },
  {
   "cell_type": "code",
   "execution_count": 16,
   "metadata": {},
   "outputs": [
    {
     "data": {
      "text/plain": [
       "[-9999, 0.7, 0, 1.85, 2.93]"
      ]
     },
     "execution_count": 16,
     "metadata": {},
     "output_type": "execute_result"
    }
   ],
   "source": [
    "boulder_precip_in = [-9999] + boulder_precip_in\n",
    "\n",
    "boulder_precip_in"
   ]
  },
  {
   "cell_type": "markdown",
   "metadata": {},
   "source": [
    "You can also add items to the end of a list by combining the addition `+` with an `=`:\n",
    "\n",
    "`listname += [value]`\n",
    "\n",
    "which combines the steps to add and set the list equal to itself plus the new value. "
   ]
  },
  {
   "cell_type": "code",
   "execution_count": 17,
   "metadata": {},
   "outputs": [
    {
     "data": {
      "text/plain": [
       "['January', 'Feb', 'March', 'April']"
      ]
     },
     "execution_count": 17,
     "metadata": {},
     "output_type": "execute_result"
    }
   ],
   "source": [
    "months += [\"April\"]\n",
    "\n",
    "months"
   ]
  },
  {
   "cell_type": "markdown",
   "metadata": {},
   "source": [
    "You can even use this same assignment operator to add multiple values to the end of a list. "
   ]
  },
  {
   "cell_type": "code",
   "execution_count": 18,
   "metadata": {},
   "outputs": [
    {
     "data": {
      "text/plain": [
       "['January', 'Feb', 'March', 'April', 'May', 'June']"
      ]
     },
     "execution_count": 18,
     "metadata": {},
     "output_type": "execute_result"
    }
   ],
   "source": [
    "months += [\"May\", \"June\"]\n",
    "\n",
    "months"
   ]
  },
  {
   "cell_type": "markdown",
   "metadata": {},
   "source": [
    "By using the `+` and `+=` syntax to add new values to a list, you have actually just used **Python** operators, which are symbols used in **Python** to execute specific operations on variables and data structures such as lists. \n",
    "\n",
    "You will learn more about different operators in **Python** on the next page of this chapter. "
   ]
  },
  {
   "cell_type": "markdown",
   "metadata": {},
   "source": [
    "### Interactive Activity\n",
    "\n",
    "Let's use these skills we just learned to modify an existing list. Below is a list called `modify_me`. Modify the list from what it is now, `[1, 3.2, 5, 9, \"hi!\"]`, to `[\"first!\", 1, 3.2, 8, 9, \"hello!\", \"last!\"]`. There are a lot of ways to go about this, so don't be afraid to be creative! "
   ]
  },
  {
   "cell_type": "code",
   "execution_count": 19,
   "metadata": {},
   "outputs": [],
   "source": [
    "# Use the operators we learned to modify the list below! \n",
    "modify_me = [1, 3.2, 5, 9, \"hi!\"]\n",
    "# Add your code below this line. Don't modify line above, and don't manually type out the answer. \n",
    "# Use the operators from the lesson! "
   ]
  },
  {
   "cell_type": "markdown",
   "metadata": {},
   "source": [
    "The cell below is a set of automatic tests to see if you correctly completed the activity in the cell above. They will provide you with feedback on the activity. Please do not modify the cell below! "
   ]
  },
  {
   "cell_type": "code",
   "execution_count": 20,
   "metadata": {
    "tags": [
     "hide"
    ]
   },
   "outputs": [
    {
     "name": "stdout",
     "output_type": "stream",
     "text": [
      "Your list didn't match the expected list. Here is the list you produced: [1, 3.2, 5, 9, 'hi!']\n"
     ]
    }
   ],
   "source": [
    "# Tests to ensure the modify_me list was modified correctly\n",
    "answer = [\"first!\", 1, 3.2, 8, 9, \"hello!\", \"last!\"]\n",
    "\n",
    "if modify_me == answer:\n",
    "    print(\"You correctly modified the list, good job!\")\n",
    "else: \n",
    "    print(\"Your list didn't match the expected list. Here is the list you produced: {}\".format(modify_me))"
   ]
  }
 ],
 "metadata": {
  "celltoolbar": "Tags",
  "jupytext": {
   "formats": "ipynb,md"
  },
  "kernelspec": {
   "display_name": "Python 3",
   "language": "python",
   "name": "python3"
  },
  "language_info": {
   "codemirror_mode": {
    "name": "ipython",
    "version": 3
   },
   "file_extension": ".py",
   "mimetype": "text/x-python",
   "name": "python",
   "nbconvert_exporter": "python",
   "pygments_lexer": "ipython3",
   "version": "3.7.6"
  },
  "varInspector": {
   "cols": {
    "lenName": 16,
    "lenType": 16,
    "lenVar": 40
   },
   "kernels_config": {
    "python": {
     "delete_cmd_postfix": "",
     "delete_cmd_prefix": "del ",
     "library": "var_list.py",
     "varRefreshCmd": "print(var_dic_list())"
    },
    "r": {
     "delete_cmd_postfix": ") ",
     "delete_cmd_prefix": "rm(",
     "library": "var_list.r",
     "varRefreshCmd": "cat(var_dic_list()) "
    }
   },
   "types_to_exclude": [
    "module",
    "function",
    "builtin_function_or_method",
    "instance",
    "_Feature"
   ],
   "window_display": false
  }
 },
 "nbformat": 4,
 "nbformat_minor": 2
}
