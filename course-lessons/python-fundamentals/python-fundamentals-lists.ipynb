{
 "cells": [
  {
   "cell_type": "markdown",
   "metadata": {},
   "source": [
    "<div class='notice--success' markdown=\"1\">\n",
    "\n",
    "## <i class=\"fa fa-graduation-cap\" aria-hidden=\"true\"></i> Learning Objectives\n",
    "\n",
    "At the end of this activity, you will be able to:\n",
    "\n",
    "* Explain how **Python** uses lists to store multiple data values.\n",
    "* Create new **Python** lists that contain `int`, `float` and `str` values.\n",
    "* Use the list index to update, add, and remove items in a **Python** list.\n",
    " \n",
    "</div>\n",
    " \n",
    " \n",
    "## What are Python Lists?\n",
    "\n",
    "A **Python** list is a data structure that stores a collection of values in a specified order (or sequence). **Python** lists are mutable, which means that they can be changed or updated.\n",
    "\n",
    "Another interesting feature of **Python** lists is that they can store data of different types, including a mix of `int`, `float`, `str`, etc, values, all in the same list.  You can even create a list that is composed of other lists!\n",
    "\n",
    "Each value in a list is called an item.  Since lists are sequences of items in a specified order, there is a label for the location (i.e. order number) of each item in the list.  \n",
    "\n",
    "This order label is referred to as an index. Indexing allows lists to be iterable, meaning that you can access the each item in list, in the order in which they appear in the sequence. \n",
    "\n",
    "\n",
    "### List Index in Python\n",
    "\n",
    "In **Python**, indexing is used by many data structures, such as lists, to organize data and manage the order of the items within the data structure. \n",
    "\n",
    "By default, **Python** indexing will always begin at `[0]`, rather `[1]`. \n",
    "\n",
    "Thus, the first item in a **Python** list has an index `[0]`, the second item in a list has an index `[1]`, and so on. \n",
    "\n",
    "You can use the index of an item to query its value. For example, you can use the index `[1]` to get the value for the 2nd item (`0.75`) in the following list of values (`0.70, 0.75, 1.85`). \n",
    "\n",
    "\n",
    "## Create Python Lists\n",
    "\n",
    "Previously in this chapter, you learned how to create variables to store single data values such as `boulder_precip_in = 20.68`, which contained the the average annual precipitation in inches (in) in Boulder, Colorado. \n",
    "\n",
    "To create a **Python** list, you use the following syntax:\n",
    "\n",
    "`list_name = [item_1, item_2, item_3]`\n",
    "\n",
    "Notice that the values (soon to be items in a list) are enclosed within brackets `[]` and are separated from each other using commas `,`. \n",
    "\n",
    "Similar to defining variables, you do not have to define what types of values will be stored in the list.\n",
    "\n",
    "For example, you can create lists of numeric values such as `floats`. "
   ]
  },
  {
   "cell_type": "code",
   "execution_count": null,
   "metadata": {},
   "outputs": [],
   "source": [
    "boulder_precip_in = [0.70, 0.75, 1.85]\n",
    "\n",
    "boulder_precip_in"
   ]
  },
  {
   "cell_type": "markdown",
   "metadata": {},
   "source": [
    "You can also create lists of `str` values. Just like defining `str` variables, you need to enclose the individual text strings using quotes `\"\"`. "
   ]
  },
  {
   "cell_type": "code",
   "execution_count": null,
   "metadata": {},
   "outputs": [],
   "source": [
    "months = [\"January\", \"February\", \"March\"]\n",
    "\n",
    "months"
   ]
  },
  {
   "cell_type": "markdown",
   "metadata": {},
   "source": [
    "You can also create a list that contains different types of data (e.g. `int`, `float`, `str`), including other defined variables."
   ]
  },
  {
   "cell_type": "code",
   "execution_count": null,
   "metadata": {},
   "outputs": [],
   "source": [
    "jan = 0.70\n",
    "\n",
    "boulder_avg_precip = [1, jan, \"January\"]\n",
    "\n",
    "boulder_avg_precip"
   ]
  },
  {
   "cell_type": "markdown",
   "metadata": {},
   "source": [
    "### Check Type\n",
    "\n",
    "Just like you are able to check the type of data stored in a variable, you can also check the object type for lists to confirm that it is indeed a list: \n",
    "\n",
    "`type(list_name)`\n"
   ]
  },
  {
   "cell_type": "code",
   "execution_count": null,
   "metadata": {},
   "outputs": [],
   "source": [
    "type(boulder_avg_precip)"
   ]
  },
  {
   "cell_type": "markdown",
   "metadata": {},
   "source": [
    "## Print the Length of a List\n",
    " \n",
    "To work efficiently with the list index, it is very helpful to know how long the list is, meaning how many items are stored in the list. \n",
    "\n",
    "You can use the **Python** function `len()` to query this information by including the name of the list as a parameter, or input, to the function as follows: \n",
    "\n",
    "`len(list_name)` \n",
    "\n",
    "Using `len()`, you can see that `months` contains 3 items, as it only contained `str` values for January through March. "
   ]
  },
  {
   "cell_type": "code",
   "execution_count": null,
   "metadata": {},
   "outputs": [],
   "source": [
    "months"
   ]
  },
  {
   "cell_type": "code",
   "execution_count": null,
   "metadata": {},
   "outputs": [],
   "source": [
    "len(months)"
   ]
  },
  {
   "cell_type": "markdown",
   "metadata": {},
   "source": [
    "### Interactive Activity\n",
    "\n",
    "Create a list! Make a list called `precip_by_location` that has a length of 3 and contains a string for `New York City` at index `2`, a float for the [average annual precipitation in New York City](https://www.usclimatedata.com/climate/new-york/new-york/united-states/usny0996) (46.23 inches), and a string for the units (`inches`). \n",
    "\n",
    "Note that this means the float value for precipitation and the string value for units can be in any location, but the string for `New York City` needs to be at index `2`. "
   ]
  },
  {
   "cell_type": "code",
   "execution_count": null,
   "metadata": {},
   "outputs": [],
   "source": [
    "# Create your list below this line!"
   ]
  },
  {
   "cell_type": "markdown",
   "metadata": {},
   "source": [
    "The cell below includes a set of tests to see if you correctly completed the activity in the cell above. They will provide you with feedback that can help you complete the activity. \n",
    "\n",
    "Be sure to run the cell below to check your code (please do not modify the cell!)."
   ]
  },
  {
   "cell_type": "code",
   "execution_count": null,
   "metadata": {},
   "outputs": [],
   "source": [
    "# Run this cell to ensure precip_by_location was created correctly  \n",
    "try:\n",
    "    if isinstance(precip_by_location, list):\n",
    "        print(\"precip_by_location is a list!\")\n",
    "        if len(precip_by_location) == 3:\n",
    "            print(\"precip_by_location has the correct length!\")\n",
    "            if isinstance(precip_by_location[2], str):\n",
    "                print(\"precip_by_location contains a string value at index 2!\")\n",
    "            else: \n",
    "                print(\"precip_by_location does not contain a string value at index 2.\\n\",\n",
    "                      \"Make sure to add a string value at list index 2.\\n\", \n",
    "                      \"Remember python list indexing starts at 0!\")\n",
    "        else:\n",
    "            print(\"precip_by_location does not have the correct length.\\n\",\n",
    "                  \"Make sure that the list has exactly 3 values in it.\")\n",
    "        if any([isinstance(i, str) for i in precip_by_location]):\n",
    "            print(\"precip_by_location contains a string value!\")\n",
    "        else:\n",
    "            print(\"precip_by_location does not contain a string value.\\n\",\n",
    "                  \"Make sure to make one of the values in your list a string.\")\n",
    "        if any([isinstance(i, float) for i in precip_by_location]):\n",
    "            print(\"precip_by_location contains a float value!\")\n",
    "        else:\n",
    "            print(\"precip_by_location does not contain a float value.\\n\",\n",
    "                  \"Make sure to make one of the values in your list a float.\")\n",
    "    else:\n",
    "        print(\"precip_by_location is not a list. Make sure that you formatted the list\\n\",\n",
    "              \"correctly and spelled the variable name correctly.\")\n",
    "except NameError:\n",
    "    print(\"'precip_by_location' is not defined. Make sure you spelled the variable name correctly!\")"
   ]
  },
  {
   "cell_type": "markdown",
   "metadata": {},
   "source": [
    "## Query List Items Using Index\n",
    "\n",
    "As **Python** indexing begins at `[0]`, you can use the list index to query the value of the nth item in the list with `month[index]`, where index is equal to:\n",
    "\n",
    "`number of items - 1` or `n-1`\n",
    "\n",
    "For example, if you want to query the second item in the `months` list, you will need to use the index value that results from `2-1`, or `1`."
   ]
  },
  {
   "cell_type": "code",
   "execution_count": null,
   "metadata": {},
   "outputs": [],
   "source": [
    "months[1]"
   ]
  },
  {
   "cell_type": "markdown",
   "metadata": {},
   "source": [
    "Note that calling an index value that is larger than `n-1` will result in an error that the index does not exist. \n",
    "\n",
    "In this example, `months[3]` results in the following error:\n",
    "\n",
    "`IndexError: list index out of range`\n",
    "\n",
    "because there are only three items in the list. "
   ]
  },
  {
   "cell_type": "markdown",
   "metadata": {},
   "source": [
    "## Update Items in Lists\n",
    "\n",
    "In addition to querying values, you can also use the list index to update items in a list by assigning a new value to that index location. \n",
    "\n",
    "For example, if you want to update the value stored at `months[index]`, you can assign a new value with:\n",
    "\n",
    "`months[index] = value`"
   ]
  },
  {
   "cell_type": "code",
   "execution_count": null,
   "metadata": {},
   "outputs": [],
   "source": [
    "boulder_precip_in[1] = 0\n",
    "\n",
    "boulder_precip_in"
   ]
  },
  {
   "cell_type": "code",
   "execution_count": null,
   "metadata": {},
   "outputs": [],
   "source": [
    "months[1] = \"Feb\"\n",
    "\n",
    "months"
   ]
  },
  {
   "cell_type": "markdown",
   "metadata": {},
   "source": [
    "## Insert Items into Lists\n",
    "\n",
    "You can also use the list index to insert new items into a list by specifying at which index location you want to new value to be. The index locations for the other values in the list will be automatically updated. \n",
    "\n",
    "For example, if you want to insert a value at the beginning of the list, you can use:\n",
    "\n",
    "`list_name.insert(0, value)`\n",
    "\n",
    "In the example below, the months list is incomplete, and the value for January is inserted at the beginning of the list. This automatically updates the index locations for the existing items, such as `February`, which began as index `0` and becomes index `1` when `January` is inserting at the beginning of the list.  "
   ]
  },
  {
   "cell_type": "code",
   "execution_count": null,
   "metadata": {},
   "outputs": [],
   "source": [
    "# Month list missing the first value for January\n",
    "months = [\"February\", \"March\"]\n",
    "\n",
    "# Check index value at 0\n",
    "months[0]"
   ]
  },
  {
   "cell_type": "code",
   "execution_count": null,
   "metadata": {},
   "outputs": [],
   "source": [
    "# Modify list to add January at the beginning\n",
    "months.insert(0, \"January\")\n",
    "\n",
    "months"
   ]
  },
  {
   "cell_type": "code",
   "execution_count": null,
   "metadata": {},
   "outputs": [],
   "source": [
    "# Check index value at 0 in modified list\n",
    "months[0]"
   ]
  },
  {
   "cell_type": "code",
   "execution_count": null,
   "metadata": {},
   "outputs": [],
   "source": [
    "# February is now at index 1\n",
    "months[1]"
   ]
  },
  {
   "cell_type": "markdown",
   "metadata": {},
   "source": [
    "## Delete Items From List\n",
    "\n",
    "You can delete unwanted items from an existing list using the `del` statement: \n",
    "\n",
    "`del list_name[index]` \n",
    "\n",
    "Once again, checking the length of a list is helpful before using the list index to modify the list."
   ]
  },
  {
   "cell_type": "code",
   "execution_count": null,
   "metadata": {},
   "outputs": [],
   "source": [
    "len(boulder_precip_in)"
   ]
  },
  {
   "cell_type": "code",
   "execution_count": null,
   "metadata": {},
   "outputs": [],
   "source": [
    "del months[2]\n",
    "\n",
    "months"
   ]
  },
  {
   "cell_type": "markdown",
   "metadata": {},
   "source": [
    "## Append an Item to List\n",
    "\n",
    "To add an item to the end of a list, you can use the `.append()` function that is associated with lists (referred to as a method of the list object). \n",
    "\n",
    "You can call this method to add values to a list using the syntax: \n",
    "\n",
    "`listname.append(value)` "
   ]
  },
  {
   "cell_type": "code",
   "execution_count": null,
   "metadata": {},
   "outputs": [],
   "source": [
    "months.append(\"March\")\n",
    "\n",
    "months"
   ]
  },
  {
   "cell_type": "code",
   "execution_count": null,
   "metadata": {},
   "outputs": [],
   "source": [
    "boulder_precip_in.append(2.93)\n",
    "\n",
    "boulder_precip_in"
   ]
  },
  {
   "cell_type": "markdown",
   "metadata": {},
   "source": [
    "## Add Items to List\n",
    "\n",
    "You can also add items to a list using the addition operation `+`.\n",
    "\n",
    "For example, you can add items to the beginning of a list using the following syntax: \n",
    "\n",
    "`listname = [value] + listname`"
   ]
  },
  {
   "cell_type": "code",
   "execution_count": null,
   "metadata": {},
   "outputs": [],
   "source": [
    "boulder_precip_in = [-9999] + boulder_precip_in\n",
    "\n",
    "boulder_precip_in"
   ]
  },
  {
   "cell_type": "markdown",
   "metadata": {},
   "source": [
    "You can also add items to the end of a list by combining the addition `+` with an `=`:\n",
    "\n",
    "`listname += [value]`\n",
    "\n",
    "which combines the steps to add and set the list equal to itself plus the new value. "
   ]
  },
  {
   "cell_type": "code",
   "execution_count": null,
   "metadata": {},
   "outputs": [],
   "source": [
    "months += [\"April\"]\n",
    "\n",
    "months"
   ]
  },
  {
   "cell_type": "markdown",
   "metadata": {},
   "source": [
    "You can even use this same assignment operator to add multiple values to the end of a list. "
   ]
  },
  {
   "cell_type": "code",
   "execution_count": null,
   "metadata": {},
   "outputs": [],
   "source": [
    "months += [\"May\", \"June\"]\n",
    "\n",
    "months"
   ]
  },
  {
   "cell_type": "markdown",
   "metadata": {},
   "source": [
    "By using the `+` and `+=` syntax to add new values to a list, you have actually just used **Python** operators, which are symbols used in **Python** to execute specific operations on variables and data structures such as lists. \n",
    "\n",
    "You will learn more about different operators in **Python** on the next page of this chapter. "
   ]
  },
  {
   "cell_type": "markdown",
   "metadata": {},
   "source": [
    "### Interactive Activity\n",
    "\n",
    "Use the skills you just learned to modify the list that you created previously. \n",
    "\n",
    "Modify `precip_by_location` to look like: \n",
    "\n",
    "`[1, 20.23, 'inches', 'Boulder', 'Colorado']`\n",
    "\n",
    "There are a lot of ways to go about this, so don't be afraid to be creative! "
   ]
  },
  {
   "cell_type": "code",
   "execution_count": null,
   "metadata": {},
   "outputs": [],
   "source": [
    "# Use the list operators you learned to modify precip_by_location"
   ]
  },
  {
   "cell_type": "markdown",
   "metadata": {},
   "source": [
    "The cell below includes a set of tests to see if you correctly completed the activity in the cell above. They will provide you with feedback that can help you complete the activity. \n",
    "\n",
    "Be sure to run the cell below to check your code (please do not modify the cell!)."
   ]
  },
  {
   "cell_type": "code",
   "execution_count": null,
   "metadata": {},
   "outputs": [],
   "source": [
    "# Run this cell to ensure the list was modified correctly\n",
    "answer = [1, 20.23, 'inches', 'Boulder', 'Colorado']\n",
    "\n",
    "if precip_by_location == answer:\n",
    "    print(\"You correctly modified the list, good job!\")\n",
    "else: \n",
    "    print(\"Your list didn't match the expected list. Here is the list you produced: {}\".format(precip_by_location))"
   ]
  }
 ],
 "metadata": {
  "celltoolbar": "Tags",
  "jupytext": {
   "formats": "ipynb,md"
  },
  "kernelspec": {
   "display_name": "Python 3",
   "language": "python",
   "name": "python3"
  },
  "language_info": {
   "codemirror_mode": {
    "name": "ipython",
    "version": 3
   },
   "file_extension": ".py",
   "mimetype": "text/x-python",
   "name": "python",
   "nbconvert_exporter": "python",
   "pygments_lexer": "ipython3",
   "version": "3.7.6"
  },
  "varInspector": {
   "cols": {
    "lenName": 16,
    "lenType": 16,
    "lenVar": 40
   },
   "kernels_config": {
    "python": {
     "delete_cmd_postfix": "",
     "delete_cmd_prefix": "del ",
     "library": "var_list.py",
     "varRefreshCmd": "print(var_dic_list())"
    },
    "r": {
     "delete_cmd_postfix": ") ",
     "delete_cmd_prefix": "rm(",
     "library": "var_list.r",
     "varRefreshCmd": "cat(var_dic_list()) "
    }
   },
   "types_to_exclude": [
    "module",
    "function",
    "builtin_function_or_method",
    "instance",
    "_Feature"
   ],
   "window_display": false
  }
 },
 "nbformat": 4,
 "nbformat_minor": 2
}
