{
 "cells": [
  {
   "cell_type": "markdown",
   "metadata": {},
   "source": [
    "<div class='notice--success' markdown=\"1\">\n",
    "\n",
    "## <i class=\"fa fa-graduation-cap\" aria-hidden=\"true\"></i> Learning Objectives\n",
    "\n",
    "* Explain how operators are used in **Python** to execute a specific computation or operation.\n",
    "* Write **Python** code to run different operations on data (e.g. arithmetic calculations)\n",
    "\n",
    "</div>\n",
    "\n",
    "\n",
    "## What are Operators in Python?\n",
    "\n",
    "Operators are symbols in Python that carry out a specific computation, or operation. The value or condition that the operator operates on is called the operand. \n",
    "\n",
    "The operand can be a variable (e.g. `jan_precip_in` which has some value, say, 0.70) or data structure like a list (e.g. `months`). The operand can also be an expression or statement (e.g. checking that list `months` contains the value `January`). \n",
    "\n",
    "There are <a href=\"https://python-reference.readthedocs.io/en/latest/docs/operators/\" target=\"_blank\">many different types of operators</a> in **Python** including: \n",
    "\n",
    "| Operator | Usage | Example |\n",
    "|:-----------------------------------|:-----------------------------------|:-----------------------------------|\n",
    "| Arithmetic  | to complete mathematical calculations | `boulder_precip_in * 25.4` |\n",
    "| Assignment  | to assign new values (typically as a result of a arithmetic calculation) | `boulder_precip_in *= 25.4` |\n",
    "| Comparison or Relational  | to compare operands (e.g. greater than symbol `>`)  | `boulder_precip_in > phoenix_precip_in`|\n",
    "| Identity  | to check whether operands are the same | `boulder_precip_in is not phoenix_precip_in` |\n",
    "| Membership  | to check whether one operand is contained within another operand | `\"January\" in months` |\n",
    "| Logical  | to check whether operands are `true` | `\"January\" in months AND \"Jan\" in months` |\n",
    "\n",
    "## Arithmetic Operators\n",
    "\n",
    "In **Python**, there are <a href=\"https://docs.python.org/3/library/stdtypes.html#numeric-types-int-float-complex\" target=\"_blank\">many arithmetic operations</a> that can be completed, including operators for: \n",
    "* addition (`+`)\n",
    "* subtraction (`-`)\n",
    "* multiplication (`*`)\n",
    "* division (`/`)\n",
    "* exponents (`**`)\n",
    "\n",
    "Review the cells below and notice that the output is automatically printed without the need to tell **Python** to display the output. "
   ]
  },
  {
   "cell_type": "code",
   "execution_count": 1,
   "metadata": {},
   "outputs": [
    {
     "data": {
      "text/plain": [
       "5"
      ]
     },
     "execution_count": 1,
     "metadata": {},
     "output_type": "execute_result"
    }
   ],
   "source": [
    "a = 2\n",
    "b = 3\n",
    "\n",
    "a + b"
   ]
  },
  {
   "cell_type": "code",
   "execution_count": 2,
   "metadata": {},
   "outputs": [
    {
     "data": {
      "text/plain": [
       "1"
      ]
     },
     "execution_count": 2,
     "metadata": {},
     "output_type": "execute_result"
    }
   ],
   "source": [
    "b - a"
   ]
  },
  {
   "cell_type": "code",
   "execution_count": 3,
   "metadata": {},
   "outputs": [
    {
     "data": {
      "text/plain": [
       "1.5"
      ]
     },
     "execution_count": 3,
     "metadata": {},
     "output_type": "execute_result"
    }
   ],
   "source": [
    "b / a"
   ]
  },
  {
   "cell_type": "code",
   "execution_count": 4,
   "metadata": {},
   "outputs": [
    {
     "data": {
      "text/plain": [
       "6"
      ]
     },
     "execution_count": 4,
     "metadata": {},
     "output_type": "execute_result"
    }
   ],
   "source": [
    "a * b"
   ]
  },
  {
   "cell_type": "code",
   "execution_count": 5,
   "metadata": {},
   "outputs": [
    {
     "data": {
      "text/plain": [
       "8"
      ]
     },
     "execution_count": 5,
     "metadata": {},
     "output_type": "execute_result"
    }
   ],
   "source": [
    "a ** b"
   ]
  },
  {
   "cell_type": "markdown",
   "metadata": {},
   "source": [
    "For scientific workflows, these arithmetic operators are very useful for converting the units of measurements, for example, from inches to millimeters (1 inch = 25.4 mm) for precipitation values.\n",
    "\n",
    "The example belows converts the average precipitation value for Boulder, CO in January from inches to millimeters."
   ]
  },
  {
   "cell_type": "code",
   "execution_count": 6,
   "metadata": {},
   "outputs": [
    {
     "data": {
      "text/plain": [
       "17.779999999999998"
      ]
     },
     "execution_count": 6,
     "metadata": {},
     "output_type": "execute_result"
    }
   ],
   "source": [
    "jan_precip = 0.70\n",
    "\n",
    "jan_precip * 25.4"
   ]
  },
  {
   "cell_type": "markdown",
   "metadata": {},
   "source": [
    "## Assignment Operators\n",
    "\n",
    "While arithmetic operators are very useful for calculations, they do not change the original values. \n",
    "\n",
    "For example, the variable `jan_precip` continues to store the value `0.7` (the measurement in inches), even after the calculations completed above. "
   ]
  },
  {
   "cell_type": "code",
   "execution_count": 7,
   "metadata": {},
   "outputs": [
    {
     "data": {
      "text/plain": [
       "0.7"
      ]
     },
     "execution_count": 7,
     "metadata": {},
     "output_type": "execute_result"
    }
   ],
   "source": [
    "jan_precip"
   ]
  },
  {
   "cell_type": "markdown",
   "metadata": {},
   "source": [
    "If you want to assign a new value as a result of a calculation, you can use an assignment operator, which combines the arithmetic operator (e.g. `*`) with the `=` to set a new value. \n",
    "\n",
    "For example, you can combine `*` and `=` to multiple a value and set the result equal to itself plus the new value. "
   ]
  },
  {
   "cell_type": "code",
   "execution_count": 8,
   "metadata": {},
   "outputs": [],
   "source": [
    "jan_precip *= 25.4"
   ]
  },
  {
   "cell_type": "markdown",
   "metadata": {},
   "source": [
    "Recall that on the previous page on working with lists, you also used an assignment operator to add items to the end of a list. \n",
    "\n",
    "This is a special case of the addition assignment operator `+=` because it is not actually completing a mathematical operation on the list.  It simply adds the values as new items to the end of the list. "
   ]
  },
  {
   "cell_type": "code",
   "execution_count": 9,
   "metadata": {},
   "outputs": [
    {
     "data": {
      "text/plain": [
       "['January', 'February']"
      ]
     },
     "execution_count": 9,
     "metadata": {},
     "output_type": "execute_result"
    }
   ],
   "source": [
    "months = [\"January\", \"February\"]\n",
    "\n",
    "months"
   ]
  },
  {
   "cell_type": "code",
   "execution_count": 10,
   "metadata": {},
   "outputs": [
    {
     "data": {
      "text/plain": [
       "['January', 'February', 'March', 'April']"
      ]
     },
     "execution_count": 10,
     "metadata": {},
     "output_type": "execute_result"
    }
   ],
   "source": [
    "months += [\"March\", \"April\"]\n",
    "\n",
    "months"
   ]
  },
  {
   "cell_type": "markdown",
   "metadata": {},
   "source": [
    "However, not all assignment operators can be used on all object types. For example, the following code will result in an error because lists cannot have mathematical operations executed on them.  \n",
    "\n",
    "```python\n",
    "boulder_precip_in = [0.70, 0.75, 1.85]\n",
    "boulder_precip_in *= 25.4\n",
    "```\n",
    "\n",
    "You can review the <a href=\"https://docs.python.org/3/library/stdtypes.html#\" target=\"_blank\">Python docs on types and operations</a> to see what kinds of operations can be run on different object types. "
   ]
  },
  {
   "cell_type": "markdown",
   "metadata": {},
   "source": [
    "## Print Output\n",
    "\n",
    "Notice now that the output is not automatically printed."
   ]
  },
  {
   "cell_type": "code",
   "execution_count": 16,
   "metadata": {},
   "outputs": [],
   "source": [
    "jan_precip = 0.70\n",
    "\n",
    "jan_precip *= 25.4"
   ]
  },
  {
   "cell_type": "markdown",
   "metadata": {},
   "source": [
    "To see the new value, you can call the variable name (e.g. `jan_precip`), or you can use the print statement (e.g. `print(jan_precip)`) to display the new value. \n",
    "\n",
    "Using the print statement can be very helpful because then you can print multiple values. \n",
    "\n",
    "For example, notice calling only the variable names (e.g. `a`, `jan_precip`, `b`), you are only shown the value of the last variable."
   ]
  },
  {
   "cell_type": "code",
   "execution_count": 11,
   "metadata": {},
   "outputs": [
    {
     "data": {
      "text/plain": [
       "3"
      ]
     },
     "execution_count": 11,
     "metadata": {},
     "output_type": "execute_result"
    }
   ],
   "source": [
    "a\n",
    "jan_precip\n",
    "b"
   ]
  },
  {
   "cell_type": "markdown",
   "metadata": {},
   "source": [
    "Using `print()`, you can print as many things as you want. "
   ]
  },
  {
   "cell_type": "code",
   "execution_count": 12,
   "metadata": {},
   "outputs": [
    {
     "name": "stdout",
     "output_type": "stream",
     "text": [
      "2\n",
      "17.779999999999998\n",
      "3\n"
     ]
    }
   ],
   "source": [
    "print(a)\n",
    "print(jan_precip)\n",
    "print(b)"
   ]
  },
  {
   "cell_type": "markdown",
   "metadata": {},
   "source": [
    "You can even combine the variables with a text string in a print statement by including a text string `\"text\"` within the print statement.\n",
    "\n",
    "To do this, simply separate the text string from the object that is being printed using a comma `,`. "
   ]
  },
  {
   "cell_type": "code",
   "execution_count": 13,
   "metadata": {},
   "outputs": [
    {
     "name": "stdout",
     "output_type": "stream",
     "text": [
      "January precipitation: 17.779999999999998\n"
     ]
    }
   ],
   "source": [
    "print(\"January precipitation:\", jan_precip)"
   ]
  },
  {
   "cell_type": "markdown",
   "metadata": {},
   "source": [
    "Notice that the word `print` does not show up the output. Instead, you simply see the result, without the parentheses or quotations for the text string. \n",
    "\n",
    "**You have now deliberately used your first **Python** function!** Functions in **Python** are commands that can take inputs that are used to produce output. \n",
    "\n",
    "You will learn more about functions later in this textbook, and you will use the `print` function a lot, as it can be very handy for viewing results and for communicating the status of your code. "
   ]
  },
  {
   "cell_type": "markdown",
   "metadata": {},
   "source": [
    " <div class=\"notice--info\" markdown=\"1\">\n",
    "\n",
    "## Additional Resources\n",
    "\n",
    "* <a href=\"https://docs.python.org/3/library/stdtypes.html#\" target=\"_blank\">Python docs on types and operations</a>\n",
    "\n",
    "* <a href=\"https://python-reference.readthedocs.io/en/latest/docs/operators/\" target=\"_blank\">Reference docs on operators</a>\n",
    "\n",
    "</div>   "
   ]
  },
  {
   "cell_type": "markdown",
   "metadata": {},
   "source": [
    "<div class=\"notice--warning\" markdown=\"1\">\n",
    "\n",
    "## <i class=\"fa fa-pencil-square-o\" aria-hidden=\"true\"></i> Practice Your Python Skills\n",
    "\n",
    "Data on average monthly precipitation for <a href=\"https://www.esrl.noaa.gov/psd/boulder/Boulder.mm.precip.html\" target=\"_blank\">Boulder, Colorado provided by the U.S. National Oceanic and Atmospheric Administration (NOAA).</a> \n",
    "\n",
    "Month  | Precipitation (inches) |\n",
    "--- | --- |\n",
    "Jan | 0.70 |\n",
    "Feb | 0.75 |\n",
    "Mar | 1.85 |\n",
    "Apr | 2.93 |\n",
    "May | 3.05 |\n",
    "June | 2.02 |\n",
    "July | 1.93 |\n",
    "Aug | 1.62 |\n",
    "Sept | 1.84 |\n",
    "Oct | 1.31 |\n",
    "Nov | 1.39 |\n",
    "Dec | 0.84 |\n",
    "\n",
    "Test your `Python` skills to:\n",
    "\n",
    "1. Create new variables for monthly average precipitation values (inches) for Boulder, CO for January through December.\n",
    "\n",
    "2. Use the appropriate arithmetic operator to convert the monthly variables for `jan` to `dec` from inches to millimeters (1 inch = 25.4 mm).\n",
    "\n",
    "3. Create a list that contains the converted monthly average precipitation values in millimeters. Print your list (hint: `print(list_name)`).\n",
    "\n",
    "4. Create a list that contains the month names from the table above.\n",
    "\n",
    "</div>"
   ]
  },
  {
   "cell_type": "code",
   "execution_count": 14,
   "metadata": {
    "tags": [
     "hide"
    ]
   },
   "outputs": [
    {
     "name": "stdout",
     "output_type": "stream",
     "text": [
      "[17.779999999999998, 19.049999999999997, 46.99, 74.422, 77.46999999999998, 51.308, 49.022, 41.148, 46.736, 33.274, 35.306, 21.336]\n"
     ]
    }
   ],
   "source": [
    "# Create monthly variables\n",
    "jan = 0.70 \n",
    "feb = 0.75 \n",
    "mar = 1.85 \n",
    "apr = 2.93 \n",
    "may = 3.05 \n",
    "june = 2.02\n",
    "july = 1.93\n",
    "aug = 1.62\n",
    "sept = 1.84\n",
    "oct = 1.31\n",
    "nov = 1.39\n",
    "dec = 0.84\n",
    "\n",
    "# Convert to mm\n",
    "jan = jan * 25.4\n",
    "feb = feb * 25.4\n",
    "mar = mar * 25.4\n",
    "apr = apr * 25.4\n",
    "may = may * 25.4\n",
    "june = june * 25.4\n",
    "july = july * 25.4\n",
    "aug = aug * 25.4\n",
    "sept = sept * 25.4\n",
    "oct = oct * 25.4\n",
    "nov = nov * 25.4\n",
    "dec = dec * 25.4\n",
    "\n",
    "listname_months = [\"Jan\", \"Feb\", \"Mar\", \"Apr\", \"May\", \"June\", \"July\", \"Aug\", \"Sept\", \"Oct\", \"Nov\", \"Dec\"]\n",
    "listname_precip = [jan, feb, mar, apr, may, june, july, aug, sept, oct, nov, dec]\n",
    "\n",
    "print(listname_precip)"
   ]
  },
  {
   "cell_type": "markdown",
   "metadata": {},
   "source": [
    "<div class=\"notice--warning\" markdown=\"1\">\n",
    "\n",
    "## <i class=\"fa fa-pencil-square-o\" aria-hidden=\"true\"></i> Challenge Your Python Skills\n",
    "\n",
    "Modify the following code to create a plot of your data:\n",
    "\n",
    "```python\n",
    "# Import necessary plot package\n",
    "import matplotlib.pyplot as plt\n",
    "\n",
    "# Plot monthly precipitation values\n",
    "fig, ax = plt.subplots(figsize=(10, 10))\n",
    "ax.bar(listname_months, listname_precip, color=\"blue\")\n",
    "ax.set(title=\"Add plot title here.\",\n",
    "       xlabel=\"Add x axis label here.\", ylabel=\"Add y axis label here.\");\n",
    "```\n",
    "\n",
    "Customize this plot by:\n",
    "1. Replacing `listname_months` and `listname_precip` with the names of the lists that you created. \n",
    "2. Change the <a href=\"https://matplotlib.org/mpl_examples/color/named_colors.hires.png\" target=\"_blank\">color of the plot</a> to aqua.\n",
    "3. Update the text for the titles and axes labels. \n",
    "4. Modifying the values in `figsize=(10, 10)` to change the size of your plot. \n",
    "\n",
    "For your titles and labels, be sure to think about the following pieces of information that could help someone easily interpret the plot:\n",
    "\n",
    "* geographic coverage or extent of data.\n",
    "* duration or temporal extent of the data.\n",
    "* what was actually measured and/or represented by the data.\n",
    "* units of measurement.\n",
    "\n",
    "</div>"
   ]
  },
  {
   "cell_type": "code",
   "execution_count": 15,
   "metadata": {
    "caption": "This plot displays monthly average precipitation values in millimeters for Boulder, CO.",
    "label": "fig:bar_boulder_monthly_avg_precip",
    "tags": [
     "hide"
    ]
   },
   "outputs": [],
   "source": [
    "# Import necessary plot package\n",
    "import matplotlib.pyplot as plt\n",
    "\n",
    "# Plot monthly precipitation values\n",
    "fig, ax = plt.subplots(figsize=(10, 10))\n",
    "ax.bar(listname_months, listname_precip, color=\"blue\")\n",
    "ax.set(title=\"Add plot title here.\",\n",
    "       xlabel=\"Add x axis label here.\", ylabel=\"Add y axis label here.\");"
   ]
  }
 ],
 "metadata": {
  "celltoolbar": "Edit Metadata",
  "jupytext": {
   "formats": "ipynb,md"
  },
  "kernelspec": {
   "display_name": "Python 3",
   "language": "python",
   "name": "python3"
  },
  "language_info": {
   "codemirror_mode": {
    "name": "ipython",
    "version": 3
   },
   "file_extension": ".py",
   "mimetype": "text/x-python",
   "name": "python",
   "nbconvert_exporter": "python",
   "pygments_lexer": "ipython3",
   "version": "3.7.6"
  },
  "varInspector": {
   "cols": {
    "lenName": 16,
    "lenType": 16,
    "lenVar": 40
   },
   "kernels_config": {
    "python": {
     "delete_cmd_postfix": "",
     "delete_cmd_prefix": "del ",
     "library": "var_list.py",
     "varRefreshCmd": "print(var_dic_list())"
    },
    "r": {
     "delete_cmd_postfix": ") ",
     "delete_cmd_prefix": "rm(",
     "library": "var_list.r",
     "varRefreshCmd": "cat(var_dic_list()) "
    }
   },
   "types_to_exclude": [
    "module",
    "function",
    "builtin_function_or_method",
    "instance",
    "_Feature"
   ],
   "window_display": false
  }
 },
 "nbformat": 4,
 "nbformat_minor": 2
}
