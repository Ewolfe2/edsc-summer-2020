{
 "cells": [
  {
   "cell_type": "markdown",
   "metadata": {},
   "source": [
    "<div class='notice--success' markdown=\"1\">\n",
    "\n",
    "## <i class=\"fa fa-ship\" aria-hidden=\"true\"></i> Text File Formats for Earth Data Science\n",
    "\n",
    "In this lesson, you will learn about common text file formats for earth data science workflows including text (.txt, .csv) files and YAML (Yet Another Markup Language). \n",
    "\n",
    "After completing this lesson, you will be able to:\n",
    "\n",
    "* Explain what the `Markdown` format is and describe its role in the documentation of earth data science workflows.\n",
    "* Use basic `Markdown` syntax to format text in `Jupyter Notebook` files.\n",
    "* Describe how text (.txt) and CSV files can be used for scientific data.\n",
    "* Explain how YAML is used to support earth data science workflows.\n",
    "\n",
    "\n",
    "</div>"
   ]
  },
  {
   "cell_type": "markdown",
   "metadata": {},
   "source": [
    "Tabular Formats - Text Files Maybe a page on text files in general - txt vs csv and then comma vs tab delimited etc…? This i think would be a great chapter\n",
    "Structure of tabular data\n",
    "Rows, columns\n",
    "Headers\n",
    "Common file types used for tabular data\n",
    "TXT\n",
    "\n",
    "\n",
    "CSV\n",
    "Delimiter types\n",
    "Comma\n",
    "Tab\n"
   ]
  }
 ],
 "metadata": {
  "celltoolbar": "Tags",
  "kernelspec": {
   "display_name": "Python 3",
   "language": "python",
   "name": "python3"
  },
  "language_info": {
   "codemirror_mode": {
    "name": "ipython",
    "version": 3
   },
   "file_extension": ".py",
   "mimetype": "text/x-python",
   "name": "python",
   "nbconvert_exporter": "python",
   "pygments_lexer": "ipython3",
   "version": "3.7.6"
  },
  "varInspector": {
   "cols": {
    "lenName": 16,
    "lenType": 16,
    "lenVar": 40
   },
   "kernels_config": {
    "python": {
     "delete_cmd_postfix": "",
     "delete_cmd_prefix": "del ",
     "library": "var_list.py",
     "varRefreshCmd": "print(var_dic_list())"
    },
    "r": {
     "delete_cmd_postfix": ") ",
     "delete_cmd_prefix": "rm(",
     "library": "var_list.r",
     "varRefreshCmd": "cat(var_dic_list()) "
    }
   },
   "types_to_exclude": [
    "module",
    "function",
    "builtin_function_or_method",
    "instance",
    "_Feature"
   ],
   "window_display": false
  }
 },
 "nbformat": 4,
 "nbformat_minor": 2
}
