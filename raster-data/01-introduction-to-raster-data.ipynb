{
 "cells": [
  {
   "cell_type": "markdown",
   "metadata": {},
   "source": [
    "<img style=\"float: left;\" src=\"../earth-lab-logo-rgb.png\" width=\"150\" height=\"150\">\n",
    "\n",
    "# Earth Data Science Corps Summer 2020\n",
    "\n",
    "![Colored Bar](../colored-bar.png)"
   ]
  },
  {
   "cell_type": "markdown",
   "metadata": {},
   "source": [
    "<div class='notice--success' markdown=\"1\">\n",
    "\n",
    "## <i class=\"fa fa-ship\" aria-hidden=\"true\"></i> Fundamentals of Raster Data in Python \n",
    "\n",
    "In these lessons, you will learn fundamental concepts related to working with raster data in **Python**, including understanding the spatial attributes of raster data, how to open raster data and access its metadata, and how to explore the distribution of values in a raster dataset. \n",
    "\n",
    "\n",
    "## <i class=\"fa fa-graduation-cap\" aria-hidden=\"true\"></i> Learning Objectives\n",
    "\n",
    "After completing this chapter, you will be able to:\n",
    "\n",
    "* Open raster data using **Python**.\n",
    "* Be able to list and identify 3 spatial attributes of a raster dataset: extent, crs and resolution.\n",
    "* Explore and plot the distribution of values within a raster using histograms.\n",
    "* Access metadata stored within a GeoTIFF raster file via TIF tags in **Python**.\n",
    "\n",
    "</div>\n",
    "\n",
    "The <a href=\"https://www.earthdatascience.org/courses/use-data-open-source-python/data-stories/lidar-raster-data/lidar-intro/\" target=\"_blank\">data story on Lidar data</a> reviews the basic principles behind Lidar raster datasets.\n",
    "\n",
    "In previous lessons you learned <a href=\"https://www.earthdatascience.org/courses/use-data-open-source-python/intro-vector-data-python/spatial-data-vector-shapefiles/\" target=\"_blank\">how to use the open source \n",
    "Python package **Geopandas** to open vector data stored in shapefile\n",
    "format.</a> In these lessons you will learn how to use the open source Python packages **rasterio** combined with **numpy** and **earthpy** to open, manipulate and plot raster data in **Python**. In these lessons, you will learn how to open and plot a lidar raster dataset in **Python**. You will also learn about key attributes of a raster dataset:\n",
    "\n",
    "1. Spatial resolution\n",
    "2. Spatial extent and\n",
    "3. Coordinate reference systems\n",
    "\n",
    "\n",
    "## What is a Raster?\n",
    "\n",
    "Raster or “gridded” data are stored as a grid of values which are rendered on a map as pixels. Each pixel value represents an area on the Earth’s surface. A raster file is composed of regular grid of cells, all of which are the same size. \n",
    "\n",
    "You've looked at and used rasters before if you've looked at photographs or imagery in a tool like Google Earth. However, the raster files that you will work with are different from photographs in that they are spatially referenced. Each pixel represents an area of land on the ground. That area is defined by the spatial **resolution** of the raster.\n",
    "\n",
    "<figure>\n",
    "   <a href=\"https://www.earthdatascience.org/images/earth-analytics/raster-data/raster-concept.png\" target=\"_blank\">\n",
    "   <img src=\"https://www.earthdatascience.org/images/earth-analytics/raster-data/raster-concept.png\" alt=\"Raster data concept diagram.\"></a>\n",
    "   <figcaption>A raster is composed of a regular grid of cells. Each cell is the same\n",
    "   size in the x and y direction. Source: Colin Williams, NEON.\n",
    "   </figcaption>\n",
    "</figure>\n",
    "\n",
    "\n",
    "### Raster Facts\n",
    "\n",
    "A few notes about rasters:\n",
    "\n",
    "-  Each cell is called a pixel.\n",
    "-  And each pixel represents an area on the ground.\n",
    "-  The resolution of the raster represents the area that each pixel represents on the ground. So, a 1 meter resolution raster, means that each pixel represents a 1 m by 1 m area on the ground.\n",
    "\n",
    "A raster dataset can have attributes associated with it as well. For instance in a Lidar derived digital elevation model (DEM), each cell represents an elevation value for that location on the earth. In a LIDAR derived intensity image, each cell represents a Lidar intensity value or the amount of light energy returned to and recorded by the sensor.\n",
    "\n",
    "\n",
    "<figure>\n",
    "   <a href=\"https://www.earthdatascience.org/images/earth-analytics/raster-data/raster-resolution.png\" target=\"_blank\">\n",
    "   <img src=\"https://www.earthdatascience.org/images/earth-analytics/raster-data/raster-resolution.png\" alt=\"Raster data resolution concept diagram.\"></a>\n",
    "   <figcaption>Rasters can be stored at different resolutions. The resolution simply\n",
    "   represents the size of each pixel cell. Source: Colin Williams, NEON.\n",
    "   </figcaption>\n",
    "</figure>\n",
    "\n",
    "\n",
    "In the next lesson, you will learn how to open a lidar raster dataset in **Python**."
   ]
  }
 ],
 "metadata": {
  "anaconda-cloud": {},
  "kernelspec": {
   "display_name": "Python 3",
   "language": "python",
   "name": "python3"
  },
  "language_info": {
   "codemirror_mode": {
    "name": "ipython",
    "version": 3
   },
   "file_extension": ".py",
   "mimetype": "text/x-python",
   "name": "python",
   "nbconvert_exporter": "python",
   "pygments_lexer": "ipython3",
   "version": "3.7.6"
  },
  "toc": {
   "base_numbering": 1,
   "nav_menu": {},
   "number_sections": true,
   "sideBar": true,
   "skip_h1_title": false,
   "title_cell": "Table of Contents",
   "title_sidebar": "Contents",
   "toc_cell": false,
   "toc_position": {},
   "toc_section_display": true,
   "toc_window_display": false
  },
  "varInspector": {
   "cols": {
    "lenName": 16,
    "lenType": 16,
    "lenVar": 40
   },
   "kernels_config": {
    "python": {
     "delete_cmd_postfix": "",
     "delete_cmd_prefix": "del ",
     "library": "var_list.py",
     "varRefreshCmd": "print(var_dic_list())"
    },
    "r": {
     "delete_cmd_postfix": ") ",
     "delete_cmd_prefix": "rm(",
     "library": "var_list.r",
     "varRefreshCmd": "cat(var_dic_list()) "
    }
   },
   "types_to_exclude": [
    "module",
    "function",
    "builtin_function_or_method",
    "instance",
    "_Feature"
   ],
   "window_display": false
  }
 },
 "nbformat": 4,
 "nbformat_minor": 2
}
