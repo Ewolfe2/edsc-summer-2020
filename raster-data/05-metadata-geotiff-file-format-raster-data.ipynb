{
 "cells": [
  {
   "cell_type": "markdown",
   "metadata": {},
   "source": [
    "<img style=\"float: left;\" src=\"../earth-lab-logo-rgb.png\" width=\"150\" height=\"150\">\n",
    "\n",
    "# Earth Data Science Corps Summer 2020\n",
    "\n",
    "![Colored Bar](../colored-bar.png)"
   ]
  },
  {
   "cell_type": "markdown",
   "metadata": {},
   "source": [
    "<div class='notice--success' markdown=\"1\">\n",
    "\n",
    "## <i class=\"fa fa-graduation-cap\" aria-hidden=\"true\"></i> Learning Objectives\n",
    "\n",
    "* Access metadata stored within a geotiff raster file via tif tags in Python.\n",
    "* Describe the difference between embedded metadata and non embedded metadata.\n",
    "* Use `.meta` to quickly view key spatial metadata attributes associated with a spatial file.\n",
    "\n",
    "</div>\n",
    "\n",
    "\n",
    "## What is a GeoTIFF?\n",
    "\n",
    "A GeoTIFF is a standard `.tif` or image file format that includes additional spatial\n",
    "(georeferencing) information embedded in the .tif file as tags. These embedded\n",
    "tags are called `tif tags`. These tags can include the following raster metadata:\n",
    "\n",
    "1. **Spatial Extent:** What area does this dataset cover?\n",
    "2. **Coordinate reference system:** What spatial projection / coordinate reference\n",
    "system is used to store the data? Will it line up with other data?\n",
    "3. **Resolution:** The data appears to be in **raster** format. This means it is\n",
    "composed of pixels. What area on the ground does each pixel cover - i.e. What is\n",
    "its spatial resolution?\n",
    "4. **`nodata` value**\n",
    "5. How many layers are in the .tif file. (more on that later)\n",
    "\n",
    "You discussed spatial extent and resolution in the previous lesson. When you work with\n",
    "geotiffs the spatial information that describes the raster data are embedded within\n",
    "the file itself.\n",
    "\n",
    "<i class=\"fa fa-star\"></i> **Data Tip:**  Your camera uses embedded tags to store\n",
    "information about pictures that you take including the camera make and model,\n",
    "and the time the image was taken.\n",
    "{: .notice--success }\n",
    "\n",
    "More about the  `.tif` format:\n",
    "\n",
    "* <a href=\"https://en.wikipedia.org/wiki/GeoTIFF\" target=\"_blank\"> GeoTIFF on Wikipedia</a>\n",
    "* <a href=\"https://trac.osgeo.org/geotiff/\" target=\"_blank\"> OSGEO TIFF documentation</a>\n",
    "\n",
    "### Geotiffs in Python\n",
    "\n",
    "The **rasterio** package in **Python** allows us to both open geotiff files and also to\n",
    "directly access `.tif tags` programmatically. You can quickly view the spatial **extent**,\n",
    "**coordinate reference system** and **resolution** of your raster data.\n",
    "\n",
    "NOTE: not all GeoTIFFs contain tif tags!"
   ]
  },
  {
   "cell_type": "code",
   "execution_count": 1,
   "metadata": {},
   "outputs": [],
   "source": [
    "# Import necessary packages\n",
    "import os\n",
    "import rasterio as rio\n",
    "import earthpy as et\n",
    "\n",
    "# Get data and set working directory\n",
    "et.data.get_data(\"colorado-flood\")\n",
    "os.chdir(os.path.join(et.io.HOME, 'earth-analytics'))"
   ]
  },
  {
   "cell_type": "markdown",
   "metadata": {},
   "source": [
    "Next let's open up a raster file in geotiff format (.tif). "
   ]
  },
  {
   "cell_type": "code",
   "execution_count": 2,
   "metadata": {},
   "outputs": [],
   "source": [
    "# Define relative path to file\n",
    "lidar_dem_path = os.path.join(\"data\", \"colorado-flood\", \"spatial\", \n",
    "                              \"boulder-leehill-rd\", \"pre-flood\", \"lidar\",\n",
    "                              \"pre_DTM.tif\")\n",
    "\n",
    "with rio.open(lidar_dem_path) as lidar_dem:\n",
    "    lidar_dem.bounds"
   ]
  },
  {
   "cell_type": "markdown",
   "metadata": {},
   "source": [
    "You can view spatial attibutes associated with the raster file too. Below you explore viewing a general list of attributes and then specific attributes including number of bands and horizontal (x, y) resolution."
   ]
  },
  {
   "cell_type": "code",
   "execution_count": 3,
   "metadata": {},
   "outputs": [
    {
     "data": {
      "text/plain": [
       "{'driver': 'GTiff',\n",
       " 'dtype': 'float32',\n",
       " 'nodata': -3.4028234663852886e+38,\n",
       " 'width': 4000,\n",
       " 'height': 2000,\n",
       " 'count': 1,\n",
       " 'crs': CRS.from_epsg(32613),\n",
       " 'transform': Affine(1.0, 0.0, 472000.0,\n",
       "        0.0, -1.0, 4436000.0)}"
      ]
     },
     "execution_count": 3,
     "metadata": {},
     "output_type": "execute_result"
    }
   ],
   "source": [
    "# View generate metadata associated with the raster file\n",
    "lidar_dem.meta"
   ]
  },
  {
   "cell_type": "code",
   "execution_count": 4,
   "metadata": {},
   "outputs": [
    {
     "data": {
      "text/plain": [
       "(1.0, 1.0)"
      ]
     },
     "execution_count": 4,
     "metadata": {},
     "output_type": "execute_result"
    }
   ],
   "source": [
    "# What is the spatial resolution?\n",
    "lidar_dem.res"
   ]
  },
  {
   "cell_type": "markdown",
   "metadata": {},
   "source": [
    "You can access the tif tags as well. "
   ]
  },
  {
   "cell_type": "code",
   "execution_count": 5,
   "metadata": {},
   "outputs": [
    {
     "name": "stdout",
     "output_type": "stream",
     "text": [
      "{'COMPRESSION': 'LZW', 'INTERLEAVE': 'BAND'}\n"
     ]
    }
   ],
   "source": [
    "# View image structure\n",
    "with rio.open(lidar_dem_path) as lidar_dem:\n",
    "    print(lidar_dem.tags(ns='IMAGE_STRUCTURE'))\n",
    "    lidar_dem_mask = lidar_dem.dataset_mask()"
   ]
  },
  {
   "cell_type": "markdown",
   "metadata": {},
   "source": [
    "### Raster Masks\n",
    "\n",
    "You can view the mask associated with the data too. Here values that `=0` are `nodata` values whereas `= 255` are usable data values. "
   ]
  },
  {
   "cell_type": "code",
   "execution_count": 6,
   "metadata": {},
   "outputs": [
    {
     "data": {
      "text/plain": [
       "array([[  0,   0,   0, ..., 255, 255, 255],\n",
       "       [  0,   0,   0, ..., 255, 255, 255],\n",
       "       [  0,   0,   0, ..., 255, 255, 255],\n",
       "       ...,\n",
       "       [  0,   0,   0, ..., 255, 255, 255],\n",
       "       [  0,   0,   0, ..., 255, 255, 255],\n",
       "       [  0,   0,   0, ..., 255, 255, 255]])"
      ]
     },
     "execution_count": 6,
     "metadata": {},
     "output_type": "execute_result"
    }
   ],
   "source": [
    "# View data mask\n",
    "lidar_dem_mask"
   ]
  },
  {
   "cell_type": "markdown",
   "metadata": {},
   "source": [
    "<div class='notice--success alert alert-info' markdown=\"1\">\n",
    "\n",
    "<i class = \"fa fa-star\"></i> **Data Tip:** Read more about attributes associated with rasterio objects and how they map to gdal objects.</div>\n",
    "\n",
    "The information returned from the various attributes called above includes:\n",
    "\n",
    "* x and y resolution\n",
    "* projection\n",
    "* data format (in this case your data are stored in float format which means they contain decimals)\n",
    "\n",
    "and more.\n",
    "\n",
    "You can also extract or view individual metadata attributes.\n"
   ]
  },
  {
   "cell_type": "code",
   "execution_count": 7,
   "metadata": {},
   "outputs": [
    {
     "name": "stdout",
     "output_type": "stream",
     "text": [
      "EPSG:32613\n",
      "BoundingBox(left=472000.0, bottom=4434000.0, right=476000.0, top=4436000.0)\n"
     ]
    }
   ],
   "source": [
    "print(lidar_dem.crs)\n",
    "print(lidar_dem.bounds)"
   ]
  },
  {
   "cell_type": "markdown",
   "metadata": {},
   "source": [
    "If you extract metadata from your data, you can then perform tests on the data as you process it. For instance, you can ask the question: \n",
    "\n",
    "* Do both datasets have the same spatial extent?\n",
    "\n",
    "Find out the answer to this question this using `Python`."
   ]
  },
  {
   "cell_type": "code",
   "execution_count": 8,
   "metadata": {},
   "outputs": [],
   "source": [
    "# Define relative path to file\n",
    "lidar_dsm_path = os.path.join(\"data\", \"colorado-flood\", \"spatial\", \n",
    "                              \"boulder-leehill-rd\", \"pre-flood\", \"lidar\",\n",
    "                              \"pre_DSM.tif\")\n",
    "\n",
    "# Open lidar dsm\n",
    "with rio.open(lidar_dsm_path) as lidar_dsm:\n",
    "    extent_lidar_dsm = lidar_dsm.bounds "
   ]
  },
  {
   "cell_type": "code",
   "execution_count": 9,
   "metadata": {},
   "outputs": [
    {
     "name": "stdout",
     "output_type": "stream",
     "text": [
      "Both datasets cover the same spatial extent\n"
     ]
    }
   ],
   "source": [
    "if lidar_dem.bounds == lidar_dsm.bounds:\n",
    "    print(\"Both datasets cover the same spatial extent\")"
   ]
  },
  {
   "cell_type": "markdown",
   "metadata": {},
   "source": [
    "How about resolution? Do both datasets have the same horizontal (x and y) resolution?"
   ]
  },
  {
   "cell_type": "code",
   "execution_count": 10,
   "metadata": {},
   "outputs": [
    {
     "data": {
      "text/plain": [
       "True"
      ]
     },
     "execution_count": 10,
     "metadata": {},
     "output_type": "execute_result"
    }
   ],
   "source": [
    "# Do both layers have the same spatial resolution?\n",
    "lidar_dsm.res == lidar_dem.res"
   ]
  },
  {
   "cell_type": "markdown",
   "metadata": {},
   "source": [
    "### Extra Metadata with EPSG\n",
    "EPSG is short-hand way of specifying many CRS parameters at once. Each EPSG code correspondings to a Proj4 code. In **rasterio**, more metadata is available if you use Proj4 instead of EPSG. \n",
    "\n",
    "To see the Proj4 parameters for a given EPSG code, you can either <a href=\"http://www.spatialreference.org/ref/epsg/32613/\" target=\"_blank\"> look them up online </a> or use the EPSG to Proj4 dictionary:"
   ]
  },
  {
   "cell_type": "code",
   "execution_count": 11,
   "metadata": {},
   "outputs": [
    {
     "data": {
      "text/plain": [
       "{'init': 'epsg:32613'}"
      ]
     },
     "execution_count": 11,
     "metadata": {},
     "output_type": "execute_result"
    }
   ],
   "source": [
    "# Get crs of a rasterio object\n",
    "lidar_dem.crs.data"
   ]
  },
  {
   "cell_type": "markdown",
   "metadata": {},
   "source": [
    "You can use `et.epsg` lookup to get the proj4 string for an epsg code too.\n",
    "Earthpy is a python package build for you by your instructors. We are working on better documentation for it\n",
    "but for the time being you will find snippets of how to use it here. "
   ]
  },
  {
   "cell_type": "code",
   "execution_count": 12,
   "metadata": {},
   "outputs": [
    {
     "data": {
      "text/plain": [
       "'+proj=utm +zone=13 +datum=WGS84 +units=m +no_defs'"
      ]
     },
     "execution_count": 12,
     "metadata": {},
     "output_type": "execute_result"
    }
   ],
   "source": [
    "et.epsg['32613']"
   ]
  },
  {
   "cell_type": "markdown",
   "metadata": {},
   "source": [
    "## Single Layer (or Band) vs Multi-Layer (Band Geotiffs)\n",
    "\n",
    "You will learn more about multi vs single band imagery when you work with RGB (color) imagery in later weeks\n",
    "of this course. However geotiffs can also store more than one band or layer. You\n",
    "can see if a raster object has more than one layer using the `.count()` function\n",
    "in **Python**."
   ]
  },
  {
   "cell_type": "code",
   "execution_count": 13,
   "metadata": {},
   "outputs": [
    {
     "name": "stdout",
     "output_type": "stream",
     "text": [
      "1\n"
     ]
    }
   ],
   "source": [
    "print(lidar_dem.count)"
   ]
  },
  {
   "cell_type": "markdown",
   "metadata": {},
   "source": [
    "Another way to see the number of bands is to use the .indexes attribute."
   ]
  },
  {
   "cell_type": "code",
   "execution_count": 14,
   "metadata": {},
   "outputs": [
    {
     "name": "stdout",
     "output_type": "stream",
     "text": [
      "number of bands (1,)\n"
     ]
    }
   ],
   "source": [
    "# How many bands / layers does the object have?\n",
    "print(\"number of bands\", lidar_dem.indexes)"
   ]
  }
 ],
 "metadata": {
  "anaconda-cloud": {},
  "celltoolbar": "Tags",
  "kernelspec": {
   "display_name": "Python 3",
   "language": "python",
   "name": "python3"
  },
  "language_info": {
   "codemirror_mode": {
    "name": "ipython",
    "version": 3
   },
   "file_extension": ".py",
   "mimetype": "text/x-python",
   "name": "python",
   "nbconvert_exporter": "python",
   "pygments_lexer": "ipython3",
   "version": "3.7.6"
  },
  "toc": {
   "base_numbering": 1,
   "nav_menu": {},
   "number_sections": true,
   "sideBar": true,
   "skip_h1_title": false,
   "title_cell": "Table of Contents",
   "title_sidebar": "Contents",
   "toc_cell": false,
   "toc_position": {},
   "toc_section_display": true,
   "toc_window_display": false
  },
  "varInspector": {
   "cols": {
    "lenName": 16,
    "lenType": 16,
    "lenVar": 40
   },
   "kernels_config": {
    "python": {
     "delete_cmd_postfix": "",
     "delete_cmd_prefix": "del ",
     "library": "var_list.py",
     "varRefreshCmd": "print(var_dic_list())"
    },
    "r": {
     "delete_cmd_postfix": ") ",
     "delete_cmd_prefix": "rm(",
     "library": "var_list.r",
     "varRefreshCmd": "cat(var_dic_list()) "
    }
   },
   "types_to_exclude": [
    "module",
    "function",
    "builtin_function_or_method",
    "instance",
    "_Feature"
   ],
   "window_display": false
  }
 },
 "nbformat": 4,
 "nbformat_minor": 2
}
